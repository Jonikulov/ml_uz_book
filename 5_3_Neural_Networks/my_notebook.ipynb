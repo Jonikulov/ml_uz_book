{
 "cells": [
  {
   "cell_type": "markdown",
   "id": "ba021c27-a8f7-4cf6-8771-b2aec1e05378",
   "metadata": {},
   "source": [
    "# Neyron Tarmoqlari\n",
    "\n",
    "---\n",
    "\n",
    "- `h5py` kutubxonasi - https://docs.h5py.org/en/stable/\n",
    "- `MNIST` ma'lumotlar to'plami -  http://yann.lecun.com/exdb/mnist/\n",
    "- `MNISTdata.hdf5` fayli - https://github.com/share020/dl/blob/master/assignments/mp1/MNISTdata.hdf5\n",
    "- MNIST ma'lumotlar to'plami bilan ishlash uchun `python-mnist` kutubxonasi - https://github.com/sorki/python-mnist"
   ]
  },
  {
   "cell_type": "code",
   "execution_count": 6,
   "id": "36836291-a848-4596-b778-c453bd9ba545",
   "metadata": {},
   "outputs": [
    {
     "name": "stdout",
     "output_type": "stream",
     "text": [
      "Collecting h5py\n",
      "  Obtaining dependency information for h5py from https://files.pythonhosted.org/packages/98/e0/679ec9293f69e28406215d2209a949c7e615d459fdee90103e8bb0d75c41/h5py-3.10.0-cp39-cp39-win_amd64.whl.metadata\n",
      "  Downloading h5py-3.10.0-cp39-cp39-win_amd64.whl.metadata (2.5 kB)\n",
      "Requirement already satisfied: python-mnist in c:\\users\\javohir\\miniconda3\\envs\\mohirdsai\\lib\\site-packages (0.7)\n",
      "Requirement already satisfied: numpy>=1.17.3 in c:\\users\\javohir\\miniconda3\\envs\\mohirdsai\\lib\\site-packages (from h5py) (1.25.2)\n",
      "Downloading h5py-3.10.0-cp39-cp39-win_amd64.whl (2.7 MB)\n",
      "   ---------------------------------------- 0.0/2.7 MB ? eta -:--:--\n",
      "   ---------------------------------------- 0.0/2.7 MB ? eta -:--:--\n",
      "   ---------------------------------------- 0.0/2.7 MB 445.2 kB/s eta 0:00:07\n",
      "    --------------------------------------- 0.0/2.7 MB 330.3 kB/s eta 0:00:09\n",
      "   - -------------------------------------- 0.1/2.7 MB 525.1 kB/s eta 0:00:05\n",
      "   - -------------------------------------- 0.1/2.7 MB 504.4 kB/s eta 0:00:06\n",
      "   -- ------------------------------------- 0.2/2.7 MB 655.4 kB/s eta 0:00:04\n",
      "   --- ------------------------------------ 0.2/2.7 MB 811.5 kB/s eta 0:00:04\n",
      "   ---- ----------------------------------- 0.3/2.7 MB 865.8 kB/s eta 0:00:03\n",
      "   ------- -------------------------------- 0.5/2.7 MB 1.3 MB/s eta 0:00:02\n",
      "   -------- ------------------------------- 0.6/2.7 MB 1.3 MB/s eta 0:00:02\n",
      "   ------------ --------------------------- 0.9/2.7 MB 1.8 MB/s eta 0:00:02\n",
      "   --------------- ------------------------ 1.0/2.7 MB 2.0 MB/s eta 0:00:01\n",
      "   ------------------- -------------------- 1.3/2.7 MB 2.2 MB/s eta 0:00:01\n",
      "   ---------------------- ----------------- 1.5/2.7 MB 2.5 MB/s eta 0:00:01\n",
      "   ---------------------------- ----------- 1.9/2.7 MB 2.8 MB/s eta 0:00:01\n",
      "   ------------------------------- -------- 2.1/2.7 MB 2.9 MB/s eta 0:00:01\n",
      "   ------------------------------------ --- 2.4/2.7 MB 3.2 MB/s eta 0:00:01\n",
      "   ---------------------------------------  2.7/2.7 MB 3.4 MB/s eta 0:00:01\n",
      "   ---------------------------------------- 2.7/2.7 MB 3.3 MB/s eta 0:00:00\n",
      "Installing collected packages: h5py\n",
      "Successfully installed h5py-3.10.0\n"
     ]
    }
   ],
   "source": [
    "!pip install h5py python-mnist"
   ]
  },
  {
   "cell_type": "code",
   "execution_count": 7,
   "id": "67d7723d-3b2f-45d2-9c93-f006ade2521f",
   "metadata": {},
   "outputs": [],
   "source": [
    "import numpy as np\n",
    "import matplotlib.pyplot as plt\n",
    "import h5py\n",
    "from sklearn import metrics"
   ]
  },
  {
   "cell_type": "code",
   "execution_count": 8,
   "id": "568017fc-7d90-4d70-bc21-bc2b3aa07c8e",
   "metadata": {},
   "outputs": [],
   "source": [
    "MNIST_data = h5py.File(\"./MNISTdata.hdf5\", 'r')"
   ]
  },
  {
   "cell_type": "code",
   "execution_count": 10,
   "id": "5b3063b1-f7b7-41a0-a364-0c11f5e31f1a",
   "metadata": {},
   "outputs": [],
   "source": [
    "x_train = np.float32(MNIST_data['x_train'][:])\n",
    "y_train = np.int32(np.array(MNIST_data['y_train'][:, 0])).reshape(-1, 1)\n",
    "x_test = np.float32(MNIST_data['x_test'][:])\n",
    "y_test = np.int32(np.array(MNIST_data['y_test'][:, 0])).reshape(-1, 1)\n",
    "\n",
    "MNIST_data.close()"
   ]
  },
  {
   "cell_type": "code",
   "execution_count": 25,
   "id": "53c1e89d-4419-44d8-b147-bd61fd6f4b07",
   "metadata": {},
   "outputs": [
    {
     "data": {
      "text/plain": [
       "<matplotlib.image.AxesImage at 0x269b63c2fd0>"
      ]
     },
     "execution_count": 25,
     "metadata": {},
     "output_type": "execute_result"
    },
    {
     "data": {
      "image/png": "[encoded data removed]",
      "text/plain": [
       "<Figure size 640x480 with 1 Axes>"
      ]
     },
     "metadata": {},
     "output_type": "display_data"
    }
   ],
   "source": [
    "plt.imshow(x_train[0, :].reshape(28, 28), cmap='gray')"
   ]
  },
  {
   "cell_type": "code",
   "execution_count": 26,
   "id": "3085404c-001b-42d5-8987-21c5ec9f45d4",
   "metadata": {},
   "outputs": [
    {
     "data": {
      "text/plain": [
       "((60000, 784), (60000, 1), (10000, 784), (10000, 1))"
      ]
     },
     "execution_count": 26,
     "metadata": {},
     "output_type": "execute_result"
    }
   ],
   "source": [
    "x_train.shape, y_train.shape, x_test.shape, y_test.shape"
   ]
  },
  {
   "cell_type": "code",
   "execution_count": 28,
   "id": "dd602324-a46f-41ce-bb6d-27364dc5d716",
   "metadata": {},
   "outputs": [],
   "source": [
    "x_train = x_train.T\n",
    "x_test = x_test.T"
   ]
  },
  {
   "cell_type": "code",
   "execution_count": 31,
   "id": "a7e5f81a-47f1-4365-b224-a340aae8fe1b",
   "metadata": {},
   "outputs": [
    {
     "data": {
      "text/plain": [
       "((784, 60000), (60000, 1), (784, 10000), (10000, 1))"
      ]
     },
     "execution_count": 31,
     "metadata": {},
     "output_type": "execute_result"
    }
   ],
   "source": [
    "x_train.shape, y_train.shape, x_test.shape, y_test.shape"
   ]
  },
  {
   "cell_type": "code",
   "execution_count": 44,
   "id": "2c74ba97-17e6-4aaa-9ef3-a734eb488a4c",
   "metadata": {},
   "outputs": [
    {
     "data": {
      "text/plain": [
       "array([[5],\n",
       "       [0],\n",
       "       [4],\n",
       "       ...,\n",
       "       [5],\n",
       "       [6],\n",
       "       [8]])"
      ]
     },
     "execution_count": 44,
     "metadata": {},
     "output_type": "execute_result"
    }
   ],
   "source": [
    "y_train[:, :10]"
   ]
  },
  {
   "cell_type": "code",
   "execution_count": 52,
   "id": "6da4d861-5d84-4dd5-ab49-264417012ffb",
   "metadata": {},
   "outputs": [
    {
     "data": {
      "text/plain": [
       "(60000, 10000)"
      ]
     },
     "execution_count": 52,
     "metadata": {},
     "output_type": "execute_result"
    }
   ],
   "source": [
    "digits = 10\n",
    "m_train = y_train.shape[0]  # 60_000\n",
    "m_test = y_test.shape[0]  # 10_000\n",
    "\n",
    "m_train, m_test"
   ]
  },
  {
   "cell_type": "code",
   "execution_count": 54,
   "id": "95738ea8-8d43-430f-a9c2-edd9503a21f4",
   "metadata": {},
   "outputs": [],
   "source": [
    "y_train_old = y_train\n",
    "y_test_old = y_test\n",
    "y_train = np.eye(digits)[y_train.astype('int32')]\n",
    "y_train = y_train.T.reshape(digits, m_train)\n",
    "\n",
    "y_test = np.eye(digits)[y_test.astype('int32')]\n",
    "y_test = y_test.T.reshape(digits, m_test)"
   ]
  },
  {
   "cell_type": "code",
   "execution_count": 62,
   "id": "33a3e591-ba2a-4fe2-9ea4-822a81abe3c7",
   "metadata": {},
   "outputs": [
    {
     "name": "stdout",
     "output_type": "stream",
     "text": [
      "[4]\n"
     ]
    },
    {
     "data": {
      "text/plain": [
       "array([0., 0., 0., 0., 1., 0., 0., 0., 0., 0.])"
      ]
     },
     "execution_count": 62,
     "metadata": {},
     "output_type": "execute_result"
    }
   ],
   "source": [
    "print(y_train_old[2, :])\n",
    "y_train[:, 2]"
   ]
  },
  {
   "cell_type": "code",
   "execution_count": 63,
   "id": "8599478f-6d3f-4d00-9aea-484293441ad2",
   "metadata": {},
   "outputs": [],
   "source": [
    "lr = 0.5  # learning rate\n",
    "epochs = 50  # number of epochs to train\n",
    "n_x = 784  # number of inputs\n",
    "n_h = 64  # input batch size\n",
    "batch_size = 64  # input batch size\n",
    "batches = m_train // batch_size  # number of batches"
   ]
  },
  {
   "cell_type": "code",
   "execution_count": 64,
   "id": "3fa71394-b7a1-4906-bcf4-8cd173b0596e",
   "metadata": {},
   "outputs": [],
   "source": [
    "# initialization\n",
    "params = {'A1':np.random.randn(n_h, n_x) * np.sqrt(1 / n_x),\n",
    "          'b1':np.zeros((n_h, 1)),\n",
    "          'A2':np.random.randn(digits, n_h) * np.sqrt(1 / n_h),\n",
    "          'b2':np.zeros((digits, 1))\n",
    "         }"
   ]
  },
  {
   "cell_type": "code",
   "execution_count": 68,
   "id": "2788c634-8cbd-45bd-8c7d-20113a0951fd",
   "metadata": {},
   "outputs": [],
   "source": [
    "dA1 = np.zeros(params['A1'].shape)\n",
    "db1 = np.zeros(params['b1'].shape)\n",
    "dA2 = np.zeros(params['A2'].shape)\n",
    "db2 = np.zeros(params['b2'].shape)"
   ]
  },
  {
   "cell_type": "code",
   "execution_count": 71,
   "id": "ce42b270-c205-4d5c-b6dd-cd4df167bed2",
   "metadata": {},
   "outputs": [],
   "source": [
    "def layer_multiplication(A, C, B):\n",
    "    return np.matmul(A, C) + B"
   ]
  },
  {
   "cell_type": "code",
   "execution_count": 72,
   "id": "6b3c14d0-ca94-4486-8a95-7950a1a6945a",
   "metadata": {},
   "outputs": [],
   "source": [
    "def sigmoid(Z):\n",
    "    s = 1 / (1 + np.exp(-Z))\n",
    "    return s"
   ]
  },
  {
   "cell_type": "code",
   "execution_count": 73,
   "id": "d07b8bad-4a4b-4aff-b724-bee2f22071b7",
   "metadata": {},
   "outputs": [],
   "source": [
    "def softmax(Z):\n",
    "    return np.exp(Z) / np.sum(np.exp(Z), axis=0)"
   ]
  },
  {
   "cell_type": "code",
   "execution_count": 75,
   "id": "1ce95d84-519f-435d-9863-0724f1fca240",
   "metadata": {},
   "outputs": [],
   "source": [
    "def compute_loss(Y, Y_hat):\n",
    "    \"\"\"compute loss function\"\"\"\n",
    "    L_sum = np.sum(np.multiply(Y, np.log(Y_hat)))\n",
    "    m = Y.shape[1]\n",
    "    L = - (1 / m) * L_sum\n",
    "\n",
    "    return L"
   ]
  },
  {
   "cell_type": "code",
   "execution_count": 76,
   "id": "56d19462-903b-429b-a914-cd8849cb148b",
   "metadata": {},
   "outputs": [],
   "source": [
    "def feed_forward(X, params):\n",
    "    cache = {}\n",
    "\n",
    "    # Z1 = A1.dot(x) + b1\n",
    "    cache['Z1'] = layer_multiplication(params['A1'], X, params['b1'])\n",
    "\n",
    "    # C1 = sigmoid(Z1)\n",
    "    cache['C1'] = sigmoid(cache['Z1'])\n",
    "\n",
    "    # Z2 = A2.dot(A1) + b2\n",
    "    cache['Z2'] = layer_multiplication(params['A2'], cache['C1'], params['b2'])\n",
    "\n",
    "    # C2 = softmax(Z2)\n",
    "    cache['C2'] = softmax(cache['Z2'])\n",
    "\n",
    "    return cache"
   ]
  },
  {
   "cell_type": "code",
   "execution_count": 78,
   "id": "fa63c819-3ea4-4422-98e7-4b8dd27bf272",
   "metadata": {},
   "outputs": [],
   "source": [
    "def back_propagate(X, Y, params, cache, m_batch):\n",
    "    # error at last layer\n",
    "    delta_2 = cache['C2'] - Y\n",
    "\n",
    "    # gradient at last layer (Py2 need 1. to transform to float)\n",
    "    dA2 = (1 / m_batch) * np.matmul(delta_2, cache['C1'].T)\n",
    "    db2 = (1 / m_batch) * np.sum(delta_2, axis=1, keepdims=True)\n",
    "\n",
    "    # back propagate through first layer\n",
    "    delta_1 = np.matmul(params['A2'].T, delta_2) * (sigmoid(cache['Z1'])) * (1-sigmoid(cache['Z1']))\n",
    "\n",
    "    # gradients at first layer (Py2 need 1 to transform to float)\n",
    "    dA1 = (1 / m_batch) * np.matmul(delta_1, X.T)\n",
    "    db1 = (1 / m_batch) * np.sum(delta_1, axis=1, keepdims=True)\n",
    "\n",
    "    grads = {'dA1':dA1, 'db1':db1, 'dA2':dA2, 'db2':db2}\n",
    "\n",
    "    return grads"
   ]
  },
  {
   "cell_type": "code",
   "execution_count": 80,
   "id": "dcfd64b2-734b-4590-8365-49e93f8ee57f",
   "metadata": {},
   "outputs": [
    {
     "name": "stdout",
     "output_type": "stream",
     "text": [
      "Epoch 1: training loss = 0.2533675116380132, test loss = 0.24873565902227365\n",
      "Epoch 11: training loss = 0.05993177692326472, test loss = 0.0851611700273807\n",
      "Epoch 21: training loss = 0.031244950438720984, test loss = 0.07213923978684854\n",
      "Epoch 31: training loss = 0.019853395601791522, test loss = 0.07197245448915922\n",
      "Epoch 41: training loss = 0.011542681474401005, test loss = 0.07172258709568542\n",
      "Epoch 50: training loss = 0.008308870573112512, test loss = 0.07442632263533461\n"
     ]
    }
   ],
   "source": [
    "test_costs = []\n",
    "train_costs = []\n",
    "\n",
    "# training\n",
    "for i in range(epochs):\n",
    "\n",
    "    # shuffle training set\n",
    "    permutation = np.random.permutation(x_train.shape[1])\n",
    "    X_train_shuffled = x_train[:, permutation]\n",
    "    Y_train_shuffled = y_train[:, permutation]\n",
    "\n",
    "    for j in range(batches):\n",
    "\n",
    "        # get mini-batch\n",
    "        begin = j * batch_size\n",
    "        end = min(begin + batch_size, x_train.shape[1] - 1)\n",
    "        X = X_train_shuffled[:, begin:end]\n",
    "        Y = Y_train_shuffled[:, begin:end]\n",
    "        m_batch = end - begin\n",
    "\n",
    "        # forward and backward\n",
    "        cache = feed_forward(X, params)\n",
    "        grads = back_propagate(X, Y, params, cache, m_batch)\n",
    "        \n",
    "        dA1 = grads[\"dA1\"]\n",
    "        db1 = grads[\"db1\"]\n",
    "        dA2 = grads[\"dA2\"]\n",
    "        db2 = grads[\"db2\"]\n",
    "        \n",
    "        # gradient descent\n",
    "        params[\"A1\"] = params[\"A1\"] - lr * dA1\n",
    "        params[\"b1\"] = params[\"b1\"] - lr * db1\n",
    "        params[\"A2\"] = params[\"A2\"] - lr * dA2\n",
    "        params[\"b2\"] = params[\"b2\"] - lr * db2\n",
    "\n",
    "    # forward pass on training set\n",
    "    cache = feed_forward(x_train, params)\n",
    "    train_loss = compute_loss(y_train, cache[\"C2\"])\n",
    "    train_costs.append(train_loss)\n",
    "\n",
    "    # forward pass on test set\n",
    "    cache = feed_forward(x_test, params)\n",
    "    test_loss = compute_loss(y_test, cache[\"C2\"])\n",
    "    test_costs.append(test_loss)\n",
    "\n",
    "    if i % 10 == 0 or i == epochs-1:\n",
    "        print(f\"Epoch {i+1}: training loss = {train_loss}, test loss = {test_loss}\")"
   ]
  },
  {
   "cell_type": "code",
   "execution_count": 82,
   "id": "72acda56-601c-4c6a-82b3-5baf42e23917",
   "metadata": {},
   "outputs": [],
   "source": [
    "def plot_cost(train_costs, test_costs, epochs):\n",
    "    plt.xlabel('Epochs')\n",
    "    plt.ylabel('Cost')\n",
    "    plt.plot(epochs, train_costs, 'm', linewidth = '1', color='r', label='mashqdagi xatolik')\n",
    "    plt.plot(epochs, test_costs, 'm', linewidth = '1', color='g', label='testdagi xatolik')\n",
    "    plt.legend(loc='upper right')\n",
    "    plt.show()"
   ]
  },
  {
   "cell_type": "code",
   "execution_count": 84,
   "id": "fdf93855-829c-43d4-a903-b69ef08e50ba",
   "metadata": {},
   "outputs": [
    {
     "name": "stderr",
     "output_type": "stream",
     "text": [
      "C:\\Users\\JAVOHIR\\AppData\\Local\\Temp\\ipykernel_8692\\1235243880.py:4: UserWarning: color is redundantly defined by the 'color' keyword argument and the fmt string \"m\" (-> color=(0.75, 0.0, 0.75, 1)). The keyword argument will take precedence.\n",
      "  plt.plot(epochs, train_costs, 'm', linewidth = '1', color='r', label='mashqdagi xatolik')\n",
      "C:\\Users\\JAVOHIR\\AppData\\Local\\Temp\\ipykernel_8692\\1235243880.py:5: UserWarning: color is redundantly defined by the 'color' keyword argument and the fmt string \"m\" (-> color=(0.75, 0.0, 0.75, 1)). The keyword argument will take precedence.\n",
      "  plt.plot(epochs, test_costs, 'm', linewidth = '1', color='g', label='testdagi xatolik')\n"
     ]
    },
    {
     "data": {
      "image/png": "[encoded data removed]",
      "text/plain": [
       "<Figure size 640x480 with 1 Axes>"
      ]
     },
     "metadata": {},
     "output_type": "display_data"
    }
   ],
   "source": [
    "n_epochs = np.arange(1, epochs + 1)\n",
    "plt.figure(figsize=(8, 6), dpi=80)\n",
    "plot_cost(train_costs, test_costs, n_epochs)"
   ]
  },
  {
   "cell_type": "code",
   "execution_count": 86,
   "id": "f53cc952-0857-4646-b35f-41b0c12edc9b",
   "metadata": {},
   "outputs": [],
   "source": [
    "test_predictions = feed_forward(x_test, params)['C2']\n",
    "test_predictions"
   ]
  },
  {
   "cell_type": "code",
   "execution_count": 88,
   "id": "4a39a4ab-8456-4e2b-b896-1b72d2d43030",
   "metadata": {},
   "outputs": [
    {
     "data": {
      "text/plain": [
       "array([7, 2, 1, ..., 4, 5, 6], dtype=int64)"
      ]
     },
     "execution_count": 88,
     "metadata": {},
     "output_type": "execute_result"
    }
   ],
   "source": [
    "test_predictions_label = np.argmax(test_predictions, axis=0)\n",
    "test_predictions_label"
   ]
  },
  {
   "cell_type": "code",
   "execution_count": 92,
   "id": "b00ed7f7-e8e3-459c-ac41-8afa8eae45c3",
   "metadata": {},
   "outputs": [
    {
     "data": {
      "text/plain": [
       "array([[7],\n",
       "       [2],\n",
       "       [1],\n",
       "       ...,\n",
       "       [4],\n",
       "       [5],\n",
       "       [6]])"
      ]
     },
     "execution_count": 92,
     "metadata": {},
     "output_type": "execute_result"
    }
   ],
   "source": [
    "y_test_old"
   ]
  },
  {
   "cell_type": "code",
   "execution_count": 93,
   "id": "94abb389-c9ed-40db-bd6c-f40ecd47e75e",
   "metadata": {},
   "outputs": [
    {
     "data": {
      "text/plain": [
       "array([7, 2, 1, ..., 4, 5, 6])"
      ]
     },
     "execution_count": 93,
     "metadata": {},
     "output_type": "execute_result"
    }
   ],
   "source": [
    "y_test_old_ = np.ravel(y_test_old)\n",
    "y_test_old_"
   ]
  },
  {
   "cell_type": "code",
   "execution_count": 101,
   "id": "9b96a325-c72e-4c6d-941a-f07479611288",
   "metadata": {},
   "outputs": [],
   "source": [
    "# https://stackoverflow.com/a/53387268/4361020\n",
    "def confusion_matrix(actual, predicted):\n",
    "    classes = np.unique(np.concatenate((actual, predicted)))\n",
    "    confusion_mtx = np.empty((len(classes), len(classes)), dtype=int)\n",
    "    for i, a in enumerate(classes):\n",
    "        for j, p in enumerate(classes):\n",
    "            confusion_mtx[i,j] = np.where((actual==a) * (predicted==p))[0].shape[0]\n",
    "    return confusion_mtx"
   ]
  },
  {
   "cell_type": "code",
   "execution_count": 107,
   "id": "5c828a41-8633-4870-a2e6-eb4414c4e610",
   "metadata": {},
   "outputs": [
    {
     "data": {
      "text/plain": [
       "array([[ 968,    1,    1,    1,    0,    2,    2,    1,    1,    3],\n",
       "       [   0, 1123,    4,    1,    0,    1,    2,    1,    3,    0],\n",
       "       [   3,    0, 1006,    7,    3,    0,    3,    6,    3,    1],\n",
       "       [   1,    0,    2,  992,    0,    5,    0,    3,    4,    3],\n",
       "       [   1,    0,    3,    0,  960,    0,    2,    1,    1,   14],\n",
       "       [   3,    1,    0,   10,    0,  868,    4,    1,    3,    2],\n",
       "       [   3,    3,    4,    1,    1,    3,  940,    0,    2,    1],\n",
       "       [   0,    3,    8,    6,    2,    0,    0,  996,    2,   11],\n",
       "       [   4,    0,    2,    9,    6,    4,    4,    0,  943,    2],\n",
       "       [   3,    4,    0,    7,   10,    4,    0,    4,    1,  976]])"
      ]
     },
     "execution_count": 107,
     "metadata": {},
     "output_type": "execute_result"
    }
   ],
   "source": [
    "cf = confusion_matrix(y_test_old_, test_predictions_label)\n",
    "cf"
   ]
  },
  {
   "cell_type": "code",
   "execution_count": 105,
   "id": "c573a9fc-b2eb-4b19-8d67-55c5315016ea",
   "metadata": {},
   "outputs": [
    {
     "data": {
      "text/plain": [
       "array([[ 968,    1,    1,    1,    0,    2,    2,    1,    1,    3],\n",
       "       [   0, 1123,    4,    1,    0,    1,    2,    1,    3,    0],\n",
       "       [   3,    0, 1006,    7,    3,    0,    3,    6,    3,    1],\n",
       "       [   1,    0,    2,  992,    0,    5,    0,    3,    4,    3],\n",
       "       [   1,    0,    3,    0,  960,    0,    2,    1,    1,   14],\n",
       "       [   3,    1,    0,   10,    0,  868,    4,    1,    3,    2],\n",
       "       [   3,    3,    4,    1,    1,    3,  940,    0,    2,    1],\n",
       "       [   0,    3,    8,    6,    2,    0,    0,  996,    2,   11],\n",
       "       [   4,    0,    2,    9,    6,    4,    4,    0,  943,    2],\n",
       "       [   3,    4,    0,    7,   10,    4,    0,    4,    1,  976]])"
      ]
     },
     "execution_count": 105,
     "metadata": {},
     "output_type": "execute_result"
    }
   ],
   "source": [
    "for i in range(10):\n",
    "    # printing labels\n",
    "    if i == 0:\n",
    "        print"
   ]
  },
  {
   "cell_type": "code",
   "execution_count": 108,
   "id": "e734931b-2cd4-4480-a5e8-38704aa9570b",
   "metadata": {},
   "outputs": [
    {
     "name": "stdout",
     "output_type": "stream",
     "text": [
      "\tb: 0\tb: 1\tb: 2\tb: 3\tb: 4\tb: 5\tb: 6\tb: 7\tb: 8\tb: 9\t\n",
      "\n",
      "t: 0\t968\t1\t1\t1\t0\t2\t2\t1\t1\t3\t\n",
      "\n",
      "t: 1\t0\t1123\t4\t1\t0\t1\t2\t1\t3\t0\t\n",
      "\n",
      "t: 2\t3\t0\t1006\t7\t3\t0\t3\t6\t3\t1\t\n",
      "\n",
      "t: 3\t1\t0\t2\t992\t0\t5\t0\t3\t4\t3\t\n",
      "\n",
      "t: 4\t1\t0\t3\t0\t960\t0\t2\t1\t1\t14\t\n",
      "\n",
      "t: 5\t3\t1\t0\t10\t0\t868\t4\t1\t3\t2\t\n",
      "\n",
      "t: 6\t3\t3\t4\t1\t1\t3\t940\t0\t2\t1\t\n",
      "\n",
      "t: 7\t0\t3\t8\t6\t2\t0\t0\t996\t2\t11\t\n",
      "\n",
      "t: 8\t4\t0\t2\t9\t6\t4\t4\t0\t943\t2\t\n",
      "\n",
      "t: 9\t3\t4\t0\t7\t10\t4\t0\t4\t1\t976\t\n",
      "\n"
     ]
    }
   ],
   "source": [
    "for i in range(10):\n",
    "    #printing labels\n",
    "    if i ==0:\n",
    "        print('\\t', end='')\n",
    "        for j in range(10):\n",
    "            print('b:', j, end='\\t')\n",
    "        print('\\n')\n",
    "    \n",
    "    print('t:', i, end='\\t')\n",
    "    for j in range(10):\n",
    "        print(cf[i][j], end='\\t')\n",
    "    print('\\n')"
   ]
  },
  {
   "cell_type": "code",
   "execution_count": 109,
   "id": "30caeeea-4ea5-4132-b975-48e522e2aa05",
   "metadata": {},
   "outputs": [],
   "source": [
    "def calculate_f1_score_accuracy(cf, n):\n",
    "    actual_sum = np.sum(cf, axis=1)\n",
    "    predicted_sum = np.sum(cf, axis=0)\n",
    "    print('raqam \\t precision \\t recall \\t f1-score haqiqiy_klasslar soni')\n",
    "    total_correct_sum = 0\n",
    "    for i in range(10):\n",
    "        correct_sum = cf[i][i]\n",
    "        total_correct_sum += correct_sum\n",
    "        precision = correct_sum / predicted_sum[i]\n",
    "        recall = correct_sum / actual_sum[i]\n",
    "        f1_score = 2 * precision * recall / (precision + recall)\n",
    "        print(i, '\\t', round(precision, 5), '\\t', round(recall, 5),'\\t', round(f1_score, 5),'\\t', actual_sum[i])\n",
    "    total_accuracy = total_correct_sum / n\n",
    "    print('Accuracy: ', total_accuracy)"
   ]
  },
  {
   "cell_type": "code",
   "execution_count": 110,
   "id": "4f4581db-9b19-451a-bc44-f28e000c152e",
   "metadata": {},
   "outputs": [
    {
     "name": "stdout",
     "output_type": "stream",
     "text": [
      "raqam \t precision \t recall \t f1-score haqiqiy_klasslar soni\n",
      "0 \t 0.98174 \t 0.98776 \t 0.98474 \t 980\n",
      "1 \t 0.98943 \t 0.98943 \t 0.98943 \t 1135\n",
      "2 \t 0.9767 \t 0.97481 \t 0.97575 \t 1032\n",
      "3 \t 0.95938 \t 0.98218 \t 0.97065 \t 1010\n",
      "4 \t 0.9776 \t 0.9776 \t 0.9776 \t 982\n",
      "5 \t 0.97858 \t 0.97309 \t 0.97583 \t 892\n",
      "6 \t 0.98224 \t 0.98121 \t 0.98172 \t 958\n",
      "7 \t 0.98322 \t 0.96887 \t 0.97599 \t 1028\n",
      "8 \t 0.97923 \t 0.96817 \t 0.97367 \t 974\n",
      "9 \t 0.96347 \t 0.96729 \t 0.96538 \t 1009\n",
      "Accuracy:  0.9772\n"
     ]
    }
   ],
   "source": [
    "calculate_f1_score_accuracy(cf, m_test)"
   ]
  },
  {
   "cell_type": "code",
   "execution_count": null,
   "id": "31391bad-d2d8-471e-a69f-06c2323ef832",
   "metadata": {},
   "outputs": [],
   "source": []
  }
 ],
 "metadata": {
  "kernelspec": {
   "display_name": "Python 3 (ipykernel)",
   "language": "python",
   "name": "python3"
  },
  "language_info": {
   "codemirror_mode": {
    "name": "ipython",
    "version": 3
   },
   "file_extension": ".py",
   "mimetype": "text/x-python",
   "name": "python",
   "nbconvert_exporter": "python",
   "pygments_lexer": "ipython3",
   "version": "3.9.18"
  }
 },
 "nbformat": 4,
 "nbformat_minor": 5
}
