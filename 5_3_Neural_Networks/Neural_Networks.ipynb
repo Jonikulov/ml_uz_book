{
 "cells": [
  {
   "cell_type": "markdown",
   "metadata": {},
   "source": [
    "Ushbu amaliy mashg'ulotda *Jupyter Notebook* dasturi orqali Piton dasturlash tilida Neyron tarmoq muammosini o'rganamiz.\n",
    "\n",
    "Quyidagi Piton bibliotekalarini yuklab olamiz:\n",
    "- *numpy* - Pitonda massivlar bilan ishlash uchun\n",
    "- *matplotlib* - Pitonda vizualizatsiya, diagrammalar bilan ishlash\n",
    "- *h5py* - HDF5 binar formatdagi fayllar bilan ishlovchi biblioteka. Ko'proq ma'lumot uchun: https://docs.h5py.org/en/stable/\n",
    "- *sklearn* - Pitonda mashinaviy o'qitish algoritmlari bilan ishlash uchun *Scikit-learn* bibliotekasi. Biz ushbu bibliotekadan modelning aniqliligini o'lchashda foydalanamiz.\n",
    "Ushbu mashg'ulotdagi kod https://zhenye-na.github.io/2018/09/09/build-neural-network-with-mnist-from-scratch.html ssilkadagi yechimga asoslangan."
   ]
  },
  {
   "cell_type": "code",
   "execution_count": 24,
   "metadata": {},
   "outputs": [],
   "source": [
    "import numpy as np\n",
    "import matplotlib.pyplot as plt\n",
    "from matplotlib.pyplot import figure\n",
    "import h5py\n",
    "from sklearn import metrics"
   ]
  },
  {
   "cell_type": "markdown",
   "metadata": {},
   "source": [
    "Biz http://yann.lecun.com/exdb/mnist/ saytda keltirilgan MNIST ma'lumotlar to'plamidan foydalanamiz. MNIST ma'lumotlar to'plami bilan ishlashni qulaylashtirish uchun *python-mnist* bibliotekasini o'rnatamiz.\n",
    "- pip install python-mnist\n",
    "\n",
    "Hisoblarda qulayroq bo'lishi uchun, ushbu ma'lumotlar to'plamining *h5py* formatdagi ko'rinishidan foydalanamiz. Ma'lumotlar to'plamini quyidagi ssilkadan yuklab olib, ushbu *.ipynb* fayl joylashgan katalogga yuklash kerak bo'ladi. \n",
    "https://github.com/Zhenye-Na/cs598/blob/master/assignments/mp1/MNISTdata.hdf5\n",
    "\n",
    "*h5py* bibliotekasi yordamida ma'lumotlar to'plamini yuklaymiz:"
   ]
  },
  {
   "cell_type": "code",
   "execution_count": 25,
   "metadata": {},
   "outputs": [],
   "source": [
    "# load MNIST data\n",
    "MNIST_data = h5py.File(\"./MNISTdata.hdf5\", 'r')"
   ]
  },
  {
   "cell_type": "markdown",
   "metadata": {},
   "source": [
    "Ma'lumotlar to'plamini *numpy* formatidagi massivga yuklaymiz, bunda kerakli formatni ko'rsatamiz, ya'ni kiruvchi to'plam uchun *float32* va nishonlar to'plami uchun *int32*. "
   ]
  },
  {
   "cell_type": "code",
   "execution_count": 26,
   "metadata": {},
   "outputs": [],
   "source": [
    "x_train = np.float32(MNIST_data['x_train'][:])\n",
    "y_train = np.int32(np.array(MNIST_data['y_train'][:, 0])).reshape(-1, 1)\n",
    "x_test  = np.float32(MNIST_data['x_test'][:])\n",
    "y_test  = np.int32(np.array(MNIST_data['y_test'][:, 0])).reshape(-1, 1)\n",
    "MNIST_data.close()"
   ]
  },
  {
   "cell_type": "code",
   "execution_count": 27,
   "metadata": {},
   "outputs": [
    {
     "data": {
      "text/plain": [
       "(60000, 784)"
      ]
     },
     "execution_count": 27,
     "metadata": {},
     "output_type": "execute_result"
    }
   ],
   "source": [
    "x_train.shape"
   ]
  },
  {
   "cell_type": "markdown",
   "metadata": {},
   "source": [
    "Ma'lumotlar to'plami to'g'ri yuklanganini tekshirish uchun, matplotlib kutubxonasi orqali ma'lumotlar to'plamining biron elementini chizib ko'ramiz."
   ]
  },
  {
   "cell_type": "code",
   "execution_count": 28,
   "metadata": {},
   "outputs": [
    {
     "data": {
      "text/plain": [
       "<matplotlib.image.AxesImage at 0x7fbaecc041c0>"
      ]
     },
     "execution_count": 28,
     "metadata": {},
     "output_type": "execute_result"
    },
    {
     "data": {
      "image/png": "[encoded data removed]",
      "text/plain": [
       "<Figure size 432x288 with 1 Axes>"
      ]
     },
     "metadata": {
      "needs_background": "light"
     },
     "output_type": "display_data"
    }
   ],
   "source": [
    "plt.imshow(x_train[0,:].reshape(28,28), cmap='gray')"
   ]
  },
  {
   "cell_type": "markdown",
   "metadata": {},
   "source": [
    "Ko'rib turganimizdek, 5 raqamini tasvirlovchi rasm chizildi, va bu shundan dalolat beradiki, ma'lumotlar to'plami to'g'ri yuklangan."
   ]
  },
  {
   "cell_type": "markdown",
   "metadata": {},
   "source": [
    "Ma'lumotlar to'plami bilan kengroq tanishib chiqaylik. Avvalo, to'plamlar qanday hajmda ekanini aniqlaylik:"
   ]
  },
  {
   "cell_type": "code",
   "execution_count": 29,
   "metadata": {},
   "outputs": [
    {
     "name": "stdout",
     "output_type": "stream",
     "text": [
      "(60000, 784)\n",
      "(60000, 1)\n",
      "(10000, 784)\n",
      "(10000, 1)\n"
     ]
    }
   ],
   "source": [
    "print(x_train.shape)\n",
    "print(y_train.shape)\n",
    "print(x_test.shape)\n",
    "print(y_test.shape)"
   ]
  },
  {
   "cell_type": "markdown",
   "metadata": {},
   "source": [
    "Biz arxitekturasi quyida keltirilgan neyron tarmoqni qo'llaymiz:\n",
    "\n",
    "![alt text](images/nn_pr_neural_net_arch_0.png \"Title\")"
   ]
  },
  {
   "cell_type": "markdown",
   "metadata": {},
   "source": [
    "Neyron tarmoqning ushbu arxitekturasida, 3 ta qatlam ishtirok etmoqda:\n",
    "- Kirish qatlami o'lchami: 784\n",
    "- Yashirin qatlam, yoki 2-qatlam 64 ta neyrondan iborat\n",
    "- Chiquvchi qatlam, yoki 3-qatlam 10ta neyrondan iborat\n",
    "\n",
    "Ushbu arxitekturaga moslash uchun, kiruvchi to'plamning shaklini o'zgartiraylik, ya'ni transpozitsiyalaylik:"
   ]
  },
  {
   "cell_type": "code",
   "execution_count": 30,
   "metadata": {},
   "outputs": [],
   "source": [
    "x_train = x_train.T\n",
    "x_test = x_test.T"
   ]
  },
  {
   "cell_type": "markdown",
   "metadata": {},
   "source": [
    "Kiruvchi to'plam aslida har biri *28x28* (shunda *28x28* matritsani bir o'lchamli vektorga aylantirsak, o'lchami 784 bo'lgan vektor hosil bo'ladi) hajmli tasvirdagi piksellarni ifoda etuvchi $60000$ mashq hamda $10000$ test elementlaridan iborat. Kiruvchi matrisalar elementlari $[0,1]$ oraliqda joylashgani sababli kirish sayqallanishi jarayoniga hojat yo'q.\n",
    "\n",
    "***Neyron tarmoqqa kirishda qulay bo'lishi uchun, mashq to'plaminining shaklini *784x60000* va test to'plamini *784x10000* ko'rinishga keltirib oldik.\n",
    "\n",
    "Nishonlar to'g'risida so'z yuritsak, ular qanday ko'rinishda ekanini ko'rish uchun ularning ba'zi elementlarini chop etaylik."
   ]
  },
  {
   "cell_type": "code",
   "execution_count": 31,
   "metadata": {},
   "outputs": [
    {
     "data": {
      "text/plain": [
       "array([[5],\n",
       "       [0],\n",
       "       [4],\n",
       "       ...,\n",
       "       [5],\n",
       "       [6],\n",
       "       [8]], dtype=int32)"
      ]
     },
     "execution_count": 31,
     "metadata": {},
     "output_type": "execute_result"
    }
   ],
   "source": [
    "y_train[:, :10]"
   ]
  },
  {
   "cell_type": "markdown",
   "metadata": {},
   "source": [
    "Ko'rib turganimizdek, nishon to'plami o'zida $[0,9]$ oraliqda joylashgan butun sonlarni jam etadi. Nishon to'plamini qiymati $0$ va $1$dan iborat bo'lgan one-hot-vektor to'plamiga aylantiramiz. Buning uchun bir qancha yordamchi o'zgaruvchilarni aniqlab olaylik, xususan:\n",
    "- digits - one-hot-vektor elementining uzunligi\n",
    "- m_train - mashq to'plami uzunligi\n",
    "- m_test - test to'plami uzunligi"
   ]
  },
  {
   "cell_type": "code",
   "execution_count": 32,
   "metadata": {},
   "outputs": [],
   "source": [
    "digits = 10\n",
    "m_train = y_train.shape[0] #60000\n",
    "m_test = y_test.shape[0] #60000"
   ]
  },
  {
   "cell_type": "code",
   "execution_count": 33,
   "metadata": {},
   "outputs": [
    {
     "name": "stdout",
     "output_type": "stream",
     "text": [
      "m_train: 60000, m_test: 10000\n"
     ]
    }
   ],
   "source": [
    "print('m_train: %d, m_test: %d'%(m_train, m_test))"
   ]
  },
  {
   "cell_type": "markdown",
   "metadata": {},
   "source": [
    "Endi mashq hamda test to'plamini one-hot-vector massivga aylantiramiz, bunda *numpy* bibliotekasining *eye* funksiyasidan foydalanamiz."
   ]
  },
  {
   "cell_type": "code",
   "execution_count": 34,
   "metadata": {},
   "outputs": [],
   "source": [
    "y_train_old = y_train\n",
    "y_test_old = y_test\n",
    "y_train = np.eye(digits)[y_train.astype('int32')]\n",
    "y_train = y_train.T.reshape(digits, m_train)\n",
    "\n",
    "y_test = np.eye(digits)[y_test.astype('int32')]\n",
    "y_test = y_test.T.reshape(digits, m_test)"
   ]
  },
  {
   "cell_type": "markdown",
   "metadata": {},
   "source": [
    "Nishonlarni one-hot-vector massivlarga aylanganligini tekshirib ko'raylik:"
   ]
  },
  {
   "cell_type": "code",
   "execution_count": 35,
   "metadata": {
    "scrolled": true
   },
   "outputs": [
    {
     "name": "stdout",
     "output_type": "stream",
     "text": [
      "[4]\n"
     ]
    },
    {
     "data": {
      "text/plain": [
       "array([0., 0., 0., 0., 1., 0., 0., 0., 0., 0.])"
      ]
     },
     "execution_count": 35,
     "metadata": {},
     "output_type": "execute_result"
    }
   ],
   "source": [
    "print(y_train_old[2,:])\n",
    "y_train[:,2]"
   ]
  },
  {
   "cell_type": "markdown",
   "metadata": {},
   "source": [
    "Yuqorida chop etilgandan ko'rinib turibdiki, qiymati 4 bo'lgan nishon - uzunligi 10ga teng bo'lgan vektorga aylantirildi, va ushbu vektorning 4-tartib raqamli elementi (hisob 0 dan boshlanganda) 1 ga teng,"
   ]
  },
  {
   "cell_type": "code",
   "execution_count": 36,
   "metadata": {
    "scrolled": true
   },
   "outputs": [
    {
     "name": "stdout",
     "output_type": "stream",
     "text": [
      "(784, 60000)\n",
      "(10, 60000)\n",
      "(784, 10000)\n",
      "(10, 10000)\n"
     ]
    }
   ],
   "source": [
    "print(x_train.shape)\n",
    "print(y_train.shape)\n",
    "print(x_test.shape)\n",
    "print(y_test.shape)"
   ]
  },
  {
   "cell_type": "markdown",
   "metadata": {},
   "source": [
    "Neyron tarmoqning quyidagi giperparametrlarini aniqlab olaylik:\n",
    " - lr (learning rate) - o'rganish darajasi\n",
    " - epochs - neyron tarmoqning takrorlanish davri\n",
    " - n_x - kirish qatlami uzunligi\n",
    " - n_h - yashirin, ya' 2-qatlamdagi neyronlar soni\n",
    " - batch_size - batch uzunligi\n",
    " - batches - batchlar soni"
   ]
  },
  {
   "cell_type": "code",
   "execution_count": 37,
   "metadata": {},
   "outputs": [],
   "source": [
    "lr = 0.5 #learning rate\n",
    "epochs = 50 #number of epochs to train\n",
    "n_x = 784 #number of inputs\n",
    "n_h = 64 #number of hidden units\n",
    "batch_size = 64 #input batch size    \n",
    "batches = m_train // batch_size # number of batches"
   ]
  },
  {
   "cell_type": "markdown",
   "metadata": {},
   "source": [
    "Neyron tarmoqning koefisientlarini *numpy* bibliotekasidan foydalangan holda inisializatsiya qilaylik:\n",
    "- A1 - 2-qatlamning asosiy koefisientlari massivi\n",
    "- b1 - 2-qatlamning bias koefisientlari massivi\n",
    "- A2 - 3-qatlamning asosiy koefisientlari massivi\n",
    "- b2 - 3-qatlamning bias koefisientlari massivi\n",
    "\n",
    "Bias koefisientlarning ilk qiymati sifatida $0$ tanlangan bo'lsa, asosiy koefisientlarga esa Xavier inisializatsiya yo'li yordamida ilk qiymatlar berilmoqda."
   ]
  },
  {
   "cell_type": "code",
   "execution_count": 38,
   "metadata": {},
   "outputs": [],
   "source": [
    "# initialization\n",
    "params = {\"A1\": np.random.randn(n_h, n_x) * np.sqrt(1. / n_x),\n",
    "          \"b1\": np.zeros((n_h, 1)),\n",
    "          \"A2\": np.random.randn(digits, n_h)* np.sqrt(1. / n_h),\n",
    "          \"b2\": np.zeros((digits, 1))\n",
    "         }"
   ]
  },
  {
   "cell_type": "markdown",
   "metadata": {},
   "source": [
    "Shu koefisientlarning qiymat funksiyasiga ta'sirini ifodalovchi qiymatlarni o'zida saqlovchi o'zgaruvchilarni ham e'lon qilaylik va inisializatsiya qilaylik:\n",
    "- dA1 A1 koefisientlarning qiymat funksiyasiga ta'siri\n",
    "- db1 b1 koefisientlarning qiymat funksiyasiga ta'siri\n",
    "- dA2 A2 koefisientlarning qiymat funksiyasiga ta'siri\n",
    "- db2 b2 koefisientlarning qiymat funksiyasiga ta'siri"
   ]
  },
  {
   "cell_type": "code",
   "execution_count": 39,
   "metadata": {},
   "outputs": [],
   "source": [
    "dA1 = np.zeros(params[\"A1\"].shape)\n",
    "db1 = np.zeros(params[\"b1\"].shape)\n",
    "dA2 = np.zeros(params[\"A2\"].shape)\n",
    "db2 = np.zeros(params[\"b2\"].shape)"
   ]
  },
  {
   "cell_type": "markdown",
   "metadata": {},
   "source": [
    "Koefisientlarning o'zgaruvchilar bilan ko'paytmasini amalga oshiruvchi funksiyani ifodalaylik. Ushbu funksiya quyidagi formulaga asoslangan:\n",
    "\n",
    "$Z = a_1 \\times c_1 + a_2 \\times c_2 + ... + a_n \\times c_n + b $\n",
    "\n",
    "Bu formulada, $a_i$ - ma'lum qatlam koefisientlari, $c_i$ - ushbu qatlamga kiruvchi o'zgaruvchilar va $b$ - bias"
   ]
  },
  {
   "cell_type": "code",
   "execution_count": 40,
   "metadata": {},
   "outputs": [],
   "source": [
    "def layer_multiplication(A, C, B):\n",
    "    return np.matmul(A, C) + B"
   ]
  },
  {
   "cell_type": "markdown",
   "metadata": {},
   "source": [
    "2-qatlam uchun chiquvchi funksiya, ya'ni sigmoid funksiyasini e'lon qilaylik. Ushbu funksiya quyidagi formulaga asoslangan:\n",
    "\n",
    "$\\sigma (z) = \\frac{1}{1 + e^{-z}}$"
   ]
  },
  {
   "cell_type": "code",
   "execution_count": 41,
   "metadata": {},
   "outputs": [],
   "source": [
    "def sigmoid(Z):\n",
    "    s = 1. / (1. + np.exp(-Z))\n",
    "    return s"
   ]
  },
  {
   "cell_type": "markdown",
   "metadata": {},
   "source": [
    "Oxirgi qatlamning chiqish funksiyasi sifatida ishtirok etuvchi softmax funksiyasini ham Pitonda aniqlab olaylik. Uning formulasi quyidacha:\n",
    "\n",
    "$softmax(z)_i = \\frac{e^{z_i}}{\\sum_{j=1}^{K}e^{z_j}}$ , $i = [1, ..., K] $ hamda $ z = [z_1, ..., z_K]$ oraliqlarida\n",
    "\n",
    "Bunda bizda $K=10$, ya'ni 10 ta klass mavjud ($0, 1, ... 9$)"
   ]
  },
  {
   "cell_type": "code",
   "execution_count": 42,
   "metadata": {},
   "outputs": [],
   "source": [
    "def softmax(Z):\n",
    "    return np.exp(Z) / np.sum(np.exp(Z), axis=0)"
   ]
  },
  {
   "cell_type": "markdown",
   "metadata": {},
   "source": [
    "Qiymat funksiyasini ifodalaylik, bunda biz multi-klass muammosi uchun qiymat funksiyasini quyidagi formulaga asosan ifodalaymiz:\n",
    "\n",
    "$J(a) = - \\frac{1}{m} \\sum_{i=1}^m{y_k^{(i)} log(h_a(x^{(i)}))}$ "
   ]
  },
  {
   "cell_type": "code",
   "execution_count": 43,
   "metadata": {},
   "outputs": [],
   "source": [
    "def compute_loss(Y, Y_hat):\n",
    "    \"\"\"\n",
    "    compute loss function\n",
    "    \"\"\"\n",
    "    L_sum = np.sum(np.multiply(Y, np.log(Y_hat)))\n",
    "    m = Y.shape[1]\n",
    "    L = -(1./m) * L_sum\n",
    "\n",
    "    return L"
   ]
  },
  {
   "cell_type": "markdown",
   "metadata": {},
   "source": [
    "Oldinga siljish algoritmini aniqlaylik. Bunda biz quyidagi ketma ketlikda algoritmni amalga oshirib oxirgi natijani olamiz:\n",
    "1. 2 - qatlam uchun koefisientlar va kiruvchi qatlam ko'paytmasi yig'indisini hisoblab olamiz va $cache[\"Z1\"]$ piton lug'atiga saqlaymiz\n",
    "2. 2 - qatlamning chiqish funksiyasini (sigmoid) hisoblaymiz, bunda natijani $cache[\"C1\"]$ lug'atda saqlaymiz\n",
    "3. 3 - qatlam uchun koefisientlar va kiruvchi qatlam ko'paytmasi yig'indisini hisoblab olamiz va $cache[\"Z2\"]$ piton lug'atiga saqlaymiz\n",
    "4. 3 - qatlamning chiqish funksiyasini (softmax) hisoblaymiz, bunda natijani $cache[\"C1\"]$ lug'atda saqlaymiz"
   ]
  },
  {
   "cell_type": "code",
   "execution_count": 44,
   "metadata": {},
   "outputs": [],
   "source": [
    "def feed_forward(X, params):\n",
    "    cache = {}\n",
    "\n",
    "    # Z1 = A1.dot(x) + b1\n",
    "    cache[\"Z1\"] = layer_multiplication(params[\"A1\"], X, params[\"b1\"])\n",
    "\n",
    "    # C1 = sigmoid(Z1)\n",
    "    cache[\"C1\"] = sigmoid(cache[\"Z1\"])\n",
    "\n",
    "    # Z2 = A2.dot(A1) + b2\n",
    "    cache[\"Z2\"] = layer_multiplication(params[\"A2\"], cache[\"C1\"], params[\"b2\"])\n",
    "\n",
    "    # C2 = softmax(Z2)\n",
    "    cache[\"C2\"] = softmax(cache[\"Z2\"])\n",
    "\n",
    "    return cache"
   ]
  },
  {
   "cell_type": "markdown",
   "metadata": {},
   "source": [
    "Ortga siljish algoritmini amalga oshiramiz. Ortga siljish algoritmini oxirgi qatlamdan boshlaymiz va qatlamlar bo'ylab teskari harakatlanamiz. Bunda har bir qatlamdagi koefisientlarning qiymat funksiyasiga ta'sirini aniqlaymiz va kerakli o'zgaruvchilarga saqlaymiz."
   ]
  },
  {
   "cell_type": "code",
   "execution_count": 45,
   "metadata": {},
   "outputs": [],
   "source": [
    "def back_propagate(X, Y, params, cache, m_batch):\n",
    "    # error at last layer\n",
    "    delta_2 = cache[\"C2\"] - Y\n",
    "\n",
    "    # gradients at last layer (Py2 need 1. to transform to float)\n",
    "    dA2 = (1. / m_batch) * np.matmul(delta_2, cache[\"C1\"].T)\n",
    "    db2 = (1. / m_batch) * np.sum(delta_2, axis=1, keepdims=True)\n",
    "\n",
    "    # back propgate through first layer\n",
    "    delta_1 = np.matmul(params[\"A2\"].T, delta_2) * (sigmoid(cache[\"Z1\"]) * (1 - sigmoid(cache[\"Z1\"])))\n",
    "\n",
    "    # gradients at first layer (Py2 need 1. to transform to float)\n",
    "    dA1 = (1. / m_batch) * np.matmul(delta_1, X.T)\n",
    "    db1 = (1. / m_batch) * np.sum(delta_1, axis=1, keepdims=True)\n",
    "\n",
    "    grads = {\"dA1\": dA1, \"db1\": db1, \"dA2\": dA2, \"db2\": db2}\n",
    "\n",
    "    return grads"
   ]
  },
  {
   "cell_type": "markdown",
   "metadata": {},
   "source": [
    "Neyron tarmoqni amalga oshirish uchun barcha funksiyalarni aniqlab bo'ldik, endi bevosita neyron tarmoqdagi hisob kitoblarni boshlasak bo'ladi. E'tibor bering, bizda ikki sikl ishtirok etmoqda, ya'ni birinchi sikl qadamlarni ifoda etsa, ikkinchi sikl esa mashq to'plamining mayda bo'laklarga bo'lingan guruhlarni o'z ichiga oluvchi batchesni ifodalaydi. Har bir qadamda test va mashq to'plamlaridagi xatoliklar hisoblab boriladi va mos ravishda $test\\_costs$ va $train\\_costs$ massivlarida saqlanadi."
   ]
  },
  {
   "cell_type": "code",
   "execution_count": 46,
   "metadata": {},
   "outputs": [
    {
     "name": "stdout",
     "output_type": "stream",
     "text": [
      "Epoch 1: training loss = 0.25363514063736736, test loss = 0.25081073811714294\n",
      "Epoch 11: training loss = 0.05886456975993621, test loss = 0.08787725606448088\n",
      "Epoch 21: training loss = 0.03170710019303508, test loss = 0.07914492305547167\n",
      "Epoch 31: training loss = 0.018595611484698654, test loss = 0.07900983113358759\n",
      "Epoch 41: training loss = 0.012576158887516923, test loss = 0.08000798691994716\n",
      "Epoch 50: training loss = 0.009289235194238864, test loss = 0.08380877467053\n"
     ]
    }
   ],
   "source": [
    "test_costs = []\n",
    "train_costs = []\n",
    "# training\n",
    "for i in range(epochs):\n",
    "\n",
    "    # shuffle training set\n",
    "    permutation = np.random.permutation(x_train.shape[1])\n",
    "    X_train_shuffled = x_train[:, permutation]\n",
    "    Y_train_shuffled = y_train[:, permutation]\n",
    "\n",
    "    for j in range(batches):\n",
    "\n",
    "        # get mini-batch\n",
    "        begin = j * batch_size\n",
    "        end = min(begin + batch_size, x_train.shape[1] - 1)\n",
    "        X = X_train_shuffled[:, begin:end]\n",
    "        Y = Y_train_shuffled[:, begin:end]\n",
    "        m_batch = end - begin\n",
    "\n",
    "        # forward and backward\n",
    "        cache = feed_forward(X, params)\n",
    "        grads = back_propagate(X, Y, params, cache, m_batch)\n",
    "        \n",
    "        dA1 = grads[\"dA1\"]\n",
    "        db1 = grads[\"db1\"]\n",
    "        dA2 = grads[\"dA2\"]\n",
    "        db2 = grads[\"db2\"]\n",
    "        \n",
    "        # gradient descent\n",
    "        params[\"A1\"] = params[\"A1\"] - lr * dA1\n",
    "        params[\"b1\"] = params[\"b1\"] - lr * db1\n",
    "        params[\"A2\"] = params[\"A2\"] - lr * dA2\n",
    "        params[\"b2\"] = params[\"b2\"] - lr * db2\n",
    "\n",
    "    # forward pass on training set\n",
    "    cache = feed_forward(x_train, params)\n",
    "    train_loss = compute_loss(y_train, cache[\"C2\"])\n",
    "    train_costs.append(train_loss)\n",
    "\n",
    "    # forward pass on test set\n",
    "    cache = feed_forward(x_test, params)\n",
    "    test_loss = compute_loss(y_test, cache[\"C2\"])\n",
    "    test_costs.append(test_loss)\n",
    "    if i % 10 == 0 or i == epochs -1:\n",
    "        print(\"Epoch {}: training loss = {}, test loss = {}\".format(\n",
    "            i + 1, train_loss, test_loss))"
   ]
  },
  {
   "cell_type": "markdown",
   "metadata": {},
   "source": [
    "Gradient tushishda qiymat funksiyasining qay darajada o'zgarganini vizual ko'rish uchun, grafik *plot_cost* funksiyasini yarataylik, ushbu funksiya *matplotlib* bibliotekasidan foydalanib graf chizadi."
   ]
  },
  {
   "cell_type": "code",
   "execution_count": 244,
   "metadata": {},
   "outputs": [],
   "source": [
    "def plot_cost(train_costs,test_costs, epochs):\n",
    "    plt.xlabel('Epochs')\n",
    "    plt.ylabel('Cost')\n",
    "    plt.plot(epochs, train_costs, 'm', linewidth = \"1\", color='r', label='mashqdagi xatolik')\n",
    "    plt.plot(epochs, test_costs, 'm', linewidth = \"1\", color='g', label='testdagi xatolik')\n",
    "    plt.legend(loc=\"upper right\")\n",
    "    plt.show()"
   ]
  },
  {
   "cell_type": "markdown",
   "metadata": {},
   "source": [
    "*plot_cost* funksiyasi parametr sifatida 3 ta massiv o'zgaruvchisini qabul qiladi va bular:\n",
    "-  mashq to'plami uchun qiymat funksiyasining natijasi ifodalangan massiv, *train_costs* o'zgaruvchisi\n",
    "-  test to'plami uchun qiymat funksiyasining natijasi ifodalangan massiv, *test_costs* o'zgaruvchisi\n",
    "- qadamlarni ifoda etuvchi massiv, *epochs* o'zgaruvchisi"
   ]
  },
  {
   "cell_type": "code",
   "execution_count": 246,
   "metadata": {},
   "outputs": [
    {
     "data": {
      "image/png": "[encoded data removed]",
      "text/plain": [
       "<Figure size 640x480 with 1 Axes>"
      ]
     },
     "metadata": {
      "needs_background": "light"
     },
     "output_type": "display_data"
    }
   ],
   "source": [
    "n_epochs = np.arange(1, epochs + 1)\n",
    "figure(figsize=(8, 6), dpi=80)\n",
    "plot_cost(train_costs, test_costs, n_epochs)"
   ]
  },
  {
   "cell_type": "markdown",
   "metadata": {},
   "source": [
    "Yuqoridagi diagrammadan ko'rib turibmizku, davrning har qadamida mashq va test to'plamlarda qiymat funksiyasi tushib boryapti. Shuni ta'kidlab o'tish kerakki, davrning taxminan 20-qadamidan keyin test to'plamida qiymat funksiyasi tushmayapti, va hatto ko'rishimiz mumkinki, biroz bo'lsada ko'tarilmoqda ham. Bu shundan dalolat beryaptiki, bizning neyron tarmog'imiz 20-qadamdayoq o'zining optimal parametrlariga ega bo'lgan, va undan keyingi qadamlar asosan neyron tarmoq mashq to'plamida yaxshi natija berishi, va aksincha test to'plamida xatoliklar ko'payishidan dalolat beradi.\n",
    "\n",
    "Neyron tarmoqni endi test to'plamida sinab ko'raylik:"
   ]
  },
  {
   "cell_type": "code",
   "execution_count": 248,
   "metadata": {
    "scrolled": true
   },
   "outputs": [
    {
     "data": {
      "text/plain": [
       "array([[9.37769683e-08, 2.90340676e-07, 1.89968251e-09, ...,\n",
       "        1.11845960e-10, 8.69757880e-12, 4.82012891e-07],\n",
       "       [1.89298225e-08, 1.07912738e-06, 9.99763163e-01, ...,\n",
       "        5.85822380e-09, 2.10657068e-08, 1.76601778e-08],\n",
       "       [3.36284387e-07, 9.99994754e-01, 4.76733054e-05, ...,\n",
       "        2.44859178e-09, 3.49040052e-11, 5.03604315e-07],\n",
       "       ...,\n",
       "       [9.99631269e-01, 1.05390665e-11, 8.87547191e-06, ...,\n",
       "        6.04776461e-06, 4.23420533e-11, 1.29963589e-12],\n",
       "       [8.30622225e-08, 1.19521048e-06, 1.74109287e-04, ...,\n",
       "        1.00960292e-06, 3.95766112e-05, 3.79695532e-08],\n",
       "       [6.59780753e-05, 5.20122160e-13, 2.98024899e-08, ...,\n",
       "        7.26598907e-07, 5.17062984e-11, 5.48595430e-08]])"
      ]
     },
     "execution_count": 248,
     "metadata": {},
     "output_type": "execute_result"
    }
   ],
   "source": [
    "test_predictions = feed_forward(x_test, params)[\"C2\"]\n",
    "test_predictions"
   ]
  },
  {
   "cell_type": "markdown",
   "metadata": {},
   "source": [
    "Neyron tarmoq test to'plamiga tatbiq qilindi va so'ngi chiqish funksiyasining natijasi one-hot vektor bo'lib, ularni $[0,9]$ oraqlidagi sonlarga aylantiraylik:"
   ]
  },
  {
   "cell_type": "code",
   "execution_count": 254,
   "metadata": {},
   "outputs": [],
   "source": [
    "test_predictions_label = np.argmax(test_predictions, axis=0)"
   ]
  },
  {
   "cell_type": "code",
   "execution_count": 255,
   "metadata": {},
   "outputs": [
    {
     "data": {
      "text/plain": [
       "array([7, 2, 1, ..., 4, 5, 6])"
      ]
     },
     "execution_count": 255,
     "metadata": {},
     "output_type": "execute_result"
    }
   ],
   "source": [
    "test_predictions_label"
   ]
  },
  {
   "cell_type": "code",
   "execution_count": 251,
   "metadata": {},
   "outputs": [
    {
     "data": {
      "text/plain": [
       "array([7, 2, 1, ..., 4, 5, 6])"
      ]
     },
     "execution_count": 251,
     "metadata": {},
     "output_type": "execute_result"
    }
   ],
   "source": [
    " np.argmax(test_predictions, axis=0)"
   ]
  },
  {
   "cell_type": "code",
   "execution_count": 252,
   "metadata": {},
   "outputs": [
    {
     "data": {
      "text/plain": [
       "array([[7],\n",
       "       [2],\n",
       "       [1],\n",
       "       ...,\n",
       "       [4],\n",
       "       [5],\n",
       "       [6]], dtype=int32)"
      ]
     },
     "execution_count": 252,
     "metadata": {},
     "output_type": "execute_result"
    }
   ],
   "source": [
    "y_test_old"
   ]
  },
  {
   "cell_type": "code",
   "execution_count": 263,
   "metadata": {},
   "outputs": [],
   "source": [
    "y_test_old_ = np.ravel(y_test_old)"
   ]
  },
  {
   "cell_type": "code",
   "execution_count": 264,
   "metadata": {},
   "outputs": [
    {
     "data": {
      "text/plain": [
       "array([7, 2, 1, ..., 4, 5, 6], dtype=int32)"
      ]
     },
     "execution_count": 264,
     "metadata": {},
     "output_type": "execute_result"
    }
   ],
   "source": [
    "y_test_old_"
   ]
  },
  {
   "cell_type": "markdown",
   "metadata": {},
   "source": [
    "# Model aniqliligi (Model accuracy)\n",
    "\n",
    "Biz yaratgan neyron tarmoq klassifikatsiyalash muammosini yechgani uchun, ushbu modelning aniqliligini o'lchashda *Accuracy* va *F1Score* o'lchovlaridan foydalanishimiz mumkin. Logistik regressiya algoritmining amalish mashg'ulotida ushbu o'lchovlarning binar-klassifikatsiyaga (ya'ni klasslar soni 2ta) tatbiqini ko'rib o'tgan edik. Bizning hozirgi mashg'ulotimiz esa ko'p-klassli muammoga bag'ishlangan, ya'ni klasslar soni 10ta (0 dan 9gacha butun sonlar). Ko'p-klassli modelga *Accuracy* va *F1 Score* o'lchovlarini tatbiq etishda chalkashlik matritsasini aniqlashimiz kerak. Ushbu matritsani aniqlaydigan funksiya yarataylik."
   ]
  },
  {
   "cell_type": "code",
   "execution_count": 267,
   "metadata": {},
   "outputs": [],
   "source": [
    "#from this answer: https://stackoverflow.com/a/53387268/4361020\n",
    "def confusion_matrix(actual, predicted):\n",
    "    classes       = np.unique(np.concatenate((actual,predicted)))\n",
    "    confusion_mtx = np.empty((len(classes),len(classes)),dtype=np.int)\n",
    "    for i,a in enumerate(classes):\n",
    "        for j,p in enumerate(classes):\n",
    "            confusion_mtx[i,j] = np.where((actual==a)*(predicted==p))[0].shape[0]\n",
    "    return confusion_mtx"
   ]
  },
  {
   "cell_type": "markdown",
   "metadata": {},
   "source": [
    "Ushbu funksiyani ishga tushiramiz va chalkashlik matritsasini olamiz."
   ]
  },
  {
   "cell_type": "code",
   "execution_count": 265,
   "metadata": {},
   "outputs": [],
   "source": [
    "cf = confusion_matrix(y_test_old_, test_predictions_label)"
   ]
  },
  {
   "cell_type": "markdown",
   "metadata": {},
   "source": [
    "Ushbu chalkashlik matritsasini chop etaylik:"
   ]
  },
  {
   "cell_type": "code",
   "execution_count": 293,
   "metadata": {},
   "outputs": [
    {
     "data": {
      "text/plain": [
       "array([[ 968,    0,    2,    0,    0,    1,    5,    1,    2,    1],\n",
       "       [   0, 1126,    1,    1,    0,    1,    2,    1,    3,    0],\n",
       "       [   4,    2, 1001,    5,    3,    1,    3,    9,    4,    0],\n",
       "       [   0,    0,    4,  984,    0,    6,    0,    4,    5,    7],\n",
       "       [   2,    0,    1,    1,  955,    1,    4,    2,    1,   15],\n",
       "       [   2,    1,    0,   11,    0,  863,    6,    1,    5,    3],\n",
       "       [   4,    2,    1,    1,    4,    6,  939,    0,    1,    0],\n",
       "       [   0,    3,    7,    4,    1,    0,    0, 1002,    1,   10],\n",
       "       [   4,    1,    3,    4,    7,    2,    3,    4,  945,    1],\n",
       "       [   2,    3,    0,    5,    8,    3,    0,    8,    0,  980]])"
      ]
     },
     "execution_count": 293,
     "metadata": {},
     "output_type": "execute_result"
    }
   ],
   "source": [
    "cf"
   ]
  },
  {
   "cell_type": "code",
   "execution_count": 306,
   "metadata": {},
   "outputs": [
    {
     "name": "stdout",
     "output_type": "stream",
     "text": [
      "\tb: 0\tb: 1\tb: 2\tb: 3\tb: 4\tb: 5\tb: 6\tb: 7\tb: 8\tb: 9\t\n",
      "\n",
      "t: 0\t968\t0\t2\t0\t0\t1\t5\t1\t2\t1\t\n",
      "\n",
      "t: 1\t0\t1126\t1\t1\t0\t1\t2\t1\t3\t0\t\n",
      "\n",
      "t: 2\t4\t2\t1001\t5\t3\t1\t3\t9\t4\t0\t\n",
      "\n",
      "t: 3\t0\t0\t4\t984\t0\t6\t0\t4\t5\t7\t\n",
      "\n",
      "t: 4\t2\t0\t1\t1\t955\t1\t4\t2\t1\t15\t\n",
      "\n",
      "t: 5\t2\t1\t0\t11\t0\t863\t6\t1\t5\t3\t\n",
      "\n",
      "t: 6\t4\t2\t1\t1\t4\t6\t939\t0\t1\t0\t\n",
      "\n",
      "t: 7\t0\t3\t7\t4\t1\t0\t0\t1002\t1\t10\t\n",
      "\n",
      "t: 8\t4\t1\t3\t4\t7\t2\t3\t4\t945\t1\t\n",
      "\n",
      "t: 9\t2\t3\t0\t5\t8\t3\t0\t8\t0\t980\t\n",
      "\n"
     ]
    }
   ],
   "source": [
    "for i in range(10):\n",
    "    #printing labels\n",
    "    if i ==0:\n",
    "        print('\\t', end='')\n",
    "        for j in range(10):\n",
    "            print('b:', j, end='\\t')\n",
    "        print('\\n')\n",
    "    \n",
    "    print('t:', i, end='\\t')\n",
    "    for j in range(10):\n",
    "        print(cf[i][j], end='\\t')\n",
    "    print('\\n')"
   ]
  },
  {
   "cell_type": "markdown",
   "metadata": {},
   "source": [
    "Yuqoridagi matritsani tavfsiflasak, diagonal ravishda o'qlar qiymati bir xil bo'lgan (masalan, $t:0$-$b:0$ yacheyka) yacheykalar - model tomonidan to'g'ri topilgan klasslarning klass qiymati bo'yicha kesishmasini anglatadi. Gorizontal o'q esa test to'plamidagi haqiqiy klasslarning model tomonidan bashorat qilingan klasslar soni kesishmasidir. Ya'ni, $t:0$ qatorni olaylik. Ushbu qator test to'plamdagi haqiqiy qiymati $0$ bo'lgan klassning model tomonidan qanday bashorat qilinganini anglatadi. Xususan, $t:0$-$b:0$ yacheykaning qiymati $968$ - ya'ni 968 ta $0$ klass model tomonidan to'g'ri topilgan. $t:0$-$b:5$ yacheykaning qiymati esa $1$, bu degani test to'plamdagi haqiqiy qiymati $0$ bo'lgan klass model tomonidan bir marta $5$ deya noto'g'ri topilgan. \n",
    "\n",
    "Biz ushbu chalkashlik matritsasidan foydalanib, har bir klass uchun F1-hisobni aniqlashimiz mumkin, va quyidagi funksiyani yarataylik:"
   ]
  },
  {
   "cell_type": "code",
   "execution_count": 291,
   "metadata": {},
   "outputs": [],
   "source": [
    "def calculate_f1_score_accuracy(cf, n):\n",
    "    actual_sum = np.sum(cf, axis=1)\n",
    "    predicted_sum = np.sum(cf, axis=0)\n",
    "    print('raqam \\t precision \\t recall \\t f1-score haqiqiy_klasslar soni')\n",
    "    total_correct_sum = 0\n",
    "    for i in range(10):\n",
    "        correct_sum = cf[i][i]\n",
    "        total_correct_sum += correct_sum\n",
    "        precision = correct_sum / predicted_sum[i]\n",
    "        recall = correct_sum / actual_sum[i]\n",
    "        f1_score = 2 * precision * recall / (precision + recall)\n",
    "        print(i, '\\t', round(precision, 5), '\\t', round(recall, 5),'\\t', round(f1_score, 5),'\\t', actual_sum[i])\n",
    "    total_accuracy = total_correct_sum / n\n",
    "    print('Accuracy: ', total_accuracy)"
   ]
  },
  {
   "cell_type": "markdown",
   "metadata": {},
   "source": [
    "Ushbu funksiyadan foydalanib, modelning aniqliligini o'lchaylik:"
   ]
  },
  {
   "cell_type": "code",
   "execution_count": 307,
   "metadata": {},
   "outputs": [
    {
     "name": "stdout",
     "output_type": "stream",
     "text": [
      "raqam \t precision \t recall \t f1-score haqiqiy_klasslar soni\n",
      "0 \t 0.98174 \t 0.98776 \t 0.98474 \t 980\n",
      "1 \t 0.98946 \t 0.99207 \t 0.99076 \t 1135\n",
      "2 \t 0.98137 \t 0.96996 \t 0.97563 \t 1032\n",
      "3 \t 0.9685 \t 0.97426 \t 0.97137 \t 1010\n",
      "4 \t 0.97648 \t 0.97251 \t 0.97449 \t 982\n",
      "5 \t 0.97624 \t 0.96749 \t 0.97185 \t 892\n",
      "6 \t 0.97609 \t 0.98017 \t 0.97812 \t 958\n",
      "7 \t 0.97093 \t 0.97471 \t 0.97282 \t 1028\n",
      "8 \t 0.97725 \t 0.97023 \t 0.97372 \t 974\n",
      "9 \t 0.96362 \t 0.97126 \t 0.96742 \t 1009\n",
      "Accuracy:  0.9763\n"
     ]
    }
   ],
   "source": [
    "calculate_f1_score_accuracy(cf, m_test)"
   ]
  },
  {
   "cell_type": "markdown",
   "metadata": {},
   "source": [
    "Yuqoridagi jadval har bir klass uchun *precision*, *recall*, *f1-hisob*, test to'plamidagi haqiqiy klasslar sonini va modelning *accuracy* o'lchovi uchun qiymatlarni chop etadi. Ko'rib turibmizki, har bir klass uchun f1-hisob ancha yuqori. Hamda umumiy aniqlik, ya'ni accuracy juda yuqori, bu degani test to'plamdagi 97% element to'g'ri topilgan."
   ]
  },
  {
   "cell_type": "code",
   "execution_count": 270,
   "metadata": {
    "scrolled": true
   },
   "outputs": [
    {
     "name": "stdout",
     "output_type": "stream",
     "text": [
      "[[ 968    0    2    0    0    1    5    1    2    1]\n",
      " [   0 1126    1    1    0    1    2    1    3    0]\n",
      " [   4    2 1001    5    3    1    3    9    4    0]\n",
      " [   0    0    4  984    0    6    0    4    5    7]\n",
      " [   2    0    1    1  955    1    4    2    1   15]\n",
      " [   2    1    0   11    0  863    6    1    5    3]\n",
      " [   4    2    1    1    4    6  939    0    1    0]\n",
      " [   0    3    7    4    1    0    0 1002    1   10]\n",
      " [   4    1    3    4    7    2    3    4  945    1]\n",
      " [   2    3    0    5    8    3    0    8    0  980]]\n"
     ]
    }
   ],
   "source": [
    "print(metrics.confusion_matrix(y_test_old_, test_predictions_label))"
   ]
  },
  {
   "cell_type": "code",
   "execution_count": 272,
   "metadata": {},
   "outputs": [
    {
     "name": "stdout",
     "output_type": "stream",
     "text": [
      "              precision    recall  f1-score   support\n",
      "\n",
      "           0  0.9817444219 0.9877551020 0.9847405900       980\n",
      "           1  0.9894551845 0.9920704846 0.9907611087      1135\n",
      "           2  0.9813725490 0.9699612403 0.9756335283      1032\n",
      "           3  0.9685039370 0.9742574257 0.9713721619      1010\n",
      "           4  0.9764826176 0.9725050916 0.9744897959       982\n",
      "           5  0.9762443439 0.9674887892 0.9718468468       892\n",
      "           6  0.9760914761 0.9801670146 0.9781250000       958\n",
      "           7  0.9709302326 0.9747081712 0.9728155340      1028\n",
      "           8  0.9772492244 0.9702258727 0.9737248841       974\n",
      "           9  0.9636184857 0.9712586720 0.9674234946      1009\n",
      "\n",
      "    accuracy                      0.9763000000     10000\n",
      "   macro avg  0.9761692473 0.9760397864 0.9760932944     10000\n",
      "weighted avg  0.9763166210 0.9763000000 0.9762972150     10000\n",
      "\n"
     ]
    }
   ],
   "source": [
    "print(metrics.classification_report(y_test_old_, test_predictions_label, digits=10))"
   ]
  }
 ],
 "metadata": {
  "kernelspec": {
   "display_name": "Python 3 (ipykernel)",
   "language": "python",
   "name": "python3"
  },
  "language_info": {
   "codemirror_mode": {
    "name": "ipython",
    "version": 3
   },
   "file_extension": ".py",
   "mimetype": "text/x-python",
   "name": "python",
   "nbconvert_exporter": "python",
   "pygments_lexer": "ipython3",
   "version": "3.9.18"
  }
 },
 "nbformat": 4,
 "nbformat_minor": 4
}
