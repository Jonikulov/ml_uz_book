{
 "cells": [
  {
   "cell_type": "markdown",
   "id": "818c438b-c753-4d7c-8267-f379186f3f20",
   "metadata": {},
   "source": [
    "# Logistik Regressiya"
   ]
  },
  {
   "cell_type": "code",
   "execution_count": 1,
   "id": "c4aa6ccd-631f-4ca0-9599-9ec7bedf78cf",
   "metadata": {},
   "outputs": [],
   "source": [
    "import numpy as np\n",
    "import pandas as pd\n",
    "import matplotlib.pyplot as plt"
   ]
  },
  {
   "cell_type": "code",
   "execution_count": 2,
   "id": "763b4a37-09ad-44f4-ac62-d3e32a1055d9",
   "metadata": {},
   "outputs": [
    {
     "data": {
      "text/html": [
       "<div>\n",
       "<style scoped>\n",
       "    .dataframe tbody tr th:only-of-type {\n",
       "        vertical-align: middle;\n",
       "    }\n",
       "\n",
       "    .dataframe tbody tr th {\n",
       "        vertical-align: top;\n",
       "    }\n",
       "\n",
       "    .dataframe thead th {\n",
       "        text-align: right;\n",
       "    }\n",
       "</style>\n",
       "<table border=\"1\" class=\"dataframe\">\n",
       "  <thead>\n",
       "    <tr style=\"text-align: right;\">\n",
       "      <th></th>\n",
       "      <th>Pregnancies</th>\n",
       "      <th>Glucose</th>\n",
       "      <th>BloodPressure</th>\n",
       "      <th>SkinThickness</th>\n",
       "      <th>Insulin</th>\n",
       "      <th>BMI</th>\n",
       "      <th>DiabetesPedigreeFunction</th>\n",
       "      <th>Age</th>\n",
       "      <th>Outcome</th>\n",
       "    </tr>\n",
       "  </thead>\n",
       "  <tbody>\n",
       "    <tr>\n",
       "      <th>0</th>\n",
       "      <td>6</td>\n",
       "      <td>148</td>\n",
       "      <td>72</td>\n",
       "      <td>35</td>\n",
       "      <td>0</td>\n",
       "      <td>33.6</td>\n",
       "      <td>0.627</td>\n",
       "      <td>50</td>\n",
       "      <td>1</td>\n",
       "    </tr>\n",
       "    <tr>\n",
       "      <th>1</th>\n",
       "      <td>1</td>\n",
       "      <td>85</td>\n",
       "      <td>66</td>\n",
       "      <td>29</td>\n",
       "      <td>0</td>\n",
       "      <td>26.6</td>\n",
       "      <td>0.351</td>\n",
       "      <td>31</td>\n",
       "      <td>0</td>\n",
       "    </tr>\n",
       "    <tr>\n",
       "      <th>2</th>\n",
       "      <td>8</td>\n",
       "      <td>183</td>\n",
       "      <td>64</td>\n",
       "      <td>0</td>\n",
       "      <td>0</td>\n",
       "      <td>23.3</td>\n",
       "      <td>0.672</td>\n",
       "      <td>32</td>\n",
       "      <td>1</td>\n",
       "    </tr>\n",
       "    <tr>\n",
       "      <th>3</th>\n",
       "      <td>1</td>\n",
       "      <td>89</td>\n",
       "      <td>66</td>\n",
       "      <td>23</td>\n",
       "      <td>94</td>\n",
       "      <td>28.1</td>\n",
       "      <td>0.167</td>\n",
       "      <td>21</td>\n",
       "      <td>0</td>\n",
       "    </tr>\n",
       "    <tr>\n",
       "      <th>4</th>\n",
       "      <td>0</td>\n",
       "      <td>137</td>\n",
       "      <td>40</td>\n",
       "      <td>35</td>\n",
       "      <td>168</td>\n",
       "      <td>43.1</td>\n",
       "      <td>2.288</td>\n",
       "      <td>33</td>\n",
       "      <td>1</td>\n",
       "    </tr>\n",
       "    <tr>\n",
       "      <th>...</th>\n",
       "      <td>...</td>\n",
       "      <td>...</td>\n",
       "      <td>...</td>\n",
       "      <td>...</td>\n",
       "      <td>...</td>\n",
       "      <td>...</td>\n",
       "      <td>...</td>\n",
       "      <td>...</td>\n",
       "      <td>...</td>\n",
       "    </tr>\n",
       "    <tr>\n",
       "      <th>763</th>\n",
       "      <td>10</td>\n",
       "      <td>101</td>\n",
       "      <td>76</td>\n",
       "      <td>48</td>\n",
       "      <td>180</td>\n",
       "      <td>32.9</td>\n",
       "      <td>0.171</td>\n",
       "      <td>63</td>\n",
       "      <td>0</td>\n",
       "    </tr>\n",
       "    <tr>\n",
       "      <th>764</th>\n",
       "      <td>2</td>\n",
       "      <td>122</td>\n",
       "      <td>70</td>\n",
       "      <td>27</td>\n",
       "      <td>0</td>\n",
       "      <td>36.8</td>\n",
       "      <td>0.340</td>\n",
       "      <td>27</td>\n",
       "      <td>0</td>\n",
       "    </tr>\n",
       "    <tr>\n",
       "      <th>765</th>\n",
       "      <td>5</td>\n",
       "      <td>121</td>\n",
       "      <td>72</td>\n",
       "      <td>23</td>\n",
       "      <td>112</td>\n",
       "      <td>26.2</td>\n",
       "      <td>0.245</td>\n",
       "      <td>30</td>\n",
       "      <td>0</td>\n",
       "    </tr>\n",
       "    <tr>\n",
       "      <th>766</th>\n",
       "      <td>1</td>\n",
       "      <td>126</td>\n",
       "      <td>60</td>\n",
       "      <td>0</td>\n",
       "      <td>0</td>\n",
       "      <td>30.1</td>\n",
       "      <td>0.349</td>\n",
       "      <td>47</td>\n",
       "      <td>1</td>\n",
       "    </tr>\n",
       "    <tr>\n",
       "      <th>767</th>\n",
       "      <td>1</td>\n",
       "      <td>93</td>\n",
       "      <td>70</td>\n",
       "      <td>31</td>\n",
       "      <td>0</td>\n",
       "      <td>30.4</td>\n",
       "      <td>0.315</td>\n",
       "      <td>23</td>\n",
       "      <td>0</td>\n",
       "    </tr>\n",
       "  </tbody>\n",
       "</table>\n",
       "<p>768 rows × 9 columns</p>\n",
       "</div>"
      ],
      "text/plain": [
       "     Pregnancies  Glucose  BloodPressure  SkinThickness  Insulin   BMI  \\\n",
       "0              6      148             72             35        0  33.6   \n",
       "1              1       85             66             29        0  26.6   \n",
       "2              8      183             64              0        0  23.3   \n",
       "3              1       89             66             23       94  28.1   \n",
       "4              0      137             40             35      168  43.1   \n",
       "..           ...      ...            ...            ...      ...   ...   \n",
       "763           10      101             76             48      180  32.9   \n",
       "764            2      122             70             27        0  36.8   \n",
       "765            5      121             72             23      112  26.2   \n",
       "766            1      126             60              0        0  30.1   \n",
       "767            1       93             70             31        0  30.4   \n",
       "\n",
       "     DiabetesPedigreeFunction  Age  Outcome  \n",
       "0                       0.627   50        1  \n",
       "1                       0.351   31        0  \n",
       "2                       0.672   32        1  \n",
       "3                       0.167   21        0  \n",
       "4                       2.288   33        1  \n",
       "..                        ...  ...      ...  \n",
       "763                     0.171   63        0  \n",
       "764                     0.340   27        0  \n",
       "765                     0.245   30        0  \n",
       "766                     0.349   47        1  \n",
       "767                     0.315   23        0  \n",
       "\n",
       "[768 rows x 9 columns]"
      ]
     },
     "execution_count": 2,
     "metadata": {},
     "output_type": "execute_result"
    }
   ],
   "source": [
    "# Dataset: https://kaggle.com/uciml/pima-indians-diabetes-database\n",
    "df = pd.read_csv(\"diabetes.csv\")\n",
    "df"
   ]
  },
  {
   "cell_type": "code",
   "execution_count": 3,
   "id": "d20a1a78-4c1f-454a-9197-ab78a03f4c26",
   "metadata": {},
   "outputs": [
    {
     "name": "stdout",
     "output_type": "stream",
     "text": [
      "<class 'pandas.core.frame.DataFrame'>\n",
      "RangeIndex: 768 entries, 0 to 767\n",
      "Data columns (total 9 columns):\n",
      " #   Column                    Non-Null Count  Dtype  \n",
      "---  ------                    --------------  -----  \n",
      " 0   Pregnancies               768 non-null    int64  \n",
      " 1   Glucose                   768 non-null    int64  \n",
      " 2   BloodPressure             768 non-null    int64  \n",
      " 3   SkinThickness             768 non-null    int64  \n",
      " 4   Insulin                   768 non-null    int64  \n",
      " 5   BMI                       768 non-null    float64\n",
      " 6   DiabetesPedigreeFunction  768 non-null    float64\n",
      " 7   Age                       768 non-null    int64  \n",
      " 8   Outcome                   768 non-null    int64  \n",
      "dtypes: float64(2), int64(7)\n",
      "memory usage: 54.1 KB\n"
     ]
    }
   ],
   "source": [
    "df.info()"
   ]
  },
  {
   "cell_type": "code",
   "execution_count": 4,
   "id": "33fac170-28db-43c7-8304-e105c4225cc0",
   "metadata": {},
   "outputs": [
    {
     "data": {
      "text/plain": [
       "array([[  6.   , 148.   ,  72.   , ...,   0.627,  50.   ,   1.   ],\n",
       "       [  1.   ,  85.   ,  66.   , ...,   0.351,  31.   ,   0.   ],\n",
       "       [  8.   , 183.   ,  64.   , ...,   0.672,  32.   ,   1.   ],\n",
       "       ...,\n",
       "       [  5.   , 121.   ,  72.   , ...,   0.245,  30.   ,   0.   ],\n",
       "       [  1.   , 126.   ,  60.   , ...,   0.349,  47.   ,   1.   ],\n",
       "       [  1.   ,  93.   ,  70.   , ...,   0.315,  23.   ,   0.   ]])"
      ]
     },
     "execution_count": 4,
     "metadata": {},
     "output_type": "execute_result"
    }
   ],
   "source": [
    "df = np.array(df, dtype=float)\n",
    "df"
   ]
  },
  {
   "cell_type": "code",
   "execution_count": 5,
   "id": "ac86096e-9b6f-4a1c-9d66-55b5d7037385",
   "metadata": {},
   "outputs": [],
   "source": [
    "X = df[:, :8]\n",
    "Y = df[:, 8:]"
   ]
  },
  {
   "cell_type": "code",
   "execution_count": 6,
   "id": "e4f63db8-bd36-47e5-85d5-fd44d480eaa2",
   "metadata": {},
   "outputs": [],
   "source": [
    "def feature_scaling(X):\n",
    "    avg_array = np.mean(X, 0)\n",
    "    std_array = np.std(X, 0)\n",
    "    return np.divide(X - avg_array, std_array)"
   ]
  },
  {
   "cell_type": "code",
   "execution_count": 7,
   "id": "b1a47f14-37c3-41b9-83d4-22f650504f23",
   "metadata": {},
   "outputs": [
    {
     "data": {
      "text/plain": [
       "array([[ 0.63994726,  0.84832379,  0.14964075, ...,  0.20401277,\n",
       "         0.46849198,  1.4259954 ],\n",
       "       [-0.84488505, -1.12339636, -0.16054575, ..., -0.68442195,\n",
       "        -0.36506078, -0.19067191],\n",
       "       [ 1.23388019,  1.94372388, -0.26394125, ..., -1.10325546,\n",
       "         0.60439732, -0.10558415],\n",
       "       ...,\n",
       "       [ 0.3429808 ,  0.00330087,  0.14964075, ..., -0.73518964,\n",
       "        -0.68519336, -0.27575966],\n",
       "       [-0.84488505,  0.1597866 , -0.47073225, ..., -0.24020459,\n",
       "        -0.37110101,  1.17073215],\n",
       "       [-0.84488505, -0.8730192 ,  0.04624525, ..., -0.20212881,\n",
       "        -0.47378505, -0.87137393]])"
      ]
     },
     "execution_count": 7,
     "metadata": {},
     "output_type": "execute_result"
    }
   ],
   "source": [
    "X = feature_scaling(X)\n",
    "X"
   ]
  },
  {
   "cell_type": "code",
   "execution_count": 8,
   "id": "ed0128bf-9799-44aa-893f-727a81b07c32",
   "metadata": {},
   "outputs": [],
   "source": [
    "def add_bias(X):\n",
    "    B = np.ones((X.shape[0], 1))\n",
    "    return np.hstack((B, X))\n",
    "\n",
    "X = add_bias(X)"
   ]
  },
  {
   "cell_type": "code",
   "execution_count": 9,
   "id": "87c8aee3-a7d1-489b-ba75-118cb90b2d44",
   "metadata": {},
   "outputs": [
    {
     "data": {
      "text/plain": [
       "((614, 9), (154, 9), (614, 1), (154, 1))"
      ]
     },
     "execution_count": 9,
     "metadata": {},
     "output_type": "execute_result"
    }
   ],
   "source": [
    "def split(X, Y):\n",
    "    rows, _ = X.shape\n",
    "    train_rows = round(rows * 0.8)\n",
    "    test_rows = rows - train_rows\n",
    "    return X[:train_rows, :], X[train_rows:, :], Y[:train_rows, :], Y[train_rows:, :]\n",
    "\n",
    "X_train, X_test, Y_train, Y_test = split(X, Y)\n",
    "X_train.shape, X_test.shape, Y_train.shape, Y_test.shape"
   ]
  },
  {
   "cell_type": "code",
   "execution_count": 10,
   "id": "424580a7-989f-4af3-8897-ddfc313605c4",
   "metadata": {},
   "outputs": [
    {
     "data": {
      "text/plain": [
       "array([[0.12476962],\n",
       "       [0.73027753],\n",
       "       [0.18899521],\n",
       "       [0.90138736],\n",
       "       [0.74784583],\n",
       "       [0.70578886],\n",
       "       [0.83546314],\n",
       "       [0.28086015],\n",
       "       [0.35643773]])"
      ]
     },
     "execution_count": 10,
     "metadata": {},
     "output_type": "execute_result"
    }
   ],
   "source": [
    "A = np.random.rand(X.shape[1], 1)\n",
    "A"
   ]
  },
  {
   "cell_type": "code",
   "execution_count": 11,
   "id": "49dad414-e99b-4860-b733-3c8cc9e57325",
   "metadata": {},
   "outputs": [],
   "source": [
    "def logistic_regression_function(X, A):\n",
    "    Z = np.dot(X, A)\n",
    "    return 1 / (1 + np.exp(-Z))"
   ]
  },
  {
   "cell_type": "code",
   "execution_count": 12,
   "id": "93ef911b-f832-4ded-b787-c55d983ee230",
   "metadata": {},
   "outputs": [],
   "source": [
    "def cost(X, A, Y):\n",
    "    m = Y.shape[0]\n",
    "    F_x = logistic_regression_function(X, A)\n",
    "    cost_ = - np.sum(Y * np.log(F_x) + (1 - Y) * np.log(1 - F_x)) / m\n",
    "    return cost_"
   ]
  },
  {
   "cell_type": "code",
   "execution_count": 13,
   "id": "beba53eb-abf9-4369-8b9b-b86f9183d94e",
   "metadata": {},
   "outputs": [],
   "source": [
    "epochs = 500\n",
    "learning_rate = 0.1"
   ]
  },
  {
   "cell_type": "code",
   "execution_count": 14,
   "id": "a93e4d6b-4746-4fd7-a166-a2ed876035e7",
   "metadata": {},
   "outputs": [],
   "source": [
    "def gradient_descent(X_train, Y_train, X_test, Y_test, A, learning_rate, epochs):\n",
    "    train_costs = []\n",
    "    test_costs = []\n",
    "    m_train = Y_train.shape[0]\n",
    "    m_test = Y_test.shape[0]\n",
    "    for k in range(epochs):\n",
    "        F_x = logistic_regression_function(X_train, A)\n",
    "        A = A - learning_rate * np.dot(X_train.T, (F_x - Y_train)) / m_train\n",
    "        cost_train_ = cost(X_train, A, Y_train)\n",
    "        cost_test_ = cost(X_test, A, Y_test)\n",
    "        train_costs.append(cost_train_)\n",
    "        test_costs.append(cost_test_)\n",
    "        if k % 20 == 0:\n",
    "            print(f\"epoch: {k}, {cost_train_}\")\n",
    "            print(f\"epoch: {k}, {cost_test_}\")\n",
    "    return A, train_costs, test_costs"
   ]
  },
  {
   "cell_type": "code",
   "execution_count": 15,
   "id": "4b117470-cea7-4d89-a742-c56a9fad8b5f",
   "metadata": {},
   "outputs": [
    {
     "name": "stdout",
     "output_type": "stream",
     "text": [
      "epoch: 0, 0.8053614978658502\n",
      "epoch: 0, 0.8894453962437459\n",
      "epoch: 20, 0.6567954067038931\n",
      "epoch: 20, 0.7178732657987662\n",
      "epoch: 40, 0.5665826946555219\n",
      "epoch: 40, 0.6127240596097145\n",
      "epoch: 60, 0.5182603668385266\n",
      "epoch: 60, 0.5555845040972164\n",
      "epoch: 80, 0.494731612047111\n",
      "epoch: 80, 0.5269013344662654\n",
      "epoch: 100, 0.48345774666727553\n",
      "epoch: 100, 0.5124515028791758\n",
      "epoch: 120, 0.47772382443412476\n",
      "epoch: 120, 0.5046213269135509\n",
      "epoch: 140, 0.47453367498740534\n",
      "epoch: 140, 0.4999613868307758\n",
      "epoch: 160, 0.47260823657321677\n",
      "epoch: 160, 0.49695755037695033\n",
      "epoch: 180, 0.47137409896324006\n",
      "epoch: 180, 0.4949065570841087\n",
      "epoch: 200, 0.47054980349443953\n",
      "epoch: 200, 0.49344944684184744\n",
      "epoch: 220, 0.4699835601079396\n",
      "epoch: 220, 0.4923846477645005\n",
      "epoch: 240, 0.46958682866610485\n",
      "epoch: 240, 0.4915897321591774\n",
      "epoch: 260, 0.46930482598986767\n",
      "epoch: 260, 0.490985890818791\n",
      "epoch: 280, 0.4691021726881642\n",
      "epoch: 280, 0.4905202468539489\n",
      "epoch: 300, 0.46895529515933\n",
      "epoch: 300, 0.4901562573581554\n",
      "epoch: 320, 0.46884811524988607\n",
      "epoch: 320, 0.4898681133379951\n",
      "epoch: 340, 0.4687694690489922\n",
      "epoch: 340, 0.48963728105921894\n",
      "epoch: 360, 0.468711495249\n",
      "epoch: 360, 0.4894502714893726\n",
      "epoch: 380, 0.4686685956199656\n",
      "epoch: 380, 0.489297154272923\n",
      "epoch: 400, 0.46863674700674846\n",
      "epoch: 400, 0.4891705432889659\n",
      "epoch: 420, 0.4686130364271681\n",
      "epoch: 420, 0.4890648912384119\n",
      "epoch: 440, 0.46859534155186017\n",
      "epoch: 440, 0.48897599211534326\n",
      "epoch: 460, 0.4685821080069642\n",
      "epoch: 460, 0.488900626368973\n",
      "epoch: 480, 0.4685721923420636\n",
      "epoch: 480, 0.48883630554248736\n"
     ]
    }
   ],
   "source": [
    "A, train_costs, test_costs = gradient_descent(X_train, Y_train, X_test, Y_test, A, learning_rate, epochs)"
   ]
  },
  {
   "cell_type": "code",
   "execution_count": 16,
   "id": "37c9c1d7-0d25-4275-810c-82c874fa62fb",
   "metadata": {},
   "outputs": [],
   "source": [
    "def plot_cost(train_costs, test_costs, epochs):\n",
    "    plt.xlabel('Epochs')\n",
    "    plt.ylabel('Cost')\n",
    "    plt.plot(epochs, train_costs, 'm', linewidth='1', color='r', label='mashqdagi xatolik')\n",
    "    plt.plot(epochs, test_costs, 'm', linewidth='1', color='g', label='testdagi xatolik')\n",
    "    plt.legend(loc='upper right')\n",
    "    plt.show()"
   ]
  },
  {
   "cell_type": "code",
   "execution_count": 18,
   "id": "d2a6c9ea-ba2e-4fa5-b331-8601cd23af2d",
   "metadata": {},
   "outputs": [
    {
     "name": "stderr",
     "output_type": "stream",
     "text": [
      "C:\\Users\\JAVOHIR\\AppData\\Local\\Temp\\ipykernel_8396\\1043726054.py:4: UserWarning: color is redundantly defined by the 'color' keyword argument and the fmt string \"m\" (-> color=(0.75, 0.0, 0.75, 1)). The keyword argument will take precedence.\n",
      "  plt.plot(epochs, train_costs, 'm', linewidth='1', color='r', label='mashqdagi xatolik')\n",
      "C:\\Users\\JAVOHIR\\AppData\\Local\\Temp\\ipykernel_8396\\1043726054.py:5: UserWarning: color is redundantly defined by the 'color' keyword argument and the fmt string \"m\" (-> color=(0.75, 0.0, 0.75, 1)). The keyword argument will take precedence.\n",
      "  plt.plot(epochs, test_costs, 'm', linewidth='1', color='g', label='testdagi xatolik')\n"
     ]
    },
    {
     "data": {
      "image/png": "[encoded data removed]",
      "text/plain": [
       "<Figure size 640x480 with 1 Axes>"
      ]
     },
     "metadata": {},
     "output_type": "display_data"
    }
   ],
   "source": [
    "n_epochs = np.arange(1, epochs + 1)\n",
    "\n",
    "plt.figure(figsize=(8, 6), dpi=80)\n",
    "\n",
    "plot_cost(train_costs, test_costs, n_epochs)"
   ]
  },
  {
   "cell_type": "code",
   "execution_count": 19,
   "id": "79b39e74-81b1-4068-b13c-a2fa44772445",
   "metadata": {},
   "outputs": [
    {
     "data": {
      "text/plain": [
       "array([[0.74911379],\n",
       "       [0.08784502],\n",
       "       [0.16845903],\n",
       "       [0.01464831],\n",
       "       [0.50035045],\n",
       "       [0.27511544],\n",
       "       [0.20974051],\n",
       "       [0.16804153],\n",
       "       [0.96500052],\n",
       "       [0.20601054]])"
      ]
     },
     "execution_count": 19,
     "metadata": {},
     "output_type": "execute_result"
    }
   ],
   "source": [
    "test_predictions = logistic_regression_function(X_test, A)\n",
    "test_predictions[:10, :]"
   ]
  },
  {
   "cell_type": "code",
   "execution_count": 20,
   "id": "d68a5ae2-ec15-4883-ae23-cf17a74315a7",
   "metadata": {},
   "outputs": [],
   "source": [
    "def db_function(prediction):\n",
    "    if prediction > 0.5:\n",
    "        return 1\n",
    "    else:\n",
    "        return 0\n",
    "\n",
    "db_function = np.vectorize(db_function)"
   ]
  },
  {
   "cell_type": "code",
   "execution_count": 21,
   "id": "797a601f-f8d4-4b8a-a3a7-bf122700e26b",
   "metadata": {},
   "outputs": [
    {
     "data": {
      "text/plain": [
       "array([[1],\n",
       "       [0],\n",
       "       [0],\n",
       "       [0],\n",
       "       [1],\n",
       "       [0],\n",
       "       [0],\n",
       "       [0],\n",
       "       [1],\n",
       "       [0]])"
      ]
     },
     "execution_count": 21,
     "metadata": {},
     "output_type": "execute_result"
    }
   ],
   "source": [
    "test_predictions = db_function(test_predictions)\n",
    "test_predictions[:10, :]"
   ]
  },
  {
   "cell_type": "code",
   "execution_count": 22,
   "id": "71f214fe-58d8-4e89-a807-a2260ade4aa3",
   "metadata": {},
   "outputs": [],
   "source": [
    "def calculate_helper_vars(predicted, actual):\n",
    "    n = actual.shape[0]\n",
    "    predicted = predicted.reshape(-1, actual.shape[1])\n",
    "    tp = np.count_nonzero((predicted==actual) & (predicted==1))\n",
    "    tn = np.count_nonzero((predicted==actual) & (predicted==0))\n",
    "    fp = np.count_nonzero((predicted!=actual) & (predicted==1))\n",
    "    fn = np.count_nonzero((predicted!=actual) & (predicted==0))\n",
    "    return tp, tn, fp, fn, n"
   ]
  },
  {
   "cell_type": "code",
   "execution_count": 23,
   "id": "dcaae3bd-4176-40b5-b37e-25f288f0add7",
   "metadata": {},
   "outputs": [],
   "source": [
    "tp, tn, fp, fn, n = calculate_helper_vars(test_predictions, Y_test)"
   ]
  },
  {
   "cell_type": "code",
   "execution_count": 27,
   "id": "89e253ff-ed31-4160-8bd2-95f20d62efa7",
   "metadata": {},
   "outputs": [],
   "source": [
    "def calc_metrics(tp, tn, fp, fn, n):\n",
    "    accuracy = (tp + tn) / n\n",
    "    precision = tp / (tp + fp)\n",
    "    recall = tp / (tp + fn)\n",
    "    f1_score = 2 * (recall * precision) / (recall + precision)\n",
    "    return accuracy, precision, recall, f1_score"
   ]
  },
  {
   "cell_type": "code",
   "execution_count": 28,
   "id": "358deffe-8dab-406c-a84a-30743c48e4dd",
   "metadata": {},
   "outputs": [
    {
     "name": "stdout",
     "output_type": "stream",
     "text": [
      "accuracy: 0.7727272727272727, precision: 0.75, recall: 0.5454545454545454, f1_score: 0.631578947368421\n"
     ]
    }
   ],
   "source": [
    "accuracy, precision, recall, f1_score = calc_metrics(tp, tn, fp, fn, n)\n",
    "print(f\"accuracy: {accuracy}, precision: {precision}, recall: {recall}, f1_score: {f1_score}\")"
   ]
  }
 ],
 "metadata": {
  "kernelspec": {
   "display_name": "Python 3 (ipykernel)",
   "language": "python",
   "name": "python3"
  },
  "language_info": {
   "codemirror_mode": {
    "name": "ipython",
    "version": 3
   },
   "file_extension": ".py",
   "mimetype": "text/x-python",
   "name": "python",
   "nbconvert_exporter": "python",
   "pygments_lexer": "ipython3",
   "version": "3.9.18"
  }
 },
 "nbformat": 4,
 "nbformat_minor": 5
}
