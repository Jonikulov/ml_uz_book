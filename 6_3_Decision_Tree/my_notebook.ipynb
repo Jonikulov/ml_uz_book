{
 "cells": [
  {
   "cell_type": "markdown",
   "id": "4716a003-aabc-4b3b-9406-154b309489f1",
   "metadata": {},
   "source": [
    "# Qaror Daraxti\n",
    "\n",
    "---\n",
    "\n",
    "- **Source:** https://medium.com/@penggongting/implementing-decision-tree-from-scratch-in-python-c732e7c69aea\n",
    "- Iris Dataset: https://scikit-learn.org/stable/auto\\_examples/datasets/plot\\_iris\\_dataset.html"
   ]
  },
  {
   "cell_type": "code",
   "execution_count": 1,
   "id": "e1e506bf-bccb-4a7c-96bf-4e3318a4e7a8",
   "metadata": {},
   "outputs": [],
   "source": [
    "from pprint import pprint\n",
    "import numpy as np\n",
    "from sklearn.datasets import load_iris\n",
    "from sklearn.model_selection import train_test_split\n",
    "from sklearn.metrics import classification_report"
   ]
  },
  {
   "cell_type": "code",
   "execution_count": 2,
   "id": "26ee7b1b-6edd-42d5-bdd3-f850c44bc46e",
   "metadata": {},
   "outputs": [],
   "source": [
    "def entropy_cal(c1, c2):\n",
    "    \"\"\"\n",
    "    Returns entropy of a group of data\n",
    "    c1: count of one class\n",
    "    c2: count of another class\n",
    "    \"\"\"\n",
    "\n",
    "    if c1==0 or c2==0:  # when there is one class in the group, entropy is 0\n",
    "        return 0\n",
    "    n = c1 + c2\n",
    "    return -(c1/n)*np.log2(c1/n) - (c2/n)*np.log2(c2/n)"
   ]
  },
  {
   "cell_type": "code",
   "execution_count": 3,
   "id": "c613fef9-93f2-4954-9405-7da69157e97e",
   "metadata": {},
   "outputs": [],
   "source": [
    "# Get the entropy of one big circle showing above\n",
    "def entropy_of_one_division(division):\n",
    "    \"\"\"\n",
    "    Returns entropy of a divided group of data\n",
    "    Data may have multiple classes\n",
    "    \"\"\"\n",
    "\n",
    "    s = 0\n",
    "    n = len(division)\n",
    "    classes = set(division)\n",
    "    for c in classes:  # for each class, get entropy\n",
    "        n_c = sum(division==c)\n",
    "        e = n_c/n * entropy_cal(sum(division==c), sum(division!=c))  # weighted avg\n",
    "        s += e\n",
    "    return s, n"
   ]
  },
  {
   "cell_type": "code",
   "execution_count": 4,
   "id": "5503d82e-42dd-4f05-91cf-4a2ee3d71a37",
   "metadata": {},
   "outputs": [],
   "source": [
    "# The whole entropy of two big circles combined\n",
    "def get_entropy(y_predict, y_real):\n",
    "    \"\"\"\n",
    "    Returns entropy of a split\n",
    "    y_predict is the split decision, True/Fasle, and y_true can be multi class\n",
    "    \"\"\"\n",
    "    if len(y_predict) != len(y_real):\n",
    "        print('They have to be the same length')\n",
    "        return None\n",
    "    n = len(y_real)\n",
    "    s_true, n_true = entropy_of_one_division(y_real[y_predict]) # left hand side entropy\n",
    "    s_false, n_false = entropy_of_one_division(y_real[~y_predict]) # right hand side entropy\n",
    "    s = n_true/n * s_true + n_false/n * s_false # overall entropy, again weighted average\n",
    "    return s"
   ]
  },
  {
   "cell_type": "code",
   "execution_count": 5,
   "id": "7b200635-2731-4ef3-9c4c-f11356f5faa0",
   "metadata": {},
   "outputs": [],
   "source": [
    "class DecisionTreeClassifier(object):\n",
    "    def __init__(self, max_depth):\n",
    "        self.depth = 0\n",
    "        self.max_depth = max_depth\n",
    "    \n",
    "    def fit(self, x, y, par_node={}, depth=0):\n",
    "        if par_node is None: \n",
    "            return None\n",
    "        elif len(y) == 0:\n",
    "            return None\n",
    "        elif self.all_same(y):\n",
    "            return {'val':y[0]}\n",
    "        elif depth >= self.max_depth: \n",
    "            return None\n",
    "        else: \n",
    "            col, cutoff, entropy = self.find_best_split_of_all(x, y)    # find one split given an information gain \n",
    "            y_left = y[x[:, col] < cutoff]\n",
    "            y_right = y[x[:, col] >= cutoff]\n",
    "            par_node = {'col': iris.feature_names[col], 'index_col':col,\n",
    "                        'cutoff':cutoff,\n",
    "                       'val': np.round(np.mean(y))}\n",
    "            par_node['left'] = self.fit(x[x[:, col] < cutoff], y_left, {}, depth+1)\n",
    "            par_node['right'] = self.fit(x[x[:, col] >= cutoff], y_right, {}, depth+1)\n",
    "            self.depth += 1 \n",
    "            self.trees = par_node\n",
    "            return par_node\n",
    "    \n",
    "    def find_best_split_of_all(self, x, y):\n",
    "        col = None\n",
    "        min_entropy = 1\n",
    "        cutoff = None\n",
    "        for i, c in enumerate(x.T):\n",
    "            entropy, cur_cutoff = self.find_best_split(c, y)\n",
    "            if entropy == 0:    # find the first perfect cutoff. Stop Iterating\n",
    "                return i, cur_cutoff, entropy\n",
    "            elif entropy <= min_entropy:\n",
    "                min_entropy = entropy\n",
    "                col = i\n",
    "                cutoff = cur_cutoff\n",
    "        return col, cutoff, min_entropy\n",
    "    \n",
    "    def find_best_split(self, col, y):\n",
    "        min_entropy = 10\n",
    "        n = len(y)\n",
    "        for value in set(col):\n",
    "            y_predict = col < value\n",
    "            my_entropy = get_entropy(y_predict, y)\n",
    "            if my_entropy <= min_entropy:\n",
    "                min_entropy = my_entropy\n",
    "                cutoff = value\n",
    "        return min_entropy, cutoff\n",
    "    \n",
    "    def all_same(self, items):\n",
    "        return all(x == items[0] for x in items)\n",
    "                                           \n",
    "    def predict(self, x):\n",
    "        tree = self.trees\n",
    "        results = np.array([0]*len(x))\n",
    "        for i, c in enumerate(x):\n",
    "            results[i] = self._get_prediction(c)\n",
    "        return results\n",
    "    \n",
    "    def _get_prediction(self, row):\n",
    "        cur_layer = self.trees\n",
    "        while cur_layer.get('cutoff'):\n",
    "            if row[cur_layer['index_col']] < cur_layer['cutoff']:\n",
    "                cur_layer = cur_layer['left']\n",
    "            else:\n",
    "                cur_layer = cur_layer['right']\n",
    "        else:\n",
    "            return cur_layer.get('val')"
   ]
  },
  {
   "cell_type": "code",
   "execution_count": 6,
   "id": "355d37df-c75c-4559-9e70-ae1af951466e",
   "metadata": {},
   "outputs": [],
   "source": [
    "iris = load_iris()\n",
    "\n",
    "x = iris.data\n",
    "y = iris.target"
   ]
  },
  {
   "cell_type": "code",
   "execution_count": 7,
   "id": "95c2e159-9c00-47dd-ae2d-d8dff028889d",
   "metadata": {},
   "outputs": [
    {
     "data": {
      "text/plain": [
       "((112, 4), (38, 4), (112,), (38,))"
      ]
     },
     "execution_count": 7,
     "metadata": {},
     "output_type": "execute_result"
    }
   ],
   "source": [
    "x_train, x_test, y_train, y_test = train_test_split(x, y)\n",
    "x_train.shape, x_test.shape, y_train.shape, y_test.shape"
   ]
  },
  {
   "cell_type": "code",
   "execution_count": 8,
   "id": "dac11480-104b-4c0d-851e-925c7aaa57ea",
   "metadata": {},
   "outputs": [
    {
     "name": "stdout",
     "output_type": "stream",
     "text": [
      "{'col': 'petal width (cm)',\n",
      " 'cutoff': 1.0,\n",
      " 'index_col': 3,\n",
      " 'left': {'val': 0},\n",
      " 'right': {'col': 'petal width (cm)',\n",
      "           'cutoff': 1.8,\n",
      "           'index_col': 3,\n",
      "           'left': {'col': 'petal length (cm)',\n",
      "                    'cutoff': 5.0,\n",
      "                    'index_col': 2,\n",
      "                    'left': {'val': 1},\n",
      "                    'right': {'col': 'petal width (cm)',\n",
      "                              'cutoff': 1.6,\n",
      "                              'index_col': 3,\n",
      "                              'left': {'val': 2},\n",
      "                              'right': {'val': 1},\n",
      "                              'val': 2.0},\n",
      "                    'val': 1.0},\n",
      "           'right': {'val': 2},\n",
      "           'val': 1.0},\n",
      " 'val': 1.0}\n"
     ]
    }
   ],
   "source": [
    "qaror_daraxti = DecisionTreeClassifier(max_depth=7)\n",
    "mashq_jarayoni = qaror_daraxti.fit(x_train, y_train)\n",
    "pprint(mashq_jarayoni)"
   ]
  },
  {
   "cell_type": "code",
   "execution_count": 9,
   "id": "b89742a2-e02a-447e-b20c-acd136f90634",
   "metadata": {},
   "outputs": [
    {
     "data": {
      "text/plain": [
       "array([1, 0, 2, 2, 2, 0, 0, 0, 1, 0, 0, 1, 2, 2, 0, 0, 2, 2, 2, 1, 1, 1,\n",
       "       0, 0, 1, 1, 1, 0, 2, 2, 0, 1, 2, 2, 1, 2, 1, 0])"
      ]
     },
     "execution_count": 9,
     "metadata": {},
     "output_type": "execute_result"
    }
   ],
   "source": [
    "predicted_y_test = qaror_daraxti.predict(x_test)\n",
    "predicted_y_test"
   ]
  },
  {
   "cell_type": "code",
   "execution_count": 10,
   "id": "a840c6ec-fbeb-46af-a1cd-85e3302cf9aa",
   "metadata": {},
   "outputs": [
    {
     "name": "stdout",
     "output_type": "stream",
     "text": [
      "              precision    recall  f1-score   support\n",
      "\n",
      "           0       1.00      1.00      1.00        13\n",
      "           1       0.83      0.91      0.87        11\n",
      "           2       0.92      0.86      0.89        14\n",
      "\n",
      "    accuracy                           0.92        38\n",
      "   macro avg       0.92      0.92      0.92        38\n",
      "weighted avg       0.92      0.92      0.92        38\n",
      "\n"
     ]
    }
   ],
   "source": [
    "print(classification_report(y_test, predicted_y_test))"
   ]
  }
 ],
 "metadata": {
  "kernelspec": {
   "display_name": "Python 3 (ipykernel)",
   "language": "python",
   "name": "python3"
  },
  "language_info": {
   "codemirror_mode": {
    "name": "ipython",
    "version": 3
   },
   "file_extension": ".py",
   "mimetype": "text/x-python",
   "name": "python",
   "nbconvert_exporter": "python",
   "pygments_lexer": "ipython3",
   "version": "3.9.18"
  }
 },
 "nbformat": 4,
 "nbformat_minor": 5
}
