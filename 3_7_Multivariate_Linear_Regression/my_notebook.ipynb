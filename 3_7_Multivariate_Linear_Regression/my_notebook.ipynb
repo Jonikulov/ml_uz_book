{
 "cells": [
  {
   "cell_type": "markdown",
   "id": "26bf96c1-5cb5-4106-bb09-d0b2c0e0cbbb",
   "metadata": {},
   "source": [
    "# Ko'p O'zgaruvchili Chiziqli Regressiya"
   ]
  },
  {
   "cell_type": "code",
   "execution_count": 1,
   "id": "3165eec2-0e70-4de3-b4fb-cdbc88953bae",
   "metadata": {},
   "outputs": [],
   "source": [
    "import numpy as np\n",
    "import pandas as pd\n",
    "import matplotlib.pyplot as plt"
   ]
  },
  {
   "cell_type": "code",
   "execution_count": 2,
   "id": "c62fa8e9-71ce-4b4e-9271-8a11b389523f",
   "metadata": {},
   "outputs": [
    {
     "data": {
      "text/html": [
       "<div>\n",
       "<style scoped>\n",
       "    .dataframe tbody tr th:only-of-type {\n",
       "        vertical-align: middle;\n",
       "    }\n",
       "\n",
       "    .dataframe tbody tr th {\n",
       "        vertical-align: top;\n",
       "    }\n",
       "\n",
       "    .dataframe thead th {\n",
       "        text-align: right;\n",
       "    }\n",
       "</style>\n",
       "<table border=\"1\" class=\"dataframe\">\n",
       "  <thead>\n",
       "    <tr style=\"text-align: right;\">\n",
       "      <th></th>\n",
       "      <th>Serial No.</th>\n",
       "      <th>GRE Score</th>\n",
       "      <th>TOEFL Score</th>\n",
       "      <th>University Rating</th>\n",
       "      <th>SOP</th>\n",
       "      <th>LOR</th>\n",
       "      <th>CGPA</th>\n",
       "      <th>Research</th>\n",
       "      <th>Chance of Admit</th>\n",
       "    </tr>\n",
       "  </thead>\n",
       "  <tbody>\n",
       "    <tr>\n",
       "      <th>0</th>\n",
       "      <td>1</td>\n",
       "      <td>337</td>\n",
       "      <td>118</td>\n",
       "      <td>4</td>\n",
       "      <td>4.5</td>\n",
       "      <td>4.5</td>\n",
       "      <td>9.65</td>\n",
       "      <td>1</td>\n",
       "      <td>0.92</td>\n",
       "    </tr>\n",
       "    <tr>\n",
       "      <th>1</th>\n",
       "      <td>2</td>\n",
       "      <td>324</td>\n",
       "      <td>107</td>\n",
       "      <td>4</td>\n",
       "      <td>4.0</td>\n",
       "      <td>4.5</td>\n",
       "      <td>8.87</td>\n",
       "      <td>1</td>\n",
       "      <td>0.76</td>\n",
       "    </tr>\n",
       "    <tr>\n",
       "      <th>2</th>\n",
       "      <td>3</td>\n",
       "      <td>316</td>\n",
       "      <td>104</td>\n",
       "      <td>3</td>\n",
       "      <td>3.0</td>\n",
       "      <td>3.5</td>\n",
       "      <td>8.00</td>\n",
       "      <td>1</td>\n",
       "      <td>0.72</td>\n",
       "    </tr>\n",
       "    <tr>\n",
       "      <th>3</th>\n",
       "      <td>4</td>\n",
       "      <td>322</td>\n",
       "      <td>110</td>\n",
       "      <td>3</td>\n",
       "      <td>3.5</td>\n",
       "      <td>2.5</td>\n",
       "      <td>8.67</td>\n",
       "      <td>1</td>\n",
       "      <td>0.80</td>\n",
       "    </tr>\n",
       "    <tr>\n",
       "      <th>4</th>\n",
       "      <td>5</td>\n",
       "      <td>314</td>\n",
       "      <td>103</td>\n",
       "      <td>2</td>\n",
       "      <td>2.0</td>\n",
       "      <td>3.0</td>\n",
       "      <td>8.21</td>\n",
       "      <td>0</td>\n",
       "      <td>0.65</td>\n",
       "    </tr>\n",
       "    <tr>\n",
       "      <th>...</th>\n",
       "      <td>...</td>\n",
       "      <td>...</td>\n",
       "      <td>...</td>\n",
       "      <td>...</td>\n",
       "      <td>...</td>\n",
       "      <td>...</td>\n",
       "      <td>...</td>\n",
       "      <td>...</td>\n",
       "      <td>...</td>\n",
       "    </tr>\n",
       "    <tr>\n",
       "      <th>395</th>\n",
       "      <td>396</td>\n",
       "      <td>324</td>\n",
       "      <td>110</td>\n",
       "      <td>3</td>\n",
       "      <td>3.5</td>\n",
       "      <td>3.5</td>\n",
       "      <td>9.04</td>\n",
       "      <td>1</td>\n",
       "      <td>0.82</td>\n",
       "    </tr>\n",
       "    <tr>\n",
       "      <th>396</th>\n",
       "      <td>397</td>\n",
       "      <td>325</td>\n",
       "      <td>107</td>\n",
       "      <td>3</td>\n",
       "      <td>3.0</td>\n",
       "      <td>3.5</td>\n",
       "      <td>9.11</td>\n",
       "      <td>1</td>\n",
       "      <td>0.84</td>\n",
       "    </tr>\n",
       "    <tr>\n",
       "      <th>397</th>\n",
       "      <td>398</td>\n",
       "      <td>330</td>\n",
       "      <td>116</td>\n",
       "      <td>4</td>\n",
       "      <td>5.0</td>\n",
       "      <td>4.5</td>\n",
       "      <td>9.45</td>\n",
       "      <td>1</td>\n",
       "      <td>0.91</td>\n",
       "    </tr>\n",
       "    <tr>\n",
       "      <th>398</th>\n",
       "      <td>399</td>\n",
       "      <td>312</td>\n",
       "      <td>103</td>\n",
       "      <td>3</td>\n",
       "      <td>3.5</td>\n",
       "      <td>4.0</td>\n",
       "      <td>8.78</td>\n",
       "      <td>0</td>\n",
       "      <td>0.67</td>\n",
       "    </tr>\n",
       "    <tr>\n",
       "      <th>399</th>\n",
       "      <td>400</td>\n",
       "      <td>333</td>\n",
       "      <td>117</td>\n",
       "      <td>4</td>\n",
       "      <td>5.0</td>\n",
       "      <td>4.0</td>\n",
       "      <td>9.66</td>\n",
       "      <td>1</td>\n",
       "      <td>0.95</td>\n",
       "    </tr>\n",
       "  </tbody>\n",
       "</table>\n",
       "<p>400 rows × 9 columns</p>\n",
       "</div>"
      ],
      "text/plain": [
       "     Serial No.  GRE Score  TOEFL Score  University Rating  SOP  LOR   CGPA  \\\n",
       "0             1        337          118                  4  4.5   4.5  9.65   \n",
       "1             2        324          107                  4  4.0   4.5  8.87   \n",
       "2             3        316          104                  3  3.0   3.5  8.00   \n",
       "3             4        322          110                  3  3.5   2.5  8.67   \n",
       "4             5        314          103                  2  2.0   3.0  8.21   \n",
       "..          ...        ...          ...                ...  ...   ...   ...   \n",
       "395         396        324          110                  3  3.5   3.5  9.04   \n",
       "396         397        325          107                  3  3.0   3.5  9.11   \n",
       "397         398        330          116                  4  5.0   4.5  9.45   \n",
       "398         399        312          103                  3  3.5   4.0  8.78   \n",
       "399         400        333          117                  4  5.0   4.0  9.66   \n",
       "\n",
       "     Research  Chance of Admit   \n",
       "0           1              0.92  \n",
       "1           1              0.76  \n",
       "2           1              0.72  \n",
       "3           1              0.80  \n",
       "4           0              0.65  \n",
       "..        ...               ...  \n",
       "395         1              0.82  \n",
       "396         1              0.84  \n",
       "397         1              0.91  \n",
       "398         0              0.67  \n",
       "399         1              0.95  \n",
       "\n",
       "[400 rows x 9 columns]"
      ]
     },
     "execution_count": 2,
     "metadata": {},
     "output_type": "execute_result"
    }
   ],
   "source": [
    "# Dataset: https://kaggle.com/datasets/mohansacharya/graduate-admissions\n",
    "df = pd.read_csv('admission_predict.csv')\n",
    "df"
   ]
  },
  {
   "cell_type": "code",
   "execution_count": 3,
   "id": "630a9fe5-5021-451f-8805-fabdcb105f72",
   "metadata": {},
   "outputs": [
    {
     "name": "stdout",
     "output_type": "stream",
     "text": [
      "<class 'pandas.core.frame.DataFrame'>\n",
      "RangeIndex: 400 entries, 0 to 399\n",
      "Data columns (total 9 columns):\n",
      " #   Column             Non-Null Count  Dtype  \n",
      "---  ------             --------------  -----  \n",
      " 0   Serial No.         400 non-null    int64  \n",
      " 1   GRE Score          400 non-null    int64  \n",
      " 2   TOEFL Score        400 non-null    int64  \n",
      " 3   University Rating  400 non-null    int64  \n",
      " 4   SOP                400 non-null    float64\n",
      " 5   LOR                400 non-null    float64\n",
      " 6   CGPA               400 non-null    float64\n",
      " 7   Research           400 non-null    int64  \n",
      " 8   Chance of Admit    400 non-null    float64\n",
      "dtypes: float64(4), int64(5)\n",
      "memory usage: 28.2 KB\n"
     ]
    }
   ],
   "source": [
    "df.info()"
   ]
  },
  {
   "cell_type": "code",
   "execution_count": 4,
   "id": "8f725516-dde3-4f24-bf96-85e73f2b188f",
   "metadata": {},
   "outputs": [
    {
     "data": {
      "text/plain": [
       "array([[  1.  , 337.  , 118.  , ...,   9.65,   1.  ,   0.92],\n",
       "       [  2.  , 324.  , 107.  , ...,   8.87,   1.  ,   0.76],\n",
       "       [  3.  , 316.  , 104.  , ...,   8.  ,   1.  ,   0.72],\n",
       "       ...,\n",
       "       [398.  , 330.  , 116.  , ...,   9.45,   1.  ,   0.91],\n",
       "       [399.  , 312.  , 103.  , ...,   8.78,   0.  ,   0.67],\n",
       "       [400.  , 333.  , 117.  , ...,   9.66,   1.  ,   0.95]])"
      ]
     },
     "execution_count": 4,
     "metadata": {},
     "output_type": "execute_result"
    }
   ],
   "source": [
    "df = np.array(df, dtype=float)\n",
    "df"
   ]
  },
  {
   "cell_type": "code",
   "execution_count": 5,
   "id": "f7f9df25-96f2-4c0c-9d86-1a19fc90bce9",
   "metadata": {},
   "outputs": [
    {
     "data": {
      "text/plain": [
       "array([[337.  , 118.  ,   4.  ,   4.5 ,   4.5 ,   9.65,   1.  ],\n",
       "       [324.  , 107.  ,   4.  ,   4.  ,   4.5 ,   8.87,   1.  ],\n",
       "       [316.  , 104.  ,   3.  ,   3.  ,   3.5 ,   8.  ,   1.  ],\n",
       "       [322.  , 110.  ,   3.  ,   3.5 ,   2.5 ,   8.67,   1.  ],\n",
       "       [314.  , 103.  ,   2.  ,   2.  ,   3.  ,   8.21,   0.  ],\n",
       "       [330.  , 115.  ,   5.  ,   4.5 ,   3.  ,   9.34,   1.  ],\n",
       "       [321.  , 109.  ,   3.  ,   3.  ,   4.  ,   8.2 ,   1.  ],\n",
       "       [308.  , 101.  ,   2.  ,   3.  ,   4.  ,   7.9 ,   0.  ],\n",
       "       [302.  , 102.  ,   1.  ,   2.  ,   1.5 ,   8.  ,   0.  ],\n",
       "       [323.  , 108.  ,   3.  ,   3.5 ,   3.  ,   8.6 ,   0.  ]])"
      ]
     },
     "execution_count": 5,
     "metadata": {},
     "output_type": "execute_result"
    }
   ],
   "source": [
    "X = df[:, 1:8]\n",
    "X[:10]"
   ]
  },
  {
   "cell_type": "code",
   "execution_count": 6,
   "id": "cd66b145-1207-482d-8ec6-bdcdc5ec9e16",
   "metadata": {},
   "outputs": [
    {
     "data": {
      "text/plain": [
       "array([[0.92],\n",
       "       [0.76],\n",
       "       [0.72],\n",
       "       [0.8 ],\n",
       "       [0.65],\n",
       "       [0.9 ],\n",
       "       [0.75],\n",
       "       [0.68],\n",
       "       [0.5 ],\n",
       "       [0.45]])"
      ]
     },
     "execution_count": 6,
     "metadata": {},
     "output_type": "execute_result"
    }
   ],
   "source": [
    "Y = df[:, 8:]\n",
    "Y[:10]"
   ]
  },
  {
   "cell_type": "code",
   "execution_count": 7,
   "id": "8149f68f-1983-4476-815d-faf8f6dad9c3",
   "metadata": {},
   "outputs": [
    {
     "data": {
      "text/plain": [
       "array([[92.],\n",
       "       [76.],\n",
       "       [72.],\n",
       "       [80.],\n",
       "       [65.],\n",
       "       [90.],\n",
       "       [75.],\n",
       "       [68.],\n",
       "       [50.],\n",
       "       [45.]])"
      ]
     },
     "execution_count": 7,
     "metadata": {},
     "output_type": "execute_result"
    }
   ],
   "source": [
    "Y = Y * 100\n",
    "Y[:10]"
   ]
  },
  {
   "cell_type": "code",
   "execution_count": 8,
   "id": "734ed08f-d09d-42e3-bb94-134375ec81f4",
   "metadata": {},
   "outputs": [],
   "source": [
    "def feature_scaling(X):\n",
    "    avg_array = np.mean(X, 0)\n",
    "    std_array = np.std(X, 0)\n",
    "    return np.divide(X - avg_array, std_array)"
   ]
  },
  {
   "cell_type": "code",
   "execution_count": 9,
   "id": "1ac5d6a3-bb32-4a5a-90cb-f084a51b9fe5",
   "metadata": {},
   "outputs": [
    {
     "data": {
      "text/plain": [
       "array([[ 1.76210664e+00,  1.74697064e+00,  7.98828624e-01,\n",
       "         1.09386422e+00,  1.16732114e+00,  1.76481828e+00,\n",
       "         9.09111664e-01],\n",
       "       [ 6.27656409e-01, -6.76353128e-02,  7.98828624e-01,\n",
       "         5.96653212e-01,  1.16732114e+00,  4.55151264e-01,\n",
       "         9.09111664e-01],\n",
       "       [-7.04668127e-02, -5.62527846e-01, -7.66000050e-02,\n",
       "        -3.97768808e-01,  5.29334168e-02, -1.00563118e+00,\n",
       "         9.09111664e-01],\n",
       "       [ 4.53125604e-01,  4.27257220e-01, -7.66000050e-02,\n",
       "         9.94422020e-02, -1.06145431e+00,  1.19339209e-01,\n",
       "         9.09111664e-01],\n",
       "       [-2.44997618e-01, -7.27492023e-01, -9.52028634e-01,\n",
       "        -1.39219083e+00, -5.04260444e-01, -6.53028518e-01,\n",
       "        -1.09997489e+00],\n",
       "       [ 1.15124883e+00,  1.25207811e+00,  1.67425725e+00,\n",
       "         1.09386422e+00, -5.04260444e-01,  1.24430959e+00,\n",
       "         9.09111664e-01],\n",
       "       [ 3.65860201e-01,  2.62293042e-01, -7.66000050e-02,\n",
       "        -3.97768808e-01,  6.10127278e-01, -6.69819121e-01,\n",
       "         9.09111664e-01],\n",
       "       [-7.68590034e-01, -1.05742038e+00, -9.52028634e-01,\n",
       "        -3.97768808e-01,  6.10127278e-01, -1.17353720e+00,\n",
       "        -1.09997489e+00],\n",
       "       [-1.29218245e+00, -8.92456201e-01, -1.82745726e+00,\n",
       "        -1.39219083e+00, -2.17584203e+00, -1.00563118e+00,\n",
       "        -1.09997489e+00],\n",
       "       [ 5.40391006e-01,  9.73288648e-02, -7.66000050e-02,\n",
       "         9.94422020e-02, -5.04260444e-01,  1.80498980e-03,\n",
       "        -1.09997489e+00]])"
      ]
     },
     "execution_count": 9,
     "metadata": {},
     "output_type": "execute_result"
    }
   ],
   "source": [
    "X = feature_scaling(X)\n",
    "X[:10]"
   ]
  },
  {
   "cell_type": "code",
   "execution_count": 10,
   "id": "9760e639-14d8-4212-af40-47eb157eeb28",
   "metadata": {},
   "outputs": [],
   "source": [
    "def add_bias(X):\n",
    "    A_0 = np.ones((X.shape[0], 1))\n",
    "    return np.hstack((A_0, X))"
   ]
  },
  {
   "cell_type": "code",
   "execution_count": 11,
   "id": "7c2c0efb-4554-4dd9-ba64-0cccc170f473",
   "metadata": {},
   "outputs": [
    {
     "data": {
      "text/plain": [
       "array([[ 1.00000000e+00,  1.76210664e+00,  1.74697064e+00,\n",
       "         7.98828624e-01,  1.09386422e+00,  1.16732114e+00,\n",
       "         1.76481828e+00,  9.09111664e-01],\n",
       "       [ 1.00000000e+00,  6.27656409e-01, -6.76353128e-02,\n",
       "         7.98828624e-01,  5.96653212e-01,  1.16732114e+00,\n",
       "         4.55151264e-01,  9.09111664e-01],\n",
       "       [ 1.00000000e+00, -7.04668127e-02, -5.62527846e-01,\n",
       "        -7.66000050e-02, -3.97768808e-01,  5.29334168e-02,\n",
       "        -1.00563118e+00,  9.09111664e-01],\n",
       "       [ 1.00000000e+00,  4.53125604e-01,  4.27257220e-01,\n",
       "        -7.66000050e-02,  9.94422020e-02, -1.06145431e+00,\n",
       "         1.19339209e-01,  9.09111664e-01],\n",
       "       [ 1.00000000e+00, -2.44997618e-01, -7.27492023e-01,\n",
       "        -9.52028634e-01, -1.39219083e+00, -5.04260444e-01,\n",
       "        -6.53028518e-01, -1.09997489e+00],\n",
       "       [ 1.00000000e+00,  1.15124883e+00,  1.25207811e+00,\n",
       "         1.67425725e+00,  1.09386422e+00, -5.04260444e-01,\n",
       "         1.24430959e+00,  9.09111664e-01],\n",
       "       [ 1.00000000e+00,  3.65860201e-01,  2.62293042e-01,\n",
       "        -7.66000050e-02, -3.97768808e-01,  6.10127278e-01,\n",
       "        -6.69819121e-01,  9.09111664e-01],\n",
       "       [ 1.00000000e+00, -7.68590034e-01, -1.05742038e+00,\n",
       "        -9.52028634e-01, -3.97768808e-01,  6.10127278e-01,\n",
       "        -1.17353720e+00, -1.09997489e+00],\n",
       "       [ 1.00000000e+00, -1.29218245e+00, -8.92456201e-01,\n",
       "        -1.82745726e+00, -1.39219083e+00, -2.17584203e+00,\n",
       "        -1.00563118e+00, -1.09997489e+00],\n",
       "       [ 1.00000000e+00,  5.40391006e-01,  9.73288648e-02,\n",
       "        -7.66000050e-02,  9.94422020e-02, -5.04260444e-01,\n",
       "         1.80498980e-03, -1.09997489e+00]])"
      ]
     },
     "execution_count": 11,
     "metadata": {},
     "output_type": "execute_result"
    }
   ],
   "source": [
    "X = add_bias(X)\n",
    "X[:10]"
   ]
  },
  {
   "cell_type": "code",
   "execution_count": 12,
   "id": "82d6fce8-b22f-4a1f-8d5b-7486e592dd40",
   "metadata": {},
   "outputs": [],
   "source": [
    "def split(X, Y):\n",
    "    rows, _ = X.shape\n",
    "    train_rows = round(rows * 0.8)\n",
    "    test_rows = rows - train_rows\n",
    "    return X[:train_rows, :], X[train_rows:, :], Y[:train_rows, :], Y[train_rows:, :]"
   ]
  },
  {
   "cell_type": "code",
   "execution_count": 13,
   "id": "8b3e1f9c-7c9b-417c-881f-e4123baf8029",
   "metadata": {},
   "outputs": [],
   "source": [
    "X_train, X_test, Y_train, Y_test = split(X, Y)"
   ]
  },
  {
   "cell_type": "code",
   "execution_count": 14,
   "id": "f94a8467-602c-44f4-a5c1-23bd1fc67e6d",
   "metadata": {},
   "outputs": [
    {
     "data": {
      "text/plain": [
       "((320, 8), (80, 8), (320, 1), (80, 1))"
      ]
     },
     "execution_count": 14,
     "metadata": {},
     "output_type": "execute_result"
    }
   ],
   "source": [
    "X_train.shape, X_test.shape, Y_train.shape, Y_test.shape"
   ]
  },
  {
   "cell_type": "code",
   "execution_count": 15,
   "id": "9f9f9a49-de24-4ff0-88b4-2d37fc2fa18b",
   "metadata": {},
   "outputs": [],
   "source": [
    "A = np.random.rand(X.shape[1], 1)"
   ]
  },
  {
   "cell_type": "code",
   "execution_count": 16,
   "id": "c0fd601f-3874-4cec-9d7a-aca846adf041",
   "metadata": {},
   "outputs": [],
   "source": [
    "def f_x(X, A):\n",
    "    return np.dot(X, A)"
   ]
  },
  {
   "cell_type": "code",
   "execution_count": 17,
   "id": "09fea211-ba62-4a82-9e7f-9e54e16ee51f",
   "metadata": {},
   "outputs": [],
   "source": [
    "def cost(X, A, Y, m):\n",
    "    diff = f_x(X, A) - Y\n",
    "    diff_2 = np.power(diff, 2)\n",
    "    sum_ = np.sum(diff_2)\n",
    "    cost_ = sum_ / (2 * m)\n",
    "    return cost_"
   ]
  },
  {
   "cell_type": "code",
   "execution_count": 18,
   "id": "bc398a44-c4db-45c2-a6d2-2f239681a77a",
   "metadata": {},
   "outputs": [],
   "source": [
    "epochs = 100\n",
    "learning_rate = 0.05"
   ]
  },
  {
   "cell_type": "code",
   "execution_count": 19,
   "id": "30cce59c-db32-482b-a0a2-fbe8ad817b71",
   "metadata": {},
   "outputs": [],
   "source": [
    "def gradeint_descent(X_train, Y_train, X_test, Y_test, A, learning_rate, epochs):\n",
    "    m_train = Y_train.shape[0]\n",
    "    m_test = Y_test.shape[0]\n",
    "    train_costs = []\n",
    "    test_costs = []\n",
    "    for k in range(epochs):\n",
    "        fx = f_x(X_train, A)\n",
    "        sum_diff = np.dot(X_train.T, np.subtract(fx, Y_train)) / m_train\n",
    "        A = A - learning_rate * sum_diff\n",
    "        cost_train = cost(X_train, A, Y_train, m_train)\n",
    "        cost_test = cost(X_test, A, Y_test, m_test)\n",
    "        if k % 10 == 0:\n",
    "            print(f'epoch: {k}, {cost_train}')\n",
    "            print(f'epoch: {k}, {cost_test}')\n",
    "        train_costs.append(cost_train)\n",
    "        test_costs.append(cost_test)\n",
    "    return A, train_costs, test_costs"
   ]
  },
  {
   "cell_type": "code",
   "execution_count": 20,
   "id": "783d66d5-bdbe-4364-aef1-3ba725113b4d",
   "metadata": {},
   "outputs": [
    {
     "name": "stdout",
     "output_type": "stream",
     "text": [
      "epoch: 0, 2353.3962724662065\n",
      "epoch: 0, 2346.7429407386176\n",
      "epoch: 10, 835.2923206146272\n",
      "epoch: 10, 986.5010708011225\n",
      "epoch: 20, 316.2831104588577\n",
      "epoch: 20, 403.59547391043714\n",
      "epoch: 30, 128.77165052461305\n",
      "epoch: 30, 176.51679732814551\n",
      "epoch: 40, 60.62386188115797\n",
      "epoch: 40, 87.3861405725899\n",
      "epoch: 50, 35.65504656808763\n",
      "epoch: 50, 51.15912884005931\n",
      "epoch: 60, 26.380303604498515\n",
      "epoch: 60, 35.69479963853395\n",
      "epoch: 70, 22.850001081593255\n",
      "epoch: 70, 28.683672913716606\n",
      "epoch: 80, 21.44588482365227\n",
      "epoch: 80, 25.28609127824514\n",
      "epoch: 90, 20.84367752315231\n",
      "epoch: 90, 23.527408945976454\n"
     ]
    }
   ],
   "source": [
    "A, train_costs, test_costs = gradeint_descent(X_train, Y_train, X_test, Y_test, A, learning_rate, epochs)"
   ]
  },
  {
   "cell_type": "code",
   "execution_count": 21,
   "id": "43586978-ba93-4fc7-856e-1b15834b3d98",
   "metadata": {},
   "outputs": [],
   "source": [
    "def plot_cost(train_costs, test_costs, epochs):\n",
    "    plt.xlabel('Epochs')\n",
    "    plt.ylabel('Cost')\n",
    "    plt.plot(epochs, train_costs, 'm', linewidth='1', color='r', label='mashqdagi xatolik')\n",
    "    plt.plot(epochs, test_costs, 'm', linewidth='1', color='g', label='testdagi xatolik')\n",
    "    plt.legend(loc='upper right')\n",
    "    plt.show()"
   ]
  },
  {
   "cell_type": "code",
   "execution_count": 22,
   "id": "a065cd74-a86c-4eed-ad45-b82d3811fb16",
   "metadata": {},
   "outputs": [],
   "source": [
    "n_epochs = np.arange(1, epochs + 1)\n",
    "n_train_costs = np.array(train_costs)\n",
    "n_test_costs = np.array(test_costs)"
   ]
  },
  {
   "cell_type": "code",
   "execution_count": 23,
   "id": "b99c9848-fd0d-4088-89ae-9d03b678a31b",
   "metadata": {},
   "outputs": [
    {
     "name": "stderr",
     "output_type": "stream",
     "text": [
      "C:\\Users\\JAVOHIR\\AppData\\Local\\Temp\\ipykernel_288\\1043726054.py:4: UserWarning: color is redundantly defined by the 'color' keyword argument and the fmt string \"m\" (-> color=(0.75, 0.0, 0.75, 1)). The keyword argument will take precedence.\n",
      "  plt.plot(epochs, train_costs, 'm', linewidth='1', color='r', label='mashqdagi xatolik')\n",
      "C:\\Users\\JAVOHIR\\AppData\\Local\\Temp\\ipykernel_288\\1043726054.py:5: UserWarning: color is redundantly defined by the 'color' keyword argument and the fmt string \"m\" (-> color=(0.75, 0.0, 0.75, 1)). The keyword argument will take precedence.\n",
      "  plt.plot(epochs, test_costs, 'm', linewidth='1', color='g', label='testdagi xatolik')\n"
     ]
    },
    {
     "data": {
      "image/png": "[encoded data removed]",
      "text/plain": [
       "<Figure size 640x480 with 1 Axes>"
      ]
     },
     "metadata": {},
     "output_type": "display_data"
    }
   ],
   "source": [
    "plot_cost(train_costs, test_costs, n_epochs)"
   ]
  },
  {
   "cell_type": "code",
   "execution_count": 24,
   "id": "03f971d4-25d7-4a02-82f0-0d323918c5f8",
   "metadata": {},
   "outputs": [
    {
     "name": "stdout",
     "output_type": "stream",
     "text": [
      "bashorat: 71.032990586344, haqiqiy: 75.0\n",
      "bashorat: 71.9606585490414, haqiqiy: 73.0\n",
      "bashorat: 67.24592818250888, haqiqiy: 72.0\n",
      "bashorat: 58.345234655811666, haqiqiy: 62.0\n",
      "bashorat: 63.760059774555444, haqiqiy: 67.0\n",
      "bashorat: 84.10104297857698, haqiqiy: 81.0\n",
      "bashorat: 54.613281992735224, haqiqiy: 63.0\n",
      "bashorat: 52.17486998494772, haqiqiy: 69.0\n",
      "bashorat: 78.5361923332167, haqiqiy: 80.0\n",
      "bashorat: 49.066733885085696, haqiqiy: 43.0\n"
     ]
    }
   ],
   "source": [
    "m_to_predict = 10\n",
    "\n",
    "predicted = f_x(X_test[:m_to_predict, :], A)\n",
    "\n",
    "for i in range(m_to_predict):\n",
    "    print(f'bashorat: {predicted[i][0]}, haqiqiy: {Y_test[i][0]}')"
   ]
  }
 ],
 "metadata": {
  "kernelspec": {
   "display_name": "Python 3 (ipykernel)",
   "language": "python",
   "name": "python3"
  },
  "language_info": {
   "codemirror_mode": {
    "name": "ipython",
    "version": 3
   },
   "file_extension": ".py",
   "mimetype": "text/x-python",
   "name": "python",
   "nbconvert_exporter": "python",
   "pygments_lexer": "ipython3",
   "version": "3.9.18"
  }
 },
 "nbformat": 4,
 "nbformat_minor": 5
}
