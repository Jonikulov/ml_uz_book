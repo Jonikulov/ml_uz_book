{
 "cells": [
  {
   "cell_type": "markdown",
   "metadata": {},
   "source": [
    "## Logistik regressiya\n",
    "Avvaliga kerakli bibliotekalarni yuklab olaylik:\n",
    "- numpy - pitonda massivlar bilan ishlash uchun\n",
    "- pandas - pitonda ma'lumotlarni qayta ishlash uchun, biz esa CSV hamda jadval ko'rinishidagi ma'lumotlar bilan ishlash uchun yuklaymiz\n",
    "- matplotlib - pitonda chizish amallarini bajarish uchun, biz grafiklarni chizishda foydalanamiz\n",
    "- math - pitonda matematik amallar bilan ishlash uchun\n",
    "\n",
    "Database source:\n",
    "https://www.kaggle.com/uciml/pima-indians-diabetes-database\n",
    "https://machinelearningmastery.com/implement-logistic-regression-stochastic-gradient-descent-scratch-python/"
   ]
  },
  {
   "cell_type": "code",
   "execution_count": 205,
   "metadata": {},
   "outputs": [],
   "source": [
    "import numpy as np\n",
    "import pandas as pd\n",
    "import matplotlib.pyplot as plt\n",
    "from matplotlib.pyplot import figure\n",
    "import math"
   ]
  },
  {
   "cell_type": "markdown",
   "metadata": {},
   "source": [
    "Logistik regressiya uchun ushbu https://www.kaggle.com/uciml/pima-indians-diabetes-database vebsaytda keltirilgan ma'lumotlar to'plamidan foydalanamiz. Ushbu ma'lumotlar to'plamini yuklab olamiz hamda, ushbu \".ipynb\" fayl joylashgan katalogga joylaymiz va arxivdan chiqaramiz. So'ngra, *pandas* bibliotekasi yordamida yuklaymiz:"
   ]
  },
  {
   "cell_type": "code",
   "execution_count": 130,
   "metadata": {},
   "outputs": [],
   "source": [
    "df = pd.read_csv('diabetes.csv')"
   ]
  },
  {
   "cell_type": "markdown",
   "metadata": {},
   "source": [
    "Ma'lumotlar ba'zasi bilan tanishib chiqaylik, ya'ni qanday ustunlar bor, va ulardagi ma'lumotlar qanday ko'rinishda, va h.k."
   ]
  },
  {
   "cell_type": "code",
   "execution_count": 131,
   "metadata": {},
   "outputs": [
    {
     "data": {
      "text/html": [
       "<div>\n",
       "<style scoped>\n",
       "    .dataframe tbody tr th:only-of-type {\n",
       "        vertical-align: middle;\n",
       "    }\n",
       "\n",
       "    .dataframe tbody tr th {\n",
       "        vertical-align: top;\n",
       "    }\n",
       "\n",
       "    .dataframe thead th {\n",
       "        text-align: right;\n",
       "    }\n",
       "</style>\n",
       "<table border=\"1\" class=\"dataframe\">\n",
       "  <thead>\n",
       "    <tr style=\"text-align: right;\">\n",
       "      <th></th>\n",
       "      <th>Pregnancies</th>\n",
       "      <th>Glucose</th>\n",
       "      <th>BloodPressure</th>\n",
       "      <th>SkinThickness</th>\n",
       "      <th>Insulin</th>\n",
       "      <th>BMI</th>\n",
       "      <th>DiabetesPedigreeFunction</th>\n",
       "      <th>Age</th>\n",
       "      <th>Outcome</th>\n",
       "    </tr>\n",
       "  </thead>\n",
       "  <tbody>\n",
       "    <tr>\n",
       "      <th>0</th>\n",
       "      <td>6</td>\n",
       "      <td>148</td>\n",
       "      <td>72</td>\n",
       "      <td>35</td>\n",
       "      <td>0</td>\n",
       "      <td>33.6</td>\n",
       "      <td>0.627</td>\n",
       "      <td>50</td>\n",
       "      <td>1</td>\n",
       "    </tr>\n",
       "    <tr>\n",
       "      <th>1</th>\n",
       "      <td>1</td>\n",
       "      <td>85</td>\n",
       "      <td>66</td>\n",
       "      <td>29</td>\n",
       "      <td>0</td>\n",
       "      <td>26.6</td>\n",
       "      <td>0.351</td>\n",
       "      <td>31</td>\n",
       "      <td>0</td>\n",
       "    </tr>\n",
       "    <tr>\n",
       "      <th>2</th>\n",
       "      <td>8</td>\n",
       "      <td>183</td>\n",
       "      <td>64</td>\n",
       "      <td>0</td>\n",
       "      <td>0</td>\n",
       "      <td>23.3</td>\n",
       "      <td>0.672</td>\n",
       "      <td>32</td>\n",
       "      <td>1</td>\n",
       "    </tr>\n",
       "    <tr>\n",
       "      <th>3</th>\n",
       "      <td>1</td>\n",
       "      <td>89</td>\n",
       "      <td>66</td>\n",
       "      <td>23</td>\n",
       "      <td>94</td>\n",
       "      <td>28.1</td>\n",
       "      <td>0.167</td>\n",
       "      <td>21</td>\n",
       "      <td>0</td>\n",
       "    </tr>\n",
       "    <tr>\n",
       "      <th>4</th>\n",
       "      <td>0</td>\n",
       "      <td>137</td>\n",
       "      <td>40</td>\n",
       "      <td>35</td>\n",
       "      <td>168</td>\n",
       "      <td>43.1</td>\n",
       "      <td>2.288</td>\n",
       "      <td>33</td>\n",
       "      <td>1</td>\n",
       "    </tr>\n",
       "  </tbody>\n",
       "</table>\n",
       "</div>"
      ],
      "text/plain": [
       "   Pregnancies  Glucose  BloodPressure  SkinThickness  Insulin   BMI  \\\n",
       "0            6      148             72             35        0  33.6   \n",
       "1            1       85             66             29        0  26.6   \n",
       "2            8      183             64              0        0  23.3   \n",
       "3            1       89             66             23       94  28.1   \n",
       "4            0      137             40             35      168  43.1   \n",
       "\n",
       "   DiabetesPedigreeFunction  Age  Outcome  \n",
       "0                     0.627   50        1  \n",
       "1                     0.351   31        0  \n",
       "2                     0.672   32        1  \n",
       "3                     0.167   21        0  \n",
       "4                     2.288   33        1  "
      ]
     },
     "execution_count": 131,
     "metadata": {},
     "output_type": "execute_result"
    }
   ],
   "source": [
    "df.head()"
   ]
  },
  {
   "cell_type": "markdown",
   "metadata": {},
   "source": [
    "Ushbu ma'lumotlar to'plami AQSHning Diabet va oshqozon-ichak va buyrak kasalliklari milliy instituti (National Institute of Diabetes and Digestive and Kidney Diseases) ma'lumotlariga asoslangan bo'lib, Amerika tub aholisining 21 yoshdan katta bo'lgan ayollardagi turli analizlar, xususan diabet kasalligi bor yoki yo'qligini o'zida ifodalaydi. Ma'lumotlar to'plamida 9 ta ustun mavjud bo'lib, ularni quyidagicha tavsif etish mumkin:\n",
    "\n",
    "- Pregnancies - ayol necha marta homilador bo'lgan\n",
    "- Glucose - glyukoza o'lchovi\n",
    "- BloodPressure - qon bosimi\n",
    "- SkinThickness - teri qalinligi\n",
    "- Insulin - insulin o'lchovi\n",
    "- BMI - bo'y va vazn o'lchovi ($kg / m^2$)\n",
    "- Diabetes Pedigree Function - diabet kasallgining nasldagi koefisienti\n",
    "- Age - yosh\n",
    "- Outcome - diabet kasallgi mavjud (1) yoki yo'q (1)\n",
    "\n",
    "Endi ma'lumotlar to'plamining texnik jihatlari bilan tanishsak, ya'ni qanday formatda, qatorlar soni va h.k."
   ]
  },
  {
   "cell_type": "code",
   "execution_count": 132,
   "metadata": {},
   "outputs": [
    {
     "name": "stdout",
     "output_type": "stream",
     "text": [
      "<class 'pandas.core.frame.DataFrame'>\n",
      "RangeIndex: 768 entries, 0 to 767\n",
      "Data columns (total 9 columns):\n",
      " #   Column                    Non-Null Count  Dtype  \n",
      "---  ------                    --------------  -----  \n",
      " 0   Pregnancies               768 non-null    int64  \n",
      " 1   Glucose                   768 non-null    int64  \n",
      " 2   BloodPressure             768 non-null    int64  \n",
      " 3   SkinThickness             768 non-null    int64  \n",
      " 4   Insulin                   768 non-null    int64  \n",
      " 5   BMI                       768 non-null    float64\n",
      " 6   DiabetesPedigreeFunction  768 non-null    float64\n",
      " 7   Age                       768 non-null    int64  \n",
      " 8   Outcome                   768 non-null    int64  \n",
      "dtypes: float64(2), int64(7)\n",
      "memory usage: 54.1 KB\n"
     ]
    }
   ],
   "source": [
    "df.info()"
   ]
  },
  {
   "cell_type": "markdown",
   "metadata": {},
   "source": [
    "Ko'rib turganimizdek, ma'lumotlar to'plami 768 ta qatordan iborat hamda har bir ustun turli xil formatlarda (*int64* va *float64*). Ushbu ma'lumotlar to'plamini matematik amallarga, xususan logistik regressiya jarayoniga moslaylik. Bunda, avvalo hisob-kitoblarda qulay bo'lishi uchun *numpy* massiviga o'giramiz, bunda ustunlarni formati sifatida *float64* tanlaymiz."
   ]
  },
  {
   "cell_type": "code",
   "execution_count": 133,
   "metadata": {},
   "outputs": [],
   "source": [
    "df = np.array(df, dtype = float)"
   ]
  },
  {
   "cell_type": "code",
   "execution_count": 134,
   "metadata": {},
   "outputs": [
    {
     "data": {
      "text/plain": [
       "(768, 9)"
      ]
     },
     "execution_count": 134,
     "metadata": {},
     "output_type": "execute_result"
    }
   ],
   "source": [
    "df.shape"
   ]
  },
  {
   "cell_type": "markdown",
   "metadata": {},
   "source": [
    "Ma'lumotlar to'plamidan o'rganish jarayoni uchun ustunlarni ajratib olamiz, va *X* o'zgaruvchisiga massiv sifatida yuklaymiz. E'tibor bering, oxirgi ustun **Outcome** ustuni mashq to'plamiga yuklanmayapti, sababi bu ustunni alohida o'zgaruvchiga nishonlar massivi sifatida yuklaymiz."
   ]
  },
  {
   "cell_type": "code",
   "execution_count": 135,
   "metadata": {},
   "outputs": [],
   "source": [
    "X = df[:, :8]"
   ]
  },
  {
   "cell_type": "code",
   "execution_count": 136,
   "metadata": {},
   "outputs": [
    {
     "data": {
      "text/plain": [
       "array([[  6.   , 148.   ,  72.   , ...,  33.6  ,   0.627,  50.   ],\n",
       "       [  1.   ,  85.   ,  66.   , ...,  26.6  ,   0.351,  31.   ],\n",
       "       [  8.   , 183.   ,  64.   , ...,  23.3  ,   0.672,  32.   ],\n",
       "       ...,\n",
       "       [  5.   , 121.   ,  72.   , ...,  26.2  ,   0.245,  30.   ],\n",
       "       [  1.   , 126.   ,  60.   , ...,  30.1  ,   0.349,  47.   ],\n",
       "       [  1.   ,  93.   ,  70.   , ...,  30.4  ,   0.315,  23.   ]])"
      ]
     },
     "execution_count": 136,
     "metadata": {},
     "output_type": "execute_result"
    }
   ],
   "source": [
    "X"
   ]
  },
  {
   "cell_type": "code",
   "execution_count": 137,
   "metadata": {},
   "outputs": [
    {
     "data": {
      "text/plain": [
       "(768, 8)"
      ]
     },
     "execution_count": 137,
     "metadata": {},
     "output_type": "execute_result"
    }
   ],
   "source": [
    "X.shape"
   ]
  },
  {
   "cell_type": "code",
   "execution_count": 138,
   "metadata": {},
   "outputs": [
    {
     "data": {
      "text/plain": [
       "array([[6.000e+00, 1.480e+02, 7.200e+01, 3.500e+01, 0.000e+00, 3.360e+01,\n",
       "        6.270e-01, 5.000e+01],\n",
       "       [1.000e+00, 8.500e+01, 6.600e+01, 2.900e+01, 0.000e+00, 2.660e+01,\n",
       "        3.510e-01, 3.100e+01],\n",
       "       [8.000e+00, 1.830e+02, 6.400e+01, 0.000e+00, 0.000e+00, 2.330e+01,\n",
       "        6.720e-01, 3.200e+01],\n",
       "       [1.000e+00, 8.900e+01, 6.600e+01, 2.300e+01, 9.400e+01, 2.810e+01,\n",
       "        1.670e-01, 2.100e+01],\n",
       "       [0.000e+00, 1.370e+02, 4.000e+01, 3.500e+01, 1.680e+02, 4.310e+01,\n",
       "        2.288e+00, 3.300e+01],\n",
       "       [5.000e+00, 1.160e+02, 7.400e+01, 0.000e+00, 0.000e+00, 2.560e+01,\n",
       "        2.010e-01, 3.000e+01],\n",
       "       [3.000e+00, 7.800e+01, 5.000e+01, 3.200e+01, 8.800e+01, 3.100e+01,\n",
       "        2.480e-01, 2.600e+01],\n",
       "       [1.000e+01, 1.150e+02, 0.000e+00, 0.000e+00, 0.000e+00, 3.530e+01,\n",
       "        1.340e-01, 2.900e+01],\n",
       "       [2.000e+00, 1.970e+02, 7.000e+01, 4.500e+01, 5.430e+02, 3.050e+01,\n",
       "        1.580e-01, 5.300e+01],\n",
       "       [8.000e+00, 1.250e+02, 9.600e+01, 0.000e+00, 0.000e+00, 0.000e+00,\n",
       "        2.320e-01, 5.400e+01]])"
      ]
     },
     "execution_count": 138,
     "metadata": {},
     "output_type": "execute_result"
    }
   ],
   "source": [
    "X[:10]"
   ]
  },
  {
   "cell_type": "markdown",
   "metadata": {},
   "source": [
    "Ma'lumotlar to'plamidan nishonlarni ajratib olamiz, va *Y* o'zgaruvchisiga yuklaymiz."
   ]
  },
  {
   "cell_type": "code",
   "execution_count": 139,
   "metadata": {},
   "outputs": [],
   "source": [
    "Y = df[:,8:]"
   ]
  },
  {
   "cell_type": "code",
   "execution_count": 140,
   "metadata": {
    "scrolled": true
   },
   "outputs": [
    {
     "data": {
      "text/plain": [
       "(768, 1)"
      ]
     },
     "execution_count": 140,
     "metadata": {},
     "output_type": "execute_result"
    }
   ],
   "source": [
    "Y.shape"
   ]
  },
  {
   "cell_type": "code",
   "execution_count": 141,
   "metadata": {
    "scrolled": true
   },
   "outputs": [
    {
     "data": {
      "text/plain": [
       "array([[1.],\n",
       "       [0.],\n",
       "       [1.],\n",
       "       [0.],\n",
       "       [1.],\n",
       "       [0.],\n",
       "       [1.],\n",
       "       [0.],\n",
       "       [1.],\n",
       "       [1.]])"
      ]
     },
     "execution_count": 141,
     "metadata": {},
     "output_type": "execute_result"
    }
   ],
   "source": [
    "Y[:10]"
   ]
  },
  {
   "cell_type": "markdown",
   "metadata": {},
   "source": [
    "## Kirish o'zgaruvchilari sayqallanishi - standartlashtirish\n",
    "\n",
    "Kirish o'zgaruvchilarini sayqallashtirishda standartlashtirish usuilidan foydalanaylik, bunda quyidagi formuladan foydalanamiz:\n",
    "\n",
    "$ x_j^{(i)} := \\frac{x_j^{(i)} - \\mu_j }{S_j} $\n",
    "\n",
    "Yuqoridagi formuladagi o'rta arifmetik qiymat ($\\mu_j$) hamda o'rta kvadratik og'ishni ($S_j$) topishda *numpy* bibliotekasidagi *mean()* va *std()* funksiyalardan foydalanamiz va ushbu formulani ifoda etuvchi *feature_scaling* funksiyasini yarataylik."
   ]
  },
  {
   "cell_type": "code",
   "execution_count": 142,
   "metadata": {},
   "outputs": [],
   "source": [
    "def feature_scaling(X):\n",
    "    avg_array = np.mean(X, 0)\n",
    "    std_array = np.std(X, 0)\n",
    "    return np.divide(X - avg_array, std_array)"
   ]
  },
  {
   "cell_type": "markdown",
   "metadata": {},
   "source": [
    "*feature_scaling* funksiyasi yordamida kiruvchi o'zgaruvchilarni sayqallashtiraylik."
   ]
  },
  {
   "cell_type": "code",
   "execution_count": 143,
   "metadata": {},
   "outputs": [],
   "source": [
    "X = feature_scaling(X)"
   ]
  },
  {
   "cell_type": "code",
   "execution_count": 144,
   "metadata": {},
   "outputs": [
    {
     "data": {
      "text/plain": [
       "array([[ 0.63994726,  0.84832379,  0.14964075,  0.90726993, -0.69289057,\n",
       "         0.20401277,  0.46849198,  1.4259954 ],\n",
       "       [-0.84488505, -1.12339636, -0.16054575,  0.53090156, -0.69289057,\n",
       "        -0.68442195, -0.36506078, -0.19067191],\n",
       "       [ 1.23388019,  1.94372388, -0.26394125, -1.28821221, -0.69289057,\n",
       "        -1.10325546,  0.60439732, -0.10558415],\n",
       "       [-0.84488505, -0.99820778, -0.16054575,  0.15453319,  0.12330164,\n",
       "        -0.49404308, -0.92076261, -1.04154944],\n",
       "       [-1.14185152,  0.5040552 , -1.50468724,  0.90726993,  0.76583594,\n",
       "         1.4097456 ,  5.4849091 , -0.0204964 ],\n",
       "       [ 0.3429808 , -0.15318486,  0.25303625, -1.28821221, -0.69289057,\n",
       "        -0.81134119, -0.81807858, -0.27575966],\n",
       "       [-0.25095213, -1.34247638, -0.98770975,  0.71908574,  0.07120427,\n",
       "        -0.12597727, -0.676133  , -0.61611067],\n",
       "       [ 1.82781311, -0.184482  , -3.57259724, -1.28821221, -0.69289057,\n",
       "         0.41977549, -1.02042653, -0.36084741],\n",
       "       [-0.54791859,  2.38188392,  0.04624525,  1.53455054,  4.02192191,\n",
       "        -0.18943689, -0.94794368,  1.68125866],\n",
       "       [ 1.23388019,  0.12848945,  1.39038675, -1.28821221, -0.69289057,\n",
       "        -4.06047387, -0.7244549 ,  1.76634642]])"
      ]
     },
     "execution_count": 144,
     "metadata": {},
     "output_type": "execute_result"
    }
   ],
   "source": [
    "X[:10]"
   ]
  },
  {
   "cell_type": "markdown",
   "metadata": {},
   "source": [
    "Vertikal hisoblarda qulay bo'lish uchun, qiymati $1$dan iborat bo'lgan $X_0$ vektorni $X$ massiviga qo'shaylik."
   ]
  },
  {
   "cell_type": "code",
   "execution_count": 145,
   "metadata": {},
   "outputs": [],
   "source": [
    "def add_bias(X):\n",
    "    B = np.ones((X.shape[0], 1))\n",
    "    return np.hstack((B, X))"
   ]
  },
  {
   "cell_type": "code",
   "execution_count": 146,
   "metadata": {},
   "outputs": [],
   "source": [
    "X = add_bias(X)"
   ]
  },
  {
   "cell_type": "code",
   "execution_count": 147,
   "metadata": {},
   "outputs": [
    {
     "data": {
      "text/plain": [
       "array([[ 1.        ,  0.63994726,  0.84832379,  0.14964075,  0.90726993,\n",
       "        -0.69289057,  0.20401277,  0.46849198,  1.4259954 ],\n",
       "       [ 1.        , -0.84488505, -1.12339636, -0.16054575,  0.53090156,\n",
       "        -0.69289057, -0.68442195, -0.36506078, -0.19067191],\n",
       "       [ 1.        ,  1.23388019,  1.94372388, -0.26394125, -1.28821221,\n",
       "        -0.69289057, -1.10325546,  0.60439732, -0.10558415],\n",
       "       [ 1.        , -0.84488505, -0.99820778, -0.16054575,  0.15453319,\n",
       "         0.12330164, -0.49404308, -0.92076261, -1.04154944],\n",
       "       [ 1.        , -1.14185152,  0.5040552 , -1.50468724,  0.90726993,\n",
       "         0.76583594,  1.4097456 ,  5.4849091 , -0.0204964 ],\n",
       "       [ 1.        ,  0.3429808 , -0.15318486,  0.25303625, -1.28821221,\n",
       "        -0.69289057, -0.81134119, -0.81807858, -0.27575966],\n",
       "       [ 1.        , -0.25095213, -1.34247638, -0.98770975,  0.71908574,\n",
       "         0.07120427, -0.12597727, -0.676133  , -0.61611067],\n",
       "       [ 1.        ,  1.82781311, -0.184482  , -3.57259724, -1.28821221,\n",
       "        -0.69289057,  0.41977549, -1.02042653, -0.36084741],\n",
       "       [ 1.        , -0.54791859,  2.38188392,  0.04624525,  1.53455054,\n",
       "         4.02192191, -0.18943689, -0.94794368,  1.68125866],\n",
       "       [ 1.        ,  1.23388019,  0.12848945,  1.39038675, -1.28821221,\n",
       "        -0.69289057, -4.06047387, -0.7244549 ,  1.76634642]])"
      ]
     },
     "execution_count": 147,
     "metadata": {},
     "output_type": "execute_result"
    }
   ],
   "source": [
    "X[:10]"
   ]
  },
  {
   "cell_type": "code",
   "execution_count": 148,
   "metadata": {},
   "outputs": [
    {
     "data": {
      "text/plain": [
       "(768, 9)"
      ]
     },
     "execution_count": 148,
     "metadata": {},
     "output_type": "execute_result"
    }
   ],
   "source": [
    "X.shape"
   ]
  },
  {
   "cell_type": "markdown",
   "metadata": {},
   "source": [
    "## Ma'lumotlarni mashq/test to'plamlariga bo'lish\n",
    "Bizda mavjud bo'lgan ma'lumotlar to'plamini mash/test to'plamlariga bo'laylik. Bunda biz yaratadigan chiziqli regressiya mashq datasetdan o'rganadi va test datasetdan uning effektivligini tekshiramiz. Mashq/test datasetga bo'lishda 80/20 nisbatdan foydalanamiz, ya'ni ma'lumotlar to'plamining 80% mashq va 20% esa test datasetga bo'lamiz."
   ]
  },
  {
   "cell_type": "code",
   "execution_count": 149,
   "metadata": {},
   "outputs": [],
   "source": [
    "rows, _ = X.shape"
   ]
  },
  {
   "cell_type": "code",
   "execution_count": 150,
   "metadata": {},
   "outputs": [],
   "source": [
    "def split(X, Y):\n",
    "    rows, _ = X.shape\n",
    "    train_rows = round(rows * 0.8)\n",
    "    test_rows = rows - train_rows\n",
    "    return X[0:train_rows,:], X[train_rows:, :], Y[0:train_rows,:], Y[train_rows:, :]    "
   ]
  },
  {
   "cell_type": "code",
   "execution_count": 151,
   "metadata": {},
   "outputs": [],
   "source": [
    "X_train, X_test, Y_train, Y_test = split(X, Y)"
   ]
  },
  {
   "cell_type": "code",
   "execution_count": 152,
   "metadata": {},
   "outputs": [
    {
     "data": {
      "text/plain": [
       "(614, 9)"
      ]
     },
     "execution_count": 152,
     "metadata": {},
     "output_type": "execute_result"
    }
   ],
   "source": [
    "X_train.shape"
   ]
  },
  {
   "cell_type": "code",
   "execution_count": 153,
   "metadata": {},
   "outputs": [
    {
     "data": {
      "text/plain": [
       "(154, 9)"
      ]
     },
     "execution_count": 153,
     "metadata": {},
     "output_type": "execute_result"
    }
   ],
   "source": [
    "X_test.shape"
   ]
  },
  {
   "cell_type": "code",
   "execution_count": 154,
   "metadata": {},
   "outputs": [
    {
     "data": {
      "text/plain": [
       "(614, 1)"
      ]
     },
     "execution_count": 154,
     "metadata": {},
     "output_type": "execute_result"
    }
   ],
   "source": [
    "Y_train.shape"
   ]
  },
  {
   "cell_type": "code",
   "execution_count": 155,
   "metadata": {},
   "outputs": [
    {
     "data": {
      "text/plain": [
       "(154, 1)"
      ]
     },
     "execution_count": 155,
     "metadata": {},
     "output_type": "execute_result"
    }
   ],
   "source": [
    "Y_test.shape"
   ]
  },
  {
   "cell_type": "markdown",
   "metadata": {},
   "source": [
    "## Koefisientlarni inisializatsiya qilish\n",
    "\n",
    "Logistik regressiyaning formulasini eslaylik:\n",
    "<br><br>\n",
    "$     f(Z) = \\frac{1}{1 + e^{-Z}} $\n",
    "<br><br>\n",
    "Bunda Z:\n",
    "<br><br>\n",
    "$     Z = a_0 \\times x_0 + a_1 \\times x_1 + a_2 \\times x_2 + \\cdots + a_n \\times x_n $\n",
    "<br><br>\n",
    "Demak, bizda $n=8$. Chunki bizda 8 ta ustun mavjud. Lekin biz 9 ta parametrni inisializatsiya qilamiz ($a_0$ ni ham hisobga olganda).<br>\n",
    "*Eslatib o'tamiz, $Z$ funksiyani vektorlangan ko'rinishi: <br><br>\n",
    "$     Z = X * A^T $"
   ]
  },
  {
   "cell_type": "code",
   "execution_count": 156,
   "metadata": {},
   "outputs": [],
   "source": [
    "A = np.random.rand(X.shape[1], 1)"
   ]
  },
  {
   "cell_type": "code",
   "execution_count": 157,
   "metadata": {},
   "outputs": [
    {
     "data": {
      "text/plain": [
       "(9, 1)"
      ]
     },
     "execution_count": 157,
     "metadata": {},
     "output_type": "execute_result"
    }
   ],
   "source": [
    "A.shape"
   ]
  },
  {
   "cell_type": "code",
   "execution_count": 158,
   "metadata": {
    "scrolled": true
   },
   "outputs": [
    {
     "data": {
      "text/plain": [
       "array([[0.41305024],\n",
       "       [0.92586999],\n",
       "       [0.45706307],\n",
       "       [0.79343465],\n",
       "       [0.17371562],\n",
       "       [0.1779987 ],\n",
       "       [0.68113032],\n",
       "       [0.29840065],\n",
       "       [0.59808634]])"
      ]
     },
     "execution_count": 158,
     "metadata": {},
     "output_type": "execute_result"
    }
   ],
   "source": [
    "A"
   ]
  },
  {
   "cell_type": "markdown",
   "metadata": {},
   "source": [
    "## Logistik regressiya funksiyasi\n",
    "Bizda koefisientlar uchun o'zgaruvchilarni aniqlab oldik, endi funksiyani aniqlasak bo'ladi. Ushbu funksiyani *logistic_regression_function()* deb ataylik va quyidagi formulani ifodalaydi:\n",
    "\n",
    "$     f(Z) = \\frac{1}{1 + e^{-Z}} $\n",
    "<br><br>\n",
    "Bunda Z:\n",
    "<br><br>\n",
    "$     Z = a_0 \\times x_0 + a_1 \\times x_1 + a_2 \\times x_2 + \\cdots + a_n \\times x_n $"
   ]
  },
  {
   "cell_type": "code",
   "execution_count": 159,
   "metadata": {},
   "outputs": [],
   "source": [
    "def logistic_regression_function(X, A):\n",
    "    Z = np.dot(X,A)\n",
    "    return 1 / (1 + np.exp(-Z))"
   ]
  },
  {
   "cell_type": "markdown",
   "metadata": {},
   "source": [
    "## Qiymat funskiyasi va Gradient tushish\n",
    "Chiziqli regressiyaning qiymat funksiyasini eslaylik:\n",
    "<br><br>\n",
    "$      J = -\\frac{1}{m} \\sum_{i=1}^{m} \\big[y^{(i)} \\log(f(x^{(i)})) + (1 - y^{(i)}) \\log(1 - f(x^{(i)}))] $\n",
    "\n",
    "<br>\n",
    "Ushbu qiymat funksiyasini dasturda ifodalaylik:"
   ]
  },
  {
   "cell_type": "code",
   "execution_count": 160,
   "metadata": {},
   "outputs": [],
   "source": [
    "def cost(X, A, Y):\n",
    "    m = Y.shape[0]\n",
    "    F_x = logistic_regression_function(X, A)\n",
    "    cost_ = - np.sum(Y * np.log(F_x) + (1-Y) * np.log(1 - F_x)) / m\n",
    "    return cost_"
   ]
  },
  {
   "cell_type": "markdown",
   "metadata": {},
   "source": [
    "Gradient tushishda esa, biz yuqoridagi qiymat funksiyasini minimallashtiruvchi parametrlarni topamiz. Bunda biz har bir parameter uchun ma'lum bir qator davomida quyidagi ifodani takrorlashimiz kerak:\n",
    "\n",
    "takrorla, $ k=1 \\cdots epochs $ $ \\{ $ <br>\n",
    "&nbsp;&nbsp;&nbsp;&nbsp;&nbsp;&nbsp; $ a_j := a_j - \\alpha \\frac{1}{m} \\sum_{i=1}^{m} (f(x^{(i)}) - y^{(i)}) \\times x^{(i)}_j $ <br>\n",
    "&nbsp;&nbsp;&nbsp;&nbsp; $ \\} $<br>\n",
    "\n",
    "Yuqoridagi siklni amalga oshirishda bir qator giperparametrlarni aniqlab olaylik:\n",
    "- Qadamlar soninig qiymatini $500$ deb belgilaymiz va *epochs* o'zgaruvchisida saqlaymiz\n",
    "- O'rganish darajasini $0.1$ deb belgilaylik va *learning_rate* o'zgaruvchisida saqlaymiz\n",
    "\n",
    "Har bir qadamda mashq va test to'plami uchun qiymatni hisoblaymiz va, mos ravishda *train_costs* va *test_costs* massivlarida saqlaymiz."
   ]
  },
  {
   "cell_type": "code",
   "execution_count": 161,
   "metadata": {},
   "outputs": [],
   "source": [
    "epochs = 500\n",
    "learning_rate = 0.1"
   ]
  },
  {
   "cell_type": "markdown",
   "metadata": {},
   "source": [
    "Gradient tushishni amalga oshiruvchi funksiyani yaratamiz va $gradient\\_descent$ deb nomlaymiz"
   ]
  },
  {
   "cell_type": "code",
   "execution_count": 162,
   "metadata": {},
   "outputs": [],
   "source": [
    "def gradient_descent(X_train, Y_train, X_test, Y_test, A, learning_rate, epochs):\n",
    "    train_costs = []\n",
    "    test_costs = []\n",
    "    m_train = Y_train.shape[0]\n",
    "    m_test = Y_test.shape[0]\n",
    "    for k in range(epochs):\n",
    "        F_x = logistic_regression_function(X_train, A)\n",
    "        A = A - learning_rate * np.dot(X_train.T, (F_x - Y_train)) / m_train\n",
    "        cost_train_ = cost(X_train, A, Y_train)\n",
    "        cost_test_ = cost(X_test, A, Y_test)\n",
    "        train_costs.append(cost_train_)\n",
    "        test_costs.append(cost_test_)\n",
    "        if k % 20 == 0:\n",
    "            print('epoch: %d, %f'% (k, cost_train_))\n",
    "    return A, train_costs, test_costs"
   ]
  },
  {
   "cell_type": "markdown",
   "metadata": {},
   "source": [
    "Gradient tushishni amalaga oshiraylik, bunda biz yaratgan *gradient_descent* funksiyasidan foydalanamiz va ushbu funksiya gradient tushishni amalga oshirib, topilgan optimal qiymatni *A* o'zgaruvchisi va har bir qadamdagi *mashq* va *test* to'plamlar uchun qiymat funksiyani ifoda etuvchi *train_costs*, *test_costs* massivlarini qaytaradi."
   ]
  },
  {
   "cell_type": "code",
   "execution_count": 163,
   "metadata": {},
   "outputs": [
    {
     "name": "stdout",
     "output_type": "stream",
     "text": [
      "epoch: 0, 0.761052\n",
      "epoch: 20, 0.622478\n",
      "epoch: 40, 0.544009\n",
      "epoch: 60, 0.505538\n",
      "epoch: 80, 0.487861\n",
      "epoch: 100, 0.479525\n",
      "epoch: 120, 0.475272\n",
      "epoch: 140, 0.472899\n",
      "epoch: 160, 0.471471\n",
      "epoch: 180, 0.470563\n",
      "epoch: 200, 0.469962\n",
      "epoch: 220, 0.469553\n",
      "epoch: 240, 0.469269\n",
      "epoch: 260, 0.469068\n",
      "epoch: 280, 0.468926\n",
      "epoch: 300, 0.468823\n",
      "epoch: 320, 0.468749\n",
      "epoch: 340, 0.468694\n",
      "epoch: 360, 0.468655\n",
      "epoch: 380, 0.468625\n",
      "epoch: 400, 0.468604\n",
      "epoch: 420, 0.468588\n",
      "epoch: 440, 0.468576\n",
      "epoch: 460, 0.468568\n",
      "epoch: 480, 0.468561\n"
     ]
    }
   ],
   "source": [
    "A, train_costs, test_costs = gradient_descent(X_train, Y_train, X_test, Y_test, A, learning_rate, epochs)"
   ]
  },
  {
   "cell_type": "markdown",
   "metadata": {},
   "source": [
    "Gradient tushishda qiymat funksiyasining qay darajada o'zgarganini vizual ko'rish uchun, grafik *plot_cost* funksiyasini yarataylik, ushbu funksiya *matplotlib* bibliotekasidan foydalanib graf chizadi."
   ]
  },
  {
   "cell_type": "code",
   "execution_count": 164,
   "metadata": {},
   "outputs": [],
   "source": [
    "def plot_cost(train_costs,test_costs, epochs):\n",
    "    plt.xlabel('Epochs')\n",
    "    plt.ylabel('Cost')\n",
    "    plt.plot(epochs, train_costs, 'm', linewidth = \"1\", color='r', label='mashqdagi xatolik')\n",
    "    plt.plot(epochs, test_costs, 'm', linewidth = \"1\", color='g', label='testdagi xatolik')\n",
    "    plt.legend(loc=\"upper right\")\n",
    "    plt.show()"
   ]
  },
  {
   "cell_type": "markdown",
   "metadata": {},
   "source": [
    "*plot_cost* funksiyasi parametr sifatida 3 ta massiv o'zgaruvchisini qabul qiladi va bular:\n",
    "-  mashq to'plami uchun qiymat funksiyasining natijasi ifodalangan massiv, *train_costs* o'zgaruvchisi\n",
    "-  test to'plami uchun qiymat funksiyasining natijasi ifodalangan massiv, *test_costs* o'zgaruvchisi\n",
    "- qadamlarni ifoda etuvchi massiv, *epochs* o'zgaruvchisi"
   ]
  },
  {
   "cell_type": "code",
   "execution_count": 165,
   "metadata": {},
   "outputs": [],
   "source": [
    "n_epochs = np.arange(1, epochs + 1)\n",
    "n_train_costs = np.array(train_costs)\n",
    "n_test_costs = np.array(test_costs)"
   ]
  },
  {
   "cell_type": "markdown",
   "metadata": {},
   "source": [
    "Qiymat funksiyasini har qadamda o'zgarishini *plot_cost* funksiyasi orqali grafik tarzda ifodalaylik."
   ]
  },
  {
   "cell_type": "code",
   "execution_count": 166,
   "metadata": {},
   "outputs": [
    {
     "data": {
      "image/png": "[encoded data removed]",
      "text/plain": [
       "<Figure size 640x480 with 1 Axes>"
      ]
     },
     "metadata": {
      "needs_background": "light"
     },
     "output_type": "display_data"
    }
   ],
   "source": [
    "figure(figsize=(8, 6), dpi=80)\n",
    "\n",
    "plot_cost(train_costs, test_costs, n_epochs)"
   ]
  },
  {
   "cell_type": "markdown",
   "metadata": {},
   "source": [
    "Yuqoridagi grafdan ko'rib turibmizki, xatolik mashq to'plamida ham, test to'plamida ham har qadamda tushib boryapti. Bundan xulosa qilishimiz mumkinki, biz yaratgan logistik regressiya to'g'ri ishlayapti."
   ]
  },
  {
   "cell_type": "markdown",
   "metadata": {},
   "source": [
    "# Qaror qabul qilish chegarasi (Decision boundary)\n",
    "\n",
    "Biz yaratgan logistik regressiyaning natijasi $[0,1]$ oraliqda yotadi, ya'ni butun bo'lmagan sonlarni chiqaradi. Bizning nishonlarimiz esa, qiymatlari 0 yoki 1 bo'lgan butun sonlardan iborat. Xususan, test to'plami uchun logistik regressiyani hisoblaylik va dastlabki 10ta elementi chop etaylik:"
   ]
  },
  {
   "cell_type": "code",
   "execution_count": 167,
   "metadata": {},
   "outputs": [
    {
     "data": {
      "text/plain": [
       "array([[0.74926893],\n",
       "       [0.08762216],\n",
       "       [0.16827159],\n",
       "       [0.01457882],\n",
       "       [0.50125461],\n",
       "       [0.2747579 ],\n",
       "       [0.20935115],\n",
       "       [0.16839148],\n",
       "       [0.96523638],\n",
       "       [0.20502793]])"
      ]
     },
     "execution_count": 167,
     "metadata": {},
     "output_type": "execute_result"
    }
   ],
   "source": [
    "test_predictions = logistic_regression_function(X_test, A)\n",
    "test_predictions[:10,:]"
   ]
  },
  {
   "cell_type": "markdown",
   "metadata": {},
   "source": [
    "Yuqoridagi sonlarni 0 va 1 butun sonlarga aylantirish uchun, qaror qabul qilish chegarasini amalga oshiruvchi funksiyani yarataylik. Bunda chegara sifatida $0.5$ni tanlaymiz, ya'ni $0.5$ dan katta sonlarni $1$ va $0.5$ga teng va undan kichiklarini $0$ sifatida qabul qilamiz. Biz yaratgan funksiya massivlar bilan ishlay olishi uchun, ushbu funksiyani *numpy* bibliotekasining *vectorize* funksiyasi yordamida ishlov beramiz."
   ]
  },
  {
   "cell_type": "code",
   "execution_count": 168,
   "metadata": {},
   "outputs": [],
   "source": [
    "def db_function(prediction):\n",
    "    if prediction > 0.5:\n",
    "        return 1\n",
    "    else:\n",
    "        return 0\n",
    "db_function = np.vectorize(db_function)"
   ]
  },
  {
   "cell_type": "markdown",
   "metadata": {},
   "source": [
    "Biz yaratgan *db_function* funksiyasini amalga oshiraylik va *test_predictions* massividagi sonlarni butun sonlarga o'girib olaylik:"
   ]
  },
  {
   "cell_type": "code",
   "execution_count": 169,
   "metadata": {},
   "outputs": [
    {
     "data": {
      "text/plain": [
       "array([[1],\n",
       "       [0],\n",
       "       [0],\n",
       "       [0],\n",
       "       [1],\n",
       "       [0],\n",
       "       [0],\n",
       "       [0],\n",
       "       [1],\n",
       "       [0]])"
      ]
     },
     "execution_count": 169,
     "metadata": {},
     "output_type": "execute_result"
    }
   ],
   "source": [
    "test_predictions = db_function(test_predictions)\n",
    "test_predictions[:10,:]"
   ]
  },
  {
   "cell_type": "markdown",
   "metadata": {},
   "source": [
    "# Model aniqliligi (Model accuracy)\n",
    "\n",
    "Biz yaratgan modelning aniqliligini baholash uchun, Accuracy va F1Score o'lchovlarni hisoblaylik. Ushbu o'lchovlarni hisoblashdan oldin, bir nechta yordamchi o'lchovlarni aniqlab olaylik, xususan:\n",
    "- Haqiqiy pozitiv - TP (True Positives)\n",
    "- Haqiqiy negativ - TN (True Negatives)\n",
    "- Yolg'on pozitiv - FP (False Positives)\n",
    "- Yolg'on negativ - FN (False Negatives)\n",
    "- To'plamdagi elementlar soni - N\n",
    "\n",
    "Yuqoridagi yordamchi o'lchovlarni hisoblovchi funksiyani yaratamiz:"
   ]
  },
  {
   "cell_type": "code",
   "execution_count": 199,
   "metadata": {},
   "outputs": [],
   "source": [
    "def calculate_helper_vars(predicted, actual):\n",
    "    n = actual.shape[0]\n",
    "    predicted = predicted.reshape(-1, actual.shape[1])\n",
    "    tp = np.count_nonzero((predicted == actual) & (predicted == 1))\n",
    "    tn = np.count_nonzero((predicted == actual) & (predicted == 0))\n",
    "    fp = np.count_nonzero((predicted != actual) & (predicted == 1))\n",
    "    fn = np.count_nonzero((predicted != actual) & (predicted == 0))\n",
    "    return tp, tn, fp, fn, n"
   ]
  },
  {
   "cell_type": "markdown",
   "metadata": {},
   "source": [
    "*calculate_helper_vars* funksiyasi yordamida yordamchi o'lchovlarni hisoblaylik:"
   ]
  },
  {
   "cell_type": "code",
   "execution_count": 200,
   "metadata": {},
   "outputs": [],
   "source": [
    "tp, tn, fp, fn, n = calculate_helper_vars(test_predictions, Y_test)"
   ]
  },
  {
   "cell_type": "code",
   "execution_count": 201,
   "metadata": {
    "scrolled": true
   },
   "outputs": [
    {
     "name": "stdout",
     "output_type": "stream",
     "text": [
      "30 89 10 25 154\n"
     ]
    }
   ],
   "source": [
    "print(tp, tn, fp, fn, n)"
   ]
  },
  {
   "cell_type": "code",
   "execution_count": 202,
   "metadata": {},
   "outputs": [
    {
     "data": {
      "text/plain": [
       "0.7727272727272727"
      ]
     },
     "execution_count": 202,
     "metadata": {},
     "output_type": "execute_result"
    }
   ],
   "source": [
    "(tp + tn) / n"
   ]
  },
  {
   "cell_type": "markdown",
   "metadata": {},
   "source": [
    "Yordamchi o'lchovlar yordamida modelni baholovchi quyidagi o'lchovchlarni hisoblaylik:\n",
    "- *Accuracy* - model aniqliligi haqidagi eng sodda usul\n",
    "- *Precision* - to'g'ri prognoz qilingan pozitiv qiymatlarning pozitiv deya prognoz qilingan qiymatlarning umumiy soniga nisbatiga aytiladi\n",
    "- *Recall (Sensisitivity)* - to'g'ri prognoz qilingan pozitiv qiymatlarning ma'lumotlar to'plamidagi barcha haqiqiy pozitiv nishonlarga nisbatidir\n",
    "- *F1 Score* - *Precision* hamda *Recall* orqali ifodalaniladigan o'lchov bo'lib, model aniqligi haqida yanada aniqroq tasavvur beradi\n",
    "\n",
    "Hisoblash uchun *calc_metrics* nomli funksiya yaratamiz:"
   ]
  },
  {
   "cell_type": "code",
   "execution_count": 203,
   "metadata": {},
   "outputs": [],
   "source": [
    "def calc_metrics(tp, tn, fp, fn, n):\n",
    "    accuracy = (tp + tn) / n\n",
    "    precision = tp / (tp + fp)\n",
    "    recall = tp / (tp + fn)\n",
    "    f1_score = 2 * (recall * precision) / (recall + precision)\n",
    "    return accuracy, precision, recall, f1_score"
   ]
  },
  {
   "cell_type": "markdown",
   "metadata": {},
   "source": [
    "*calc_metrics* funksiyasini ishga tushiramiz:"
   ]
  },
  {
   "cell_type": "code",
   "execution_count": 204,
   "metadata": {
    "scrolled": true
   },
   "outputs": [
    {
     "name": "stdout",
     "output_type": "stream",
     "text": [
      "accuracy: 0.772727, precision: 0.750000, recall: 0.545455, f1_score: 0.631579\n"
     ]
    }
   ],
   "source": [
    "accuracy, precision, recall, f1_score = calc_metrics(tp, tn, fp, fn, n)\n",
    "print('accuracy: %f, precision: %f, recall: %f, f1_score: %f'%(accuracy, precision, recall, f1_score))"
   ]
  },
  {
   "cell_type": "markdown",
   "metadata": {},
   "source": [
    "O'lchovlar orqali model haqida quyidagi fikrlarni yuritishimiz mumkin: \n",
    "- bizning model test to'plamidagi 154 ta elementning 77% nishonini to'g'ri topgan (accuracy)\n",
    "- model *1* deya bashorat qilgan nishonlarning 75% to'g'ri topilgan (precision)\n",
    "- test to'plamdagi 1 nishonlarning 54% model tomonidan to'g'ri topilgan\n",
    "- *F1 score* 0.63 ni tashkil etmoqda, ushbu o'lchovni qiyosiy o'lchov deb ham atasak bo'ladi. Chunki, odatda ushbu o'lchovlar orqali turli modellarning aniqliligi bir-biriga solishtiriladi.\n",
    "\n",
    "O'lchovlar natijalaridan xulosa qilib aytishimiz mumkinki, modelning aniqliligi yaxshi, albatta yanada yaxshilash mumkin."
   ]
  },
  {
   "cell_type": "code",
   "execution_count": 63,
   "metadata": {},
   "outputs": [],
   "source": [
    "from sklearn.linear_model import LogisticRegression"
   ]
  },
  {
   "cell_type": "code",
   "execution_count": 64,
   "metadata": {},
   "outputs": [],
   "source": [
    "logisticRegr = LogisticRegression()"
   ]
  },
  {
   "cell_type": "code",
   "execution_count": 65,
   "metadata": {},
   "outputs": [
    {
     "name": "stderr",
     "output_type": "stream",
     "text": [
      "/Users/admin/opt/anaconda3/lib/python3.8/site-packages/sklearn/utils/validation.py:72: DataConversionWarning: A column-vector y was passed when a 1d array was expected. Please change the shape of y to (n_samples, ), for example using ravel().\n",
      "  return f(**kwargs)\n"
     ]
    },
    {
     "data": {
      "text/plain": [
       "LogisticRegression()"
      ]
     },
     "execution_count": 65,
     "metadata": {},
     "output_type": "execute_result"
    }
   ],
   "source": [
    "logisticRegr.fit(X_train, Y_train)"
   ]
  },
  {
   "cell_type": "code",
   "execution_count": 66,
   "metadata": {},
   "outputs": [
    {
     "data": {
      "text/plain": [
       "array([1.])"
      ]
     },
     "execution_count": 66,
     "metadata": {},
     "output_type": "execute_result"
    }
   ],
   "source": [
    "logisticRegr.predict(X_test[0].reshape(1,-1))"
   ]
  },
  {
   "cell_type": "code",
   "execution_count": 67,
   "metadata": {
    "scrolled": true
   },
   "outputs": [
    {
     "name": "stdout",
     "output_type": "stream",
     "text": [
      "0.7727272727272727\n"
     ]
    }
   ],
   "source": [
    "score = logisticRegr.score(X_test, Y_test)\n",
    "print(score)"
   ]
  },
  {
   "cell_type": "code",
   "execution_count": 68,
   "metadata": {},
   "outputs": [],
   "source": [
    "skl_y = logisticRegr.predict(X_test)"
   ]
  },
  {
   "cell_type": "code",
   "execution_count": 69,
   "metadata": {},
   "outputs": [],
   "source": [
    "our_y = logistic_regression_function(X_test, A)"
   ]
  },
  {
   "cell_type": "code",
   "execution_count": 70,
   "metadata": {},
   "outputs": [],
   "source": [
    "from sklearn.metrics import f1_score"
   ]
  },
  {
   "cell_type": "code",
   "execution_count": 71,
   "metadata": {},
   "outputs": [
    {
     "data": {
      "text/plain": [
       "0.7336298492710649"
      ]
     },
     "execution_count": 71,
     "metadata": {},
     "output_type": "execute_result"
    }
   ],
   "source": [
    "f1_score(Y_test, skl_y, average='macro')"
   ]
  },
  {
   "cell_type": "code",
   "execution_count": 72,
   "metadata": {},
   "outputs": [],
   "source": [
    "def softmax_(x):\n",
    "    if x > 0.5:\n",
    "        return 1\n",
    "    else:\n",
    "        return 0"
   ]
  },
  {
   "cell_type": "code",
   "execution_count": 73,
   "metadata": {},
   "outputs": [],
   "source": [
    "n_our_y = np.array([softmax_(xi) for xi in our_y])"
   ]
  },
  {
   "cell_type": "code",
   "execution_count": 74,
   "metadata": {},
   "outputs": [
    {
     "data": {
      "text/plain": [
       "0.724398488765162"
      ]
     },
     "execution_count": 74,
     "metadata": {},
     "output_type": "execute_result"
    }
   ],
   "source": [
    "f1_score(Y_test, n_our_y, average='macro')"
   ]
  },
  {
   "cell_type": "code",
   "execution_count": 75,
   "metadata": {},
   "outputs": [],
   "source": [
    "y_size = n_our_y.shape[0]"
   ]
  },
  {
   "cell_type": "code",
   "execution_count": 76,
   "metadata": {},
   "outputs": [
    {
     "data": {
      "text/plain": [
       "154"
      ]
     },
     "execution_count": 76,
     "metadata": {},
     "output_type": "execute_result"
    }
   ],
   "source": [
    "y_size"
   ]
  },
  {
   "cell_type": "code",
   "execution_count": 78,
   "metadata": {
    "scrolled": true
   },
   "outputs": [
    {
     "name": "stdout",
     "output_type": "stream",
     "text": [
      "our: 1, sk: 1, actual: 1\n",
      "our: 0, sk: 0, actual: 0\n",
      "our: 0, sk: 0, actual: 0\n",
      "our: 0, sk: 0, actual: 0\n",
      "our: 0, sk: 1, actual: 1\n",
      "our: 0, sk: 0, actual: 1\n",
      "our: 0, sk: 0, actual: 0\n",
      "our: 0, sk: 0, actual: 0\n",
      "our: 1, sk: 1, actual: 0\n",
      "our: 0, sk: 0, actual: 0\n",
      "our: 0, sk: 0, actual: 0\n",
      "our: 0, sk: 0, actual: 0\n",
      "our: 0, sk: 0, actual: 0\n",
      "our: 0, sk: 0, actual: 0\n",
      "our: 0, sk: 0, actual: 0\n",
      "our: 0, sk: 0, actual: 0\n",
      "our: 0, sk: 0, actual: 1\n",
      "our: 0, sk: 0, actual: 0\n",
      "our: 0, sk: 0, actual: 0\n",
      "our: 0, sk: 0, actual: 0\n",
      "our: 0, sk: 0, actual: 0\n",
      "our: 0, sk: 0, actual: 1\n",
      "our: 0, sk: 0, actual: 0\n",
      "our: 0, sk: 0, actual: 0\n",
      "our: 0, sk: 0, actual: 1\n",
      "our: 0, sk: 0, actual: 0\n",
      "our: 0, sk: 0, actual: 0\n",
      "our: 0, sk: 0, actual: 0\n",
      "our: 0, sk: 0, actual: 1\n",
      "our: 0, sk: 0, actual: 0\n",
      "our: 0, sk: 0, actual: 0\n",
      "our: 1, sk: 1, actual: 0\n",
      "our: 0, sk: 0, actual: 1\n",
      "our: 1, sk: 1, actual: 1\n",
      "our: 0, sk: 0, actual: 1\n",
      "our: 0, sk: 0, actual: 0\n",
      "our: 0, sk: 0, actual: 0\n",
      "our: 0, sk: 0, actual: 0\n",
      "our: 0, sk: 0, actual: 0\n",
      "our: 0, sk: 0, actual: 0\n",
      "our: 0, sk: 0, actual: 0\n",
      "our: 1, sk: 1, actual: 1\n",
      "our: 0, sk: 0, actual: 0\n",
      "our: 0, sk: 0, actual: 0\n",
      "our: 1, sk: 1, actual: 0\n",
      "our: 0, sk: 0, actual: 1\n",
      "our: 1, sk: 1, actual: 0\n",
      "our: 1, sk: 1, actual: 1\n",
      "our: 1, sk: 1, actual: 1\n",
      "our: 1, sk: 1, actual: 1\n",
      "our: 0, sk: 0, actual: 1\n",
      "our: 0, sk: 0, actual: 0\n",
      "our: 1, sk: 1, actual: 1\n",
      "our: 0, sk: 0, actual: 1\n",
      "our: 0, sk: 0, actual: 0\n",
      "our: 1, sk: 1, actual: 0\n",
      "our: 1, sk: 1, actual: 0\n",
      "our: 0, sk: 0, actual: 0\n",
      "our: 0, sk: 0, actual: 0\n",
      "our: 1, sk: 1, actual: 0\n",
      "our: 0, sk: 0, actual: 0\n",
      "our: 1, sk: 1, actual: 1\n",
      "our: 1, sk: 1, actual: 1\n",
      "our: 0, sk: 0, actual: 0\n",
      "our: 0, sk: 0, actual: 1\n",
      "our: 0, sk: 0, actual: 0\n",
      "our: 0, sk: 0, actual: 0\n",
      "our: 1, sk: 1, actual: 1\n",
      "our: 0, sk: 0, actual: 0\n",
      "our: 0, sk: 0, actual: 1\n",
      "our: 0, sk: 0, actual: 0\n",
      "our: 0, sk: 0, actual: 0\n",
      "our: 0, sk: 0, actual: 0\n",
      "our: 0, sk: 0, actual: 0\n",
      "our: 0, sk: 0, actual: 0\n",
      "our: 1, sk: 1, actual: 1\n",
      "our: 0, sk: 0, actual: 0\n",
      "our: 1, sk: 1, actual: 1\n",
      "our: 0, sk: 0, actual: 0\n",
      "our: 1, sk: 1, actual: 1\n",
      "our: 0, sk: 0, actual: 0\n",
      "our: 0, sk: 0, actual: 1\n",
      "our: 1, sk: 1, actual: 1\n",
      "our: 0, sk: 0, actual: 0\n",
      "our: 0, sk: 0, actual: 0\n",
      "our: 1, sk: 1, actual: 0\n",
      "our: 0, sk: 0, actual: 0\n",
      "our: 0, sk: 0, actual: 1\n",
      "our: 1, sk: 1, actual: 1\n",
      "our: 1, sk: 1, actual: 0\n",
      "our: 0, sk: 0, actual: 0\n",
      "our: 0, sk: 0, actual: 0\n",
      "our: 0, sk: 0, actual: 1\n",
      "our: 0, sk: 0, actual: 0\n",
      "our: 1, sk: 1, actual: 1\n",
      "our: 0, sk: 0, actual: 1\n",
      "our: 0, sk: 0, actual: 0\n",
      "our: 0, sk: 0, actual: 0\n",
      "our: 1, sk: 1, actual: 1\n",
      "our: 0, sk: 0, actual: 0\n",
      "our: 0, sk: 0, actual: 0\n",
      "our: 1, sk: 1, actual: 1\n",
      "our: 1, sk: 1, actual: 1\n",
      "our: 0, sk: 0, actual: 0\n",
      "our: 0, sk: 0, actual: 0\n",
      "our: 0, sk: 0, actual: 1\n",
      "our: 0, sk: 0, actual: 0\n",
      "our: 0, sk: 0, actual: 0\n",
      "our: 0, sk: 0, actual: 1\n",
      "our: 0, sk: 0, actual: 0\n",
      "our: 0, sk: 0, actual: 0\n",
      "our: 0, sk: 0, actual: 0\n",
      "our: 0, sk: 0, actual: 0\n",
      "our: 0, sk: 0, actual: 0\n",
      "our: 0, sk: 0, actual: 0\n",
      "our: 0, sk: 0, actual: 0\n",
      "our: 0, sk: 0, actual: 1\n",
      "our: 0, sk: 0, actual: 1\n",
      "our: 1, sk: 1, actual: 1\n",
      "our: 0, sk: 0, actual: 0\n",
      "our: 0, sk: 0, actual: 0\n",
      "our: 0, sk: 0, actual: 0\n",
      "our: 0, sk: 0, actual: 0\n",
      "our: 0, sk: 0, actual: 0\n",
      "our: 0, sk: 0, actual: 0\n",
      "our: 0, sk: 0, actual: 1\n",
      "our: 1, sk: 1, actual: 1\n",
      "our: 0, sk: 0, actual: 0\n",
      "our: 0, sk: 0, actual: 0\n",
      "our: 1, sk: 1, actual: 1\n",
      "our: 1, sk: 1, actual: 0\n",
      "our: 0, sk: 0, actual: 0\n",
      "our: 1, sk: 1, actual: 1\n",
      "our: 0, sk: 0, actual: 0\n",
      "our: 1, sk: 1, actual: 1\n",
      "our: 0, sk: 0, actual: 1\n",
      "our: 1, sk: 1, actual: 1\n",
      "our: 0, sk: 0, actual: 0\n",
      "our: 0, sk: 0, actual: 0\n",
      "our: 1, sk: 1, actual: 1\n",
      "our: 1, sk: 1, actual: 1\n",
      "our: 0, sk: 0, actual: 1\n",
      "our: 0, sk: 0, actual: 0\n",
      "our: 0, sk: 0, actual: 1\n",
      "our: 0, sk: 0, actual: 0\n",
      "our: 1, sk: 1, actual: 1\n",
      "our: 0, sk: 0, actual: 0\n",
      "our: 1, sk: 1, actual: 1\n",
      "our: 0, sk: 0, actual: 0\n",
      "our: 0, sk: 0, actual: 0\n",
      "our: 0, sk: 0, actual: 0\n",
      "our: 0, sk: 0, actual: 0\n",
      "our: 0, sk: 0, actual: 1\n",
      "our: 0, sk: 0, actual: 0\n"
     ]
    }
   ],
   "source": [
    "for i in range(y_size):\n",
    "    print('our: %d, sk: %d, actual: %d'%(n_our_y[i], skl_y[i], Y_test[i]))"
   ]
  },
  {
   "cell_type": "code",
   "execution_count": 91,
   "metadata": {
    "scrolled": true
   },
   "outputs": [
    {
     "data": {
      "text/plain": [
       "154"
      ]
     },
     "execution_count": 91,
     "metadata": {},
     "output_type": "execute_result"
    }
   ],
   "source": [
    "n_t, _ = Y_test.shape\n",
    "n_t"
   ]
  },
  {
   "cell_type": "code",
   "execution_count": 98,
   "metadata": {},
   "outputs": [
    {
     "data": {
      "text/plain": [
       "array([[1.],\n",
       "       [0.],\n",
       "       [0.],\n",
       "       [0.],\n",
       "       [1.],\n",
       "       [1.],\n",
       "       [0.],\n",
       "       [0.],\n",
       "       [0.],\n",
       "       [0.],\n",
       "       [0.],\n",
       "       [0.],\n",
       "       [0.],\n",
       "       [0.],\n",
       "       [0.],\n",
       "       [0.],\n",
       "       [1.],\n",
       "       [0.],\n",
       "       [0.],\n",
       "       [0.],\n",
       "       [0.],\n",
       "       [1.],\n",
       "       [0.],\n",
       "       [0.],\n",
       "       [1.],\n",
       "       [0.],\n",
       "       [0.],\n",
       "       [0.],\n",
       "       [1.],\n",
       "       [0.],\n",
       "       [0.],\n",
       "       [0.],\n",
       "       [1.],\n",
       "       [1.],\n",
       "       [1.],\n",
       "       [0.],\n",
       "       [0.],\n",
       "       [0.],\n",
       "       [0.],\n",
       "       [0.],\n",
       "       [0.],\n",
       "       [1.],\n",
       "       [0.],\n",
       "       [0.],\n",
       "       [0.],\n",
       "       [1.],\n",
       "       [0.],\n",
       "       [1.],\n",
       "       [1.],\n",
       "       [1.],\n",
       "       [1.],\n",
       "       [0.],\n",
       "       [1.],\n",
       "       [1.],\n",
       "       [0.],\n",
       "       [0.],\n",
       "       [0.],\n",
       "       [0.],\n",
       "       [0.],\n",
       "       [0.],\n",
       "       [0.],\n",
       "       [1.],\n",
       "       [1.],\n",
       "       [0.],\n",
       "       [1.],\n",
       "       [0.],\n",
       "       [0.],\n",
       "       [1.],\n",
       "       [0.],\n",
       "       [1.],\n",
       "       [0.],\n",
       "       [0.],\n",
       "       [0.],\n",
       "       [0.],\n",
       "       [0.],\n",
       "       [1.],\n",
       "       [0.],\n",
       "       [1.],\n",
       "       [0.],\n",
       "       [1.],\n",
       "       [0.],\n",
       "       [1.],\n",
       "       [1.],\n",
       "       [0.],\n",
       "       [0.],\n",
       "       [0.],\n",
       "       [0.],\n",
       "       [1.],\n",
       "       [1.],\n",
       "       [0.],\n",
       "       [0.],\n",
       "       [0.],\n",
       "       [1.],\n",
       "       [0.],\n",
       "       [1.],\n",
       "       [1.],\n",
       "       [0.],\n",
       "       [0.],\n",
       "       [1.],\n",
       "       [0.],\n",
       "       [0.],\n",
       "       [1.],\n",
       "       [1.],\n",
       "       [0.],\n",
       "       [0.],\n",
       "       [1.],\n",
       "       [0.],\n",
       "       [0.],\n",
       "       [1.],\n",
       "       [0.],\n",
       "       [0.],\n",
       "       [0.],\n",
       "       [0.],\n",
       "       [0.],\n",
       "       [0.],\n",
       "       [0.],\n",
       "       [1.],\n",
       "       [1.],\n",
       "       [1.],\n",
       "       [0.],\n",
       "       [0.],\n",
       "       [0.],\n",
       "       [0.],\n",
       "       [0.],\n",
       "       [0.],\n",
       "       [1.],\n",
       "       [1.],\n",
       "       [0.],\n",
       "       [0.],\n",
       "       [1.],\n",
       "       [0.],\n",
       "       [0.],\n",
       "       [1.],\n",
       "       [0.],\n",
       "       [1.],\n",
       "       [1.],\n",
       "       [1.],\n",
       "       [0.],\n",
       "       [0.],\n",
       "       [1.],\n",
       "       [1.],\n",
       "       [1.],\n",
       "       [0.],\n",
       "       [1.],\n",
       "       [0.],\n",
       "       [1.],\n",
       "       [0.],\n",
       "       [1.],\n",
       "       [0.],\n",
       "       [0.],\n",
       "       [0.],\n",
       "       [0.],\n",
       "       [1.],\n",
       "       [0.]])"
      ]
     },
     "execution_count": 98,
     "metadata": {},
     "output_type": "execute_result"
    }
   ],
   "source": [
    "Y_test"
   ]
  },
  {
   "cell_type": "code",
   "execution_count": 99,
   "metadata": {},
   "outputs": [
    {
     "data": {
      "text/plain": [
       "(154,)"
      ]
     },
     "execution_count": 99,
     "metadata": {},
     "output_type": "execute_result"
    }
   ],
   "source": [
    "n_our_y.shape"
   ]
  },
  {
   "cell_type": "code",
   "execution_count": 100,
   "metadata": {},
   "outputs": [],
   "source": [
    "n_our_y = n_our_y.reshape(-1,1)"
   ]
  },
  {
   "cell_type": "code",
   "execution_count": 101,
   "metadata": {},
   "outputs": [
    {
     "data": {
      "text/plain": [
       "array([[1],\n",
       "       [0],\n",
       "       [0],\n",
       "       [0],\n",
       "       [0],\n",
       "       [0],\n",
       "       [0],\n",
       "       [0],\n",
       "       [1],\n",
       "       [0],\n",
       "       [0],\n",
       "       [0],\n",
       "       [0],\n",
       "       [0],\n",
       "       [0],\n",
       "       [0],\n",
       "       [0],\n",
       "       [0],\n",
       "       [0],\n",
       "       [0],\n",
       "       [0],\n",
       "       [0],\n",
       "       [0],\n",
       "       [0],\n",
       "       [0],\n",
       "       [0],\n",
       "       [0],\n",
       "       [0],\n",
       "       [0],\n",
       "       [0],\n",
       "       [0],\n",
       "       [1],\n",
       "       [0],\n",
       "       [1],\n",
       "       [0],\n",
       "       [0],\n",
       "       [0],\n",
       "       [0],\n",
       "       [0],\n",
       "       [0],\n",
       "       [0],\n",
       "       [1],\n",
       "       [0],\n",
       "       [0],\n",
       "       [1],\n",
       "       [0],\n",
       "       [1],\n",
       "       [1],\n",
       "       [1],\n",
       "       [1],\n",
       "       [0],\n",
       "       [0],\n",
       "       [1],\n",
       "       [0],\n",
       "       [0],\n",
       "       [1],\n",
       "       [1],\n",
       "       [0],\n",
       "       [0],\n",
       "       [1],\n",
       "       [0],\n",
       "       [1],\n",
       "       [1],\n",
       "       [0],\n",
       "       [0],\n",
       "       [0],\n",
       "       [0],\n",
       "       [1],\n",
       "       [0],\n",
       "       [0],\n",
       "       [0],\n",
       "       [0],\n",
       "       [0],\n",
       "       [0],\n",
       "       [0],\n",
       "       [1],\n",
       "       [0],\n",
       "       [1],\n",
       "       [0],\n",
       "       [1],\n",
       "       [0],\n",
       "       [0],\n",
       "       [1],\n",
       "       [0],\n",
       "       [0],\n",
       "       [1],\n",
       "       [0],\n",
       "       [0],\n",
       "       [1],\n",
       "       [1],\n",
       "       [0],\n",
       "       [0],\n",
       "       [0],\n",
       "       [0],\n",
       "       [1],\n",
       "       [0],\n",
       "       [0],\n",
       "       [0],\n",
       "       [1],\n",
       "       [0],\n",
       "       [0],\n",
       "       [1],\n",
       "       [1],\n",
       "       [0],\n",
       "       [0],\n",
       "       [0],\n",
       "       [0],\n",
       "       [0],\n",
       "       [0],\n",
       "       [0],\n",
       "       [0],\n",
       "       [0],\n",
       "       [0],\n",
       "       [0],\n",
       "       [0],\n",
       "       [0],\n",
       "       [0],\n",
       "       [0],\n",
       "       [1],\n",
       "       [0],\n",
       "       [0],\n",
       "       [0],\n",
       "       [0],\n",
       "       [0],\n",
       "       [0],\n",
       "       [0],\n",
       "       [1],\n",
       "       [0],\n",
       "       [0],\n",
       "       [1],\n",
       "       [1],\n",
       "       [0],\n",
       "       [1],\n",
       "       [0],\n",
       "       [1],\n",
       "       [0],\n",
       "       [1],\n",
       "       [0],\n",
       "       [0],\n",
       "       [1],\n",
       "       [1],\n",
       "       [0],\n",
       "       [0],\n",
       "       [0],\n",
       "       [0],\n",
       "       [1],\n",
       "       [0],\n",
       "       [1],\n",
       "       [0],\n",
       "       [0],\n",
       "       [0],\n",
       "       [0],\n",
       "       [0],\n",
       "       [0]])"
      ]
     },
     "execution_count": 101,
     "metadata": {},
     "output_type": "execute_result"
    }
   ],
   "source": [
    "n_our_y"
   ]
  },
  {
   "cell_type": "code",
   "execution_count": 102,
   "metadata": {},
   "outputs": [],
   "source": [
    "skl_y = skl_y.reshape(-1, 1)"
   ]
  },
  {
   "cell_type": "code",
   "execution_count": 103,
   "metadata": {},
   "outputs": [
    {
     "data": {
      "text/plain": [
       "array([[1.],\n",
       "       [0.],\n",
       "       [0.],\n",
       "       [0.],\n",
       "       [1.],\n",
       "       [0.],\n",
       "       [0.],\n",
       "       [0.],\n",
       "       [1.],\n",
       "       [0.],\n",
       "       [0.],\n",
       "       [0.],\n",
       "       [0.],\n",
       "       [0.],\n",
       "       [0.],\n",
       "       [0.],\n",
       "       [0.],\n",
       "       [0.],\n",
       "       [0.],\n",
       "       [0.],\n",
       "       [0.],\n",
       "       [0.],\n",
       "       [0.],\n",
       "       [0.],\n",
       "       [0.],\n",
       "       [0.],\n",
       "       [0.],\n",
       "       [0.],\n",
       "       [0.],\n",
       "       [0.],\n",
       "       [0.],\n",
       "       [1.],\n",
       "       [0.],\n",
       "       [1.],\n",
       "       [0.],\n",
       "       [0.],\n",
       "       [0.],\n",
       "       [0.],\n",
       "       [0.],\n",
       "       [0.],\n",
       "       [0.],\n",
       "       [1.],\n",
       "       [0.],\n",
       "       [0.],\n",
       "       [1.],\n",
       "       [0.],\n",
       "       [1.],\n",
       "       [1.],\n",
       "       [1.],\n",
       "       [1.],\n",
       "       [0.],\n",
       "       [0.],\n",
       "       [1.],\n",
       "       [0.],\n",
       "       [0.],\n",
       "       [1.],\n",
       "       [1.],\n",
       "       [0.],\n",
       "       [0.],\n",
       "       [1.],\n",
       "       [0.],\n",
       "       [1.],\n",
       "       [1.],\n",
       "       [0.],\n",
       "       [0.],\n",
       "       [0.],\n",
       "       [0.],\n",
       "       [1.],\n",
       "       [0.],\n",
       "       [0.],\n",
       "       [0.],\n",
       "       [0.],\n",
       "       [0.],\n",
       "       [0.],\n",
       "       [0.],\n",
       "       [1.],\n",
       "       [0.],\n",
       "       [1.],\n",
       "       [0.],\n",
       "       [1.],\n",
       "       [0.],\n",
       "       [0.],\n",
       "       [1.],\n",
       "       [0.],\n",
       "       [0.],\n",
       "       [1.],\n",
       "       [0.],\n",
       "       [0.],\n",
       "       [1.],\n",
       "       [1.],\n",
       "       [0.],\n",
       "       [0.],\n",
       "       [0.],\n",
       "       [0.],\n",
       "       [1.],\n",
       "       [0.],\n",
       "       [0.],\n",
       "       [0.],\n",
       "       [1.],\n",
       "       [0.],\n",
       "       [0.],\n",
       "       [1.],\n",
       "       [1.],\n",
       "       [0.],\n",
       "       [0.],\n",
       "       [0.],\n",
       "       [0.],\n",
       "       [0.],\n",
       "       [0.],\n",
       "       [0.],\n",
       "       [0.],\n",
       "       [0.],\n",
       "       [0.],\n",
       "       [0.],\n",
       "       [0.],\n",
       "       [0.],\n",
       "       [0.],\n",
       "       [0.],\n",
       "       [1.],\n",
       "       [0.],\n",
       "       [0.],\n",
       "       [0.],\n",
       "       [0.],\n",
       "       [0.],\n",
       "       [0.],\n",
       "       [0.],\n",
       "       [1.],\n",
       "       [0.],\n",
       "       [0.],\n",
       "       [1.],\n",
       "       [1.],\n",
       "       [0.],\n",
       "       [1.],\n",
       "       [0.],\n",
       "       [1.],\n",
       "       [0.],\n",
       "       [1.],\n",
       "       [0.],\n",
       "       [0.],\n",
       "       [1.],\n",
       "       [1.],\n",
       "       [0.],\n",
       "       [0.],\n",
       "       [0.],\n",
       "       [0.],\n",
       "       [1.],\n",
       "       [0.],\n",
       "       [1.],\n",
       "       [0.],\n",
       "       [0.],\n",
       "       [0.],\n",
       "       [0.],\n",
       "       [0.],\n",
       "       [0.]])"
      ]
     },
     "execution_count": 103,
     "metadata": {},
     "output_type": "execute_result"
    }
   ],
   "source": [
    "skl_y"
   ]
  },
  {
   "cell_type": "code",
   "execution_count": 104,
   "metadata": {},
   "outputs": [
    {
     "name": "stdout",
     "output_type": "stream",
     "text": [
      "o_c: 118, oc_p: 76, sc: 119, sc_p: 77\n"
     ]
    }
   ],
   "source": [
    "o_c = np.count_nonzero(n_our_y == Y_test)\n",
    "s_c = np.count_nonzero(skl_y == Y_test)\n",
    "\n",
    "o_c_p = 100 * o_c / n_t\n",
    "s_c_p = 100 * s_c / n_t\n",
    "\n",
    "print('o_c: %d, oc_p: %d, sc: %d, sc_p: %d'%(o_c, o_c_p, s_c, s_c_p))"
   ]
  },
  {
   "cell_type": "code",
   "execution_count": 72,
   "metadata": {},
   "outputs": [],
   "source": [
    "y_train_our = sigmoid(z_function(X_train, A))"
   ]
  },
  {
   "cell_type": "code",
   "execution_count": 73,
   "metadata": {},
   "outputs": [],
   "source": [
    "y_train_sk = logisticRegr.predict(X_train)"
   ]
  },
  {
   "cell_type": "code",
   "execution_count": 74,
   "metadata": {},
   "outputs": [
    {
     "data": {
      "text/plain": [
       "0.7423479462875197"
      ]
     },
     "execution_count": 74,
     "metadata": {},
     "output_type": "execute_result"
    }
   ],
   "source": [
    "f1_score(Y_train, y_train_sk, average='macro')"
   ]
  },
  {
   "cell_type": "code",
   "execution_count": 76,
   "metadata": {},
   "outputs": [],
   "source": [
    "y_train_our = np.array([softmax_(xi) for xi in y_train_our])"
   ]
  },
  {
   "cell_type": "code",
   "execution_count": 77,
   "metadata": {},
   "outputs": [
    {
     "data": {
      "text/plain": [
       "0.7392957798481286"
      ]
     },
     "execution_count": 77,
     "metadata": {},
     "output_type": "execute_result"
    }
   ],
   "source": [
    "f1_score(Y_train, y_train_our, average='macro')"
   ]
  },
  {
   "cell_type": "code",
   "execution_count": 79,
   "metadata": {},
   "outputs": [
    {
     "data": {
      "text/plain": [
       "{'C': 1.0,\n",
       " 'class_weight': None,\n",
       " 'dual': False,\n",
       " 'fit_intercept': True,\n",
       " 'intercept_scaling': 1,\n",
       " 'l1_ratio': None,\n",
       " 'max_iter': 100,\n",
       " 'multi_class': 'auto',\n",
       " 'n_jobs': None,\n",
       " 'penalty': 'l2',\n",
       " 'random_state': None,\n",
       " 'solver': 'lbfgs',\n",
       " 'tol': 0.0001,\n",
       " 'verbose': 0,\n",
       " 'warm_start': False}"
      ]
     },
     "execution_count": 79,
     "metadata": {},
     "output_type": "execute_result"
    }
   ],
   "source": [
    "logisticRegr.get_params()"
   ]
  },
  {
   "cell_type": "code",
   "execution_count": 89,
   "metadata": {},
   "outputs": [
    {
     "data": {
      "text/plain": [
       "array([[ 0.00001111,  1.01800167, -0.19108521, -0.03866117, -0.1095574 ,\n",
       "         0.78527211,  0.32401458,  0.31336677]])"
      ]
     },
     "execution_count": 89,
     "metadata": {},
     "output_type": "execute_result"
    }
   ],
   "source": [
    "np.set_printoptions(suppress=True)\n",
    "\n",
    "logisticRegr.coef_"
   ]
  },
  {
   "cell_type": "code",
   "execution_count": 81,
   "metadata": {},
   "outputs": [
    {
     "data": {
      "text/plain": [
       "array([[-0.864489  ],\n",
       "       [ 1.02318199],\n",
       "       [-0.19323141],\n",
       "       [-0.04243053],\n",
       "       [-0.10775674],\n",
       "       [ 0.79257005],\n",
       "       [ 0.32593468],\n",
       "       [ 0.3160319 ]])"
      ]
     },
     "execution_count": 81,
     "metadata": {},
     "output_type": "execute_result"
    }
   ],
   "source": [
    "A"
   ]
  },
  {
   "cell_type": "code",
   "execution_count": null,
   "metadata": {},
   "outputs": [],
   "source": []
  }
 ],
 "metadata": {
  "kernelspec": {
   "display_name": "Python 3",
   "language": "python",
   "name": "python3"
  },
  "language_info": {
   "codemirror_mode": {
    "name": "ipython",
    "version": 3
   },
   "file_extension": ".py",
   "mimetype": "text/x-python",
   "name": "python",
   "nbconvert_exporter": "python",
   "pygments_lexer": "ipython3",
   "version": "3.8.5"
  }
 },
 "nbformat": 4,
 "nbformat_minor": 4
}
